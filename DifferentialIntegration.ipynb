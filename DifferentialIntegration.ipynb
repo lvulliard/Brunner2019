{
 "cells": [
  {
   "cell_type": "markdown",
   "metadata": {},
   "source": [
    "# RNA + MS data integration"
   ]
  },
  {
   "cell_type": "code",
   "execution_count": 1,
   "metadata": {},
   "outputs": [
    {
     "name": "stderr",
     "output_type": "stream",
     "text": [
      "Warning message:\n",
      "“package ‘VennDiagram’ was built under R version 3.4.4”Loading required package: grid\n",
      "Loading required package: futile.logger\n"
     ]
    }
   ],
   "source": [
    "library(RColorBrewer)\n",
    "library(VennDiagram)"
   ]
  },
  {
   "cell_type": "code",
   "execution_count": 2,
   "metadata": {
    "collapsed": true
   },
   "outputs": [],
   "source": [
    "# Load transformed MS data with t-test results\n",
    "protFiltered = read.table(\"Perseus_run/ProteinsTTestFiltered.txt\", sep = \"\\t\", head=T, quote=\"\")"
   ]
  },
  {
   "cell_type": "code",
   "execution_count": 3,
   "metadata": {
    "collapsed": true
   },
   "outputs": [],
   "source": [
    "names(protFiltered)[2] <- \"LogPvalue\"\n",
    "# Color for significant abundance changes\n",
    "protFiltered$color = ifelse(test = protFiltered$Difference > 0, \"#4A91C4\", \"#F09F4E\")\n",
    "protFiltered[protFiltered$Significant != \"+\", 99] = \"grey\"\n",
    "protFiltered$Gene.names <- as.character(protFiltered$Gene.names)\n",
    "# Keep only the first gene name when several are provided\n",
    "protFiltered[,7] <- sub(\";.*\", \"\", protFiltered[,7])"
   ]
  },
  {
   "cell_type": "code",
   "execution_count": 4,
   "metadata": {
    "collapsed": true
   },
   "outputs": [],
   "source": [
    "listDownMS = protFiltered[protFiltered$color == \"#4A91C4\",7]\n",
    "listUpMS = protFiltered[protFiltered$color == \"#F09F4E\",7]"
   ]
  },
  {
   "cell_type": "code",
   "execution_count": 5,
   "metadata": {
    "collapsed": true
   },
   "outputs": [],
   "source": [
    "load(\"RNAlists.diff\")"
   ]
  },
  {
   "cell_type": "code",
   "execution_count": 6,
   "metadata": {
    "collapsed": true
   },
   "outputs": [],
   "source": [
    "drawVennFromList = function(a, b, c, d, ...){\n",
    "    draw.quad.venn(length(a), length(b), length(c), length(d),\n",
    "        length(intersect(a, b)), length(intersect(a, c)), length(intersect(a, d)),\n",
    "        length(intersect(b, c)), length(intersect(b, d)), length(intersect(c, d)),\n",
    "        length(intersect(intersect(a, b), c)), length(intersect(intersect(a, b), d)),\n",
    "        length(intersect(intersect(a, c), d)), length(intersect(intersect(c, b), d)),\n",
    "        length(intersect(intersect(intersect(a, b), c), d)), ...)\n",
    "}"
   ]
  },
  {
   "cell_type": "code",
   "execution_count": 7,
   "metadata": {},
   "outputs": [
    {
     "data": {
      "text/plain": [
       "(polygon[GRID.polygon.1], polygon[GRID.polygon.2], polygon[GRID.polygon.3], polygon[GRID.polygon.4], polygon[GRID.polygon.5], polygon[GRID.polygon.6], polygon[GRID.polygon.7], polygon[GRID.polygon.8], text[GRID.text.9], text[GRID.text.10], text[GRID.text.11], text[GRID.text.12], text[GRID.text.13], text[GRID.text.14], text[GRID.text.15], text[GRID.text.16], text[GRID.text.17], text[GRID.text.18], text[GRID.text.19], text[GRID.text.20], text[GRID.text.21], text[GRID.text.22], text[GRID.text.23], text[GRID.text.24], text[GRID.text.25], text[GRID.text.26], text[GRID.text.27]) "
      ]
     },
     "metadata": {},
     "output_type": "display_data"
    },
    {
     "data": {
      "text/html": [
       "<strong>pdf:</strong> 2"
      ],
      "text/latex": [
       "\\textbf{pdf:} 2"
      ],
      "text/markdown": [
       "**pdf:** 2"
      ],
      "text/plain": [
       "pdf \n",
       "  2 "
      ]
     },
     "metadata": {},
     "output_type": "display_data"
    }
   ],
   "source": [
    "pdf(\"RNA_MS_overlap.pdf\")\n",
    "drawVennFromList(listDownMS, listDownRNA, listUpMS, listUpRNA, category = c(\"MS - down\", \"RNA-seq - down\", \"MS - up\", \"RNA-seq - up\"),\n",
    "                fill = brewer.pal(4, \"Paired\"), fontfamily = \"sans\", cat.fontfamily = \"sans\")\n",
    "dev.off()"
   ]
  },
  {
   "cell_type": "code",
   "execution_count": 9,
   "metadata": {},
   "outputs": [
    {
     "name": "stdout",
     "output_type": "stream",
     "text": [
      "Rrm2\n",
      "Jdp2\n",
      "Top2a\n",
      "Pde2a\n",
      "Gstt1\n",
      "Ivns1abp\n",
      "Ube2c\n"
     ]
    }
   ],
   "source": [
    "for (i in intersect(listDownMS, listDownRNA)) cat(paste0(i, \"\\n\"))"
   ]
  },
  {
   "cell_type": "code",
   "execution_count": 12,
   "metadata": {
    "scrolled": true
   },
   "outputs": [
    {
     "name": "stdout",
     "output_type": "stream",
     "text": [
      "Arhgap12\n",
      "Atg7\n",
      "Ppfibp2\n",
      "Psmb5\n",
      "Mthfd2\n",
      "Rbpj\n",
      "Hfe\n",
      "Vasp\n",
      "C1qc\n",
      "Iqgap2\n",
      "Tgfbrap1\n",
      "Stxbp3\n",
      "Asns\n",
      "Emr1\n",
      "Trmt61a\n",
      "Dennd6a\n",
      "Sgta\n",
      "9030624J02Rik\n",
      "Txnl1\n",
      "Yars\n",
      "Lpxn\n",
      "Snx2\n",
      "Iqgap1\n",
      "Sqrdl\n",
      "Ehd1\n",
      "Ktn1\n",
      "Nudt16\n",
      "Fcgr4\n",
      "Slfn9\n",
      "Acsl1\n",
      "Smc4\n",
      "Myo1e\n",
      "Nrp2\n",
      "F5\n",
      "Ltf\n",
      "Rrm2\n",
      "Mpo\n",
      "Ass1\n",
      "Alox15\n",
      "Msh2\n",
      "Epx\n",
      "Polr3b\n",
      "Tgfbi\n",
      "Jdp2\n",
      "Top2a\n",
      "Itprip\n",
      "Pde2a\n",
      "Lig1\n",
      "Phactr4\n",
      "Pes1\n",
      "Cluh\n",
      "Adck3\n",
      "Fscn1\n",
      "Tgtp1\n",
      "Gstt1\n",
      "Top2b\n",
      "Syne1\n",
      "Brd2\n",
      "Mybbp1a\n",
      "Prss34\n",
      "Bsdc1\n",
      "Nt5dc1\n",
      "Rrp9\n",
      "Ivns1abp\n",
      "Cyp4f3\n",
      "Serpinb1a\n",
      "Ube2c\n",
      "Cd97\n"
     ]
    }
   ],
   "source": [
    "for (i in union(listUpMS, listDownMS)) cat(paste0(i, \"\\n\"))"
   ]
  },
  {
   "cell_type": "code",
   "execution_count": 13,
   "metadata": {},
   "outputs": [
    {
     "name": "stdout",
     "output_type": "stream",
     "text": [
      "Mthfd2\n",
      "Asns\n"
     ]
    }
   ],
   "source": [
    "for (i in intersect(listUpMS, listUpRNA)) cat(paste0(i, \"\\n\"))"
   ]
  },
  {
   "cell_type": "code",
   "execution_count": null,
   "metadata": {
    "collapsed": true
   },
   "outputs": [],
   "source": []
  }
 ],
 "metadata": {
  "kernelspec": {
   "display_name": "R",
   "language": "R",
   "name": "ir"
  },
  "language_info": {
   "codemirror_mode": "r",
   "file_extension": ".r",
   "mimetype": "text/x-r-source",
   "name": "R",
   "pygments_lexer": "r",
   "version": "3.4.1"
  }
 },
 "nbformat": 4,
 "nbformat_minor": 2
}
