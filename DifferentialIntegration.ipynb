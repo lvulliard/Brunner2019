{
 "cells": [
  {
   "cell_type": "markdown",
   "metadata": {},
   "source": [
    "# RNA + MS data integration"
   ]
  },
  {
   "cell_type": "code",
   "execution_count": null,
   "metadata": {},
   "outputs": [],
   "source": [
    "library(RColorBrewer)\n",
    "library(VennDiagram)\n",
    "library(igraph)\n",
    "library(ggplot2)\n",
    "library(parallel) # 2.5 fold improvement in speed for networks overlap"
   ]
  },
  {
   "cell_type": "code",
   "execution_count": null,
   "metadata": {},
   "outputs": [],
   "source": [
    "set.seed(20)"
   ]
  },
  {
   "cell_type": "code",
   "execution_count": null,
   "metadata": {},
   "outputs": [],
   "source": [
    "# Load transformed MS data with t-test results\n",
    "protFiltered = read.table(\"Perseus_run/ProteinsTTestFiltered.txt\", sep = \"\\t\", head=T, quote=\"\")"
   ]
  },
  {
   "cell_type": "code",
   "execution_count": null,
   "metadata": {},
   "outputs": [],
   "source": [
    "names(protFiltered)[2] <- \"LogPvalue\"\n",
    "# Color for significant abundance changes\n",
    "protFiltered$color = ifelse(test = protFiltered$Difference > 0, \"#4A91C4\", \"#F09F4E\")\n",
    "protFiltered[protFiltered$Significant != \"+\", 99] = \"grey\"\n",
    "protFiltered$Gene.names <- as.character(protFiltered$Gene.names)\n",
    "# Keep only the first gene name when several are provided\n",
    "protFiltered[,7] <- sub(\";.*\", \"\", protFiltered[,7])"
   ]
  },
  {
   "cell_type": "code",
   "execution_count": null,
   "metadata": {},
   "outputs": [],
   "source": [
    "listDownMS = protFiltered[protFiltered$color == \"#4A91C4\",7]\n",
    "listUpMS = protFiltered[protFiltered$color == \"#F09F4E\",7]"
   ]
  },
  {
   "cell_type": "code",
   "execution_count": null,
   "metadata": {},
   "outputs": [],
   "source": [
    "load(\"RNAlists.diff\")"
   ]
  },
  {
   "cell_type": "code",
   "execution_count": null,
   "metadata": {},
   "outputs": [],
   "source": [
    "drawVennFromList = function(a, b, z = c(), d = c(), ...){\n",
    "    if (is.null(z)){\n",
    "        draw.pairwise.venn(length(a), length(b),\n",
    "            length(intersect(a, b)), ...)\n",
    "    }\n",
    "    else if (is.null(d)){\n",
    "        draw.triple.venn(length(a), length(b), length(z),\n",
    "            length(intersect(a, b)), length(intersect(b, z)), length(intersect(a, z)), \n",
    "            length(intersect(intersect(a, b), z)), ...)          \n",
    "    }\n",
    "    else{\n",
    "        draw.quad.venn(length(a), length(b), length(z), length(d),\n",
    "            length(intersect(a, b)), length(intersect(a, z)), length(intersect(a, d)),\n",
    "            length(intersect(b, z)), length(intersect(b, d)), length(intersect(z, d)),\n",
    "            length(intersect(intersect(a, b), z)), length(intersect(intersect(a, b), d)),\n",
    "            length(intersect(intersect(a, z), d)), length(intersect(intersect(z, b), d)),\n",
    "            length(intersect(intersect(intersect(a, b), z), d)), ...)  \n",
    "    }\n",
    "}"
   ]
  },
  {
   "cell_type": "code",
   "execution_count": null,
   "metadata": {},
   "outputs": [],
   "source": [
    "pdf(\"RNA_MS_overlap.pdf\")\n",
    "drawVennFromList(listDownMS, listDownRNA, listUpMS, listUpRNA, category = c(\"MS - down\", \"RNA-seq - down\", \"MS - up\", \"RNA-seq - up\"),\n",
    "                fill = brewer.pal(4, \"Paired\"), fontfamily = \"sans\", cat.fontfamily = \"sans\")\n",
    "dev.off()"
   ]
  },
  {
   "cell_type": "code",
   "execution_count": null,
   "metadata": {},
   "outputs": [],
   "source": [
    "for (i in intersect(listDownMS, listDownRNA)) cat(paste0(i, \"\\n\"))"
   ]
  },
  {
   "cell_type": "code",
   "execution_count": null,
   "metadata": {
    "scrolled": true
   },
   "outputs": [],
   "source": [
    "for (i in union(listUpMS, listDownMS)) cat(paste0(i, \"\\n\"))"
   ]
  },
  {
   "cell_type": "code",
   "execution_count": null,
   "metadata": {},
   "outputs": [],
   "source": [
    "for (i in intersect(listUpMS, listUpRNA)) cat(paste0(i, \"\\n\"))"
   ]
  },
  {
   "cell_type": "code",
   "execution_count": null,
   "metadata": {
    "scrolled": true
   },
   "outputs": [],
   "source": [
    "for (i in listUpRNA) cat(paste0(i, \"\\n\"))"
   ]
  },
  {
   "cell_type": "markdown",
   "metadata": {},
   "source": [
    "## Prepare PPI for Omics Integrator\n",
    "The PPI was obtained from BioGRID Release 3.4.160 as [all the interactions available for mice in the TAB2 format](https://downloads.thebiogrid.org/Download/BioGRID/Release-Archive/BIOGRID-3.4.160/BIOGRID-ORGANISM-3.4.160.tab2.zip)."
   ]
  },
  {
   "cell_type": "code",
   "execution_count": null,
   "metadata": {},
   "outputs": [],
   "source": [
    "PPI = read.table(\"OmicsIntegratorRun/BIOGRID-ORGANISM-Mus_musculus-3.4.160.tab2.txt\", sep = \"\\t\", header = T,\n",
    "                quote = '', na.strings = \"-\", comment.char = \"\")\n",
    "head(PPI[,c(8,9)])"
   ]
  },
  {
   "cell_type": "code",
   "execution_count": null,
   "metadata": {
    "scrolled": true
   },
   "outputs": [],
   "source": [
    "# NB: BioGrid provides interactions between mouse proteins and proteins from other organisms\n",
    "table(PPI$Organism.Interactor.A)\n",
    "table(PPI$Organism.Interactor.B)"
   ]
  },
  {
   "cell_type": "code",
   "execution_count": null,
   "metadata": {},
   "outputs": [],
   "source": [
    "PPI = PPI[which((PPI$Organism.Interactor.A == 10090)&(PPI$Organism.Interactor.B == 10090)),]"
   ]
  },
  {
   "cell_type": "code",
   "execution_count": null,
   "metadata": {},
   "outputs": [],
   "source": [
    "# Map an experimental system to a confidence score for direct PPI\n",
    "expScore = data.frame(levels(PPI$Experimental.System), c(0.2,0.2,0.2,0.2,0.99,0.5,0.2,0.2,0.2,\n",
    "  0,0,0.99,0.99,0,0.99,0,0,0,\n",
    "  0.99,0.2,0.2,0.99,0,0,0,0,0.99))\n",
    "expScore"
   ]
  },
  {
   "cell_type": "code",
   "execution_count": null,
   "metadata": {},
   "outputs": [],
   "source": [
    "PPI$expScore = expScore[PPI$Experimental.System,2] # Levels = row index in the lookup table"
   ]
  },
  {
   "cell_type": "code",
   "execution_count": null,
   "metadata": {},
   "outputs": [],
   "source": [
    "write.table(PPI[,c(8,9,25),], file = \"OmicsIntegratorRun/mousePPI.tsv\", col.names = F, row.names = F, sep = \"\\t\",\n",
    "            quote = F, dec = \".\")"
   ]
  },
  {
   "cell_type": "markdown",
   "metadata": {},
   "source": [
    "## Combine Omics Integrator networks\n",
    "We first combine the optimal forests for the three comparisons and export an annotated version of the union of these nodes and their direct neighbors, with all known edges between these nodes."
   ]
  },
  {
   "cell_type": "code",
   "execution_count": null,
   "metadata": {},
   "outputs": [],
   "source": [
    "recNodes = unique(unlist(read.table(\"OmicsIntegratorRun/recArg1_output/result_optimalForest.sif\")[,c(1,3)]))\n",
    "ranklNodes = unique(unlist(read.table(\"OmicsIntegratorRun/ranklDiff_output/result_optimalForest.sif\")[,c(1,3)]))"
   ]
  },
  {
   "cell_type": "code",
   "execution_count": null,
   "metadata": {
    "scrolled": false
   },
   "outputs": [],
   "source": [
    "drawVennFromList(recNodes, ranklNodes, category = c(\"recArg1\", \"RANKL\"),\n",
    "                fill = c(\"tomato2\", \"darkgreen\"), fontfamily = \"sans\", cat.fontfamily = \"sans\")"
   ]
  },
  {
   "cell_type": "code",
   "execution_count": null,
   "metadata": {},
   "outputs": [],
   "source": [
    "# forestNodes = union(union(recNodes, ranklNodes), deplNodes)\n",
    "forestNodes = union(recNodes, ranklNodes)\n",
    "PPI$Official.Symbol.Interactor.A = as.character(PPI$Official.Symbol.Interactor.A)\n",
    "PPI$Official.Symbol.Interactor.B = as.character(PPI$Official.Symbol.Interactor.B)\n",
    "neighbors = union(PPI$Official.Symbol.Interactor.B[PPI$Official.Symbol.Interactor.A %in% forestNodes],\n",
    "PPI$Official.Symbol.Interactor.A[PPI$Official.Symbol.Interactor.B %in% forestNodes])\n",
    "allNodes = union(forestNodes, neighbors)\n",
    "length(allNodes)"
   ]
  },
  {
   "cell_type": "code",
   "execution_count": null,
   "metadata": {},
   "outputs": [],
   "source": [
    "interactionsWithNeighbors = ((PPI$Official.Symbol.Interactor.A %in% allNodes) | (PPI$Official.Symbol.Interactor.B %in% allNodes)) & \n",
    "    (PPI$Official.Symbol.Interactor.A != PPI$Official.Symbol.Interactor.B)\n",
    "neighborsPPI = graph_from_edgelist(as.matrix(PPI[interactionsWithNeighbors, c(8,9)]), directed = F)\n",
    "A = as.matrix(as_adjacency_matrix(neighborsPPI))"
   ]
  },
  {
   "cell_type": "code",
   "execution_count": null,
   "metadata": {},
   "outputs": [],
   "source": [
    "allNodes = union(names(which(colSums(A[rownames(A) %in% forestNodes,]) >= 2)), forestNodes)\n",
    "length(allNodes)"
   ]
  },
  {
   "cell_type": "code",
   "execution_count": null,
   "metadata": {},
   "outputs": [],
   "source": [
    "interactionsWithForests = ((PPI$Official.Symbol.Interactor.A %in% allNodes) & (PPI$Official.Symbol.Interactor.B %in% allNodes)) & \n",
    "    (PPI$Official.Symbol.Interactor.A != PPI$Official.Symbol.Interactor.B)\n",
    "expandedForest = graph_from_edgelist(as.matrix(PPI[interactionsWithForests, c(8,9)]), directed = F)\n",
    "all(names(V(expandedForest)) %in% allNodes)"
   ]
  },
  {
   "cell_type": "code",
   "execution_count": null,
   "metadata": {},
   "outputs": [],
   "source": [
    "nodeType = rep(0, vcount(expandedForest))\n",
    "nodeType = nodeType + sapply(names(V(expandedForest)), function(x) ifelse(x %in% recNodes, 1, 0))\n",
    "nodeType = nodeType + sapply(names(V(expandedForest)), function(x) ifelse(x %in% ranklNodes, 2, 0))\n",
    "table(nodeType)\n",
    "expandedForest = set_vertex_attr(expandedForest, name = \"nodeType\", value = nodeType) "
   ]
  },
  {
   "cell_type": "markdown",
   "metadata": {},
   "source": [
    "## Add edge types to optimal forests graph"
   ]
  },
  {
   "cell_type": "code",
   "execution_count": null,
   "metadata": {
    "scrolled": true
   },
   "outputs": [],
   "source": [
    "# Keep only interaction between forest nodes\n",
    "forestSubPPI = PPI[(PPI$Official.Symbol.Interactor.A %in% forestNodes)&(PPI$Official.Symbol.Interactor.B %in% forestNodes),]\n",
    "\n",
    "pasteSorted <- function(line){\n",
    "    return(paste(sort(line), collapse = \"_\"))\n",
    "}\n",
    "\n",
    "# Keep list of edges in sub-PPI as strings\n",
    "forestEdges = apply(forestSubPPI[,c(8,9)], 1, pasteSorted)"
   ]
  },
  {
   "cell_type": "code",
   "execution_count": null,
   "metadata": {},
   "outputs": [],
   "source": [
    "# Keep list of edges in each analysis as strings\n",
    "recEdges = apply(read.table(\"OmicsIntegratorRun/recArg1_output/result_optimalForest.sif\")[,c(1,3)], 1,\n",
    "    pasteSorted)\n",
    "ranklEdges = apply(read.table(\"OmicsIntegratorRun/ranklDiff_output/result_optimalForest.sif\")[,c(1,3)], 1,\n",
    "    pasteSorted)"
   ]
  },
  {
   "cell_type": "code",
   "execution_count": null,
   "metadata": {},
   "outputs": [],
   "source": [
    "# Check that all edges in the analysis are actual edges in the PPI\n",
    "# all(all(recEdges %in% forestEdges), all(ranklEdges %in% forestEdges), all(deplEdges %in% forestEdges))\n",
    "all(all(recEdges %in% forestEdges), all(ranklEdges %in% forestEdges))"
   ]
  },
  {
   "cell_type": "code",
   "execution_count": null,
   "metadata": {},
   "outputs": [],
   "source": [
    "forest = graph_from_edgelist(as.matrix(PPI[as.character(rownames(forestSubPPI)),c(8,9)]), directed = F)"
   ]
  },
  {
   "cell_type": "code",
   "execution_count": null,
   "metadata": {},
   "outputs": [],
   "source": [
    "# Color nodes and edges based on the analyses they are found in\n",
    "edgeType = rep(0, ecount(forest))\n",
    "edgeType = edgeType + sapply(forestEdges, function(x) ifelse(x %in% recEdges, 1, 0))\n",
    "edgeType = edgeType + sapply(forestEdges, function(x) ifelse(x %in% ranklEdges, 2, 0))\n",
    "# edgeType = edgeType + sapply(forestEdges, function(x) ifelse(x %in% deplEdges, 4, 0))\n",
    "nodeType = rep(0, vcount(forest))\n",
    "nodeType = nodeType + sapply(names(V(forest)), function(x) ifelse(x %in% recNodes, 1, 0))\n",
    "nodeType = nodeType + sapply(names(V(forest)), function(x) ifelse(x %in% ranklNodes, 2, 0))\n",
    "# nodeType = nodeType + sapply(names(V(forest)), function(x) ifelse(x %in% deplNodes, 4, 0))"
   ]
  },
  {
   "cell_type": "code",
   "execution_count": null,
   "metadata": {
    "scrolled": true
   },
   "outputs": [],
   "source": [
    "forest = set_edge_attr(graph = forest, name = \"weight\", value = PPI[as.character(rownames(forestSubPPI)),25])\n",
    "forest = set_edge_attr(graph = forest, name = \"type\", value = edgeType)\n",
    "forest = set_vertex_attr(graph = forest, name = \"type\", value = nodeType)"
   ]
  },
  {
   "cell_type": "code",
   "execution_count": null,
   "metadata": {},
   "outputs": [],
   "source": [
    "library(jsonlite)\n",
    "library(stringr)\n",
    "# Import updated list of kegg pathways\n",
    "keggPath = fromJSON(\"https://www.kegg.jp/kegg-bin/download_htext?htext=mmu00001&format=json\", flatten = F)"
   ]
  },
  {
   "cell_type": "code",
   "execution_count": null,
   "metadata": {},
   "outputs": [],
   "source": [
    "# Extract all symbols for metabolism genes\n",
    "indexPathMetab = which(keggPath$children$name == '09100 Metabolism')\n",
    "pathMetab = unlist(sapply(keggPath$children$children[[indexPathMetab]]$children, function(x) str_match(x$name, \"mmu\\\\d{5}\")))\n",
    "pathMetab = unique(na.exclude(pathMetab))"
   ]
  },
  {
   "cell_type": "code",
   "execution_count": null,
   "metadata": {},
   "outputs": [],
   "source": [
    "getSymbol <- function(x){\n",
    "    str_remove(string = str_remove(string = str_match(x$name, ' [^ ;]*;'), pattern = ' '), pattern = ';')\n",
    "}\n",
    "symbolMetab = unique(unlist(sapply(keggPath$children$children[[indexPathMetab]]$children, \n",
    "                    function(x) sapply(x$children, getSymbol))))"
   ]
  },
  {
   "cell_type": "code",
   "execution_count": null,
   "metadata": {},
   "outputs": [],
   "source": [
    "# 9 out of 179 genes in the final graph are linked to metabolism\n",
    "table(names(V(forest)) %in% symbolMetab)\n",
    "names(V(forest))[which(names(V(forest)) %in% symbolMetab)]"
   ]
  },
  {
   "cell_type": "code",
   "execution_count": null,
   "metadata": {},
   "outputs": [],
   "source": [
    "forest = set_vertex_attr(graph = forest, name = \"metabo\", value = (names(V(forest)) %in% symbolMetab))\n",
    "forest = simplify(forest, edge.attr.comb = \"max\") # Remove self-loops and multiple edges\n",
    "# In case of multiple annotations, take the highest values (= best proof of interaction)"
   ]
  },
  {
   "cell_type": "code",
   "execution_count": null,
   "metadata": {},
   "outputs": [],
   "source": [
    "write_graph(forest, \"OmicsIntegratorRun/recAndRanklForestsColored.gml\", format = \"gml\")"
   ]
  },
  {
   "cell_type": "markdown",
   "metadata": {},
   "source": [
    "## Simulated network\n",
    "We want to generate a synthetic network will 2 independent connected components of sizes matched to the actual network, to be able to see if the overlap is similar or not."
   ]
  },
  {
   "cell_type": "code",
   "execution_count": null,
   "metadata": {},
   "outputs": [],
   "source": [
    "# Length of the original sets of nodes\n",
    "lSet1 = length(ranklNodes)\n",
    "lSet2 = length(recNodes)\n",
    "# Store full PPI\n",
    "igraphPPI = graph_from_edgelist(as.matrix(PPI[,c(8,9)]), directed = F)"
   ]
  },
  {
   "cell_type": "code",
   "execution_count": null,
   "metadata": {},
   "outputs": [],
   "source": [
    "# We want two subnetworks of size lSet1 and lSet2\n",
    "\n",
    "# https://stackoverflow.com/questions/33084860/sampling-subgraphs-from-different-sizes-using-igraph\n",
    "getSubnetwork <- function(subSize){\n",
    "    n <- vcount(igraphPPI)\n",
    "\n",
    "    # Determine which nodes fall in sufficiently large connected components\n",
    "    comp <- components(igraphPPI)\n",
    "    valid <- which(comp$csize[comp$membership] >= subSize)\n",
    "\n",
    "    # Seed node from which the subnetwork should be expanded\n",
    "    first.node <- sample(valid, 1)\n",
    "    used <- (1:n) == first.node  # Is this node selected?\n",
    "    neigh <- (1:n) %in% neighbors(igraphPPI, first.node)  # Does each node neighbor our selections?\n",
    "    for (i in 2:subSize) {\n",
    "      new.node <- sample(which(neigh & !used), 1)\n",
    "      used[new.node] <- TRUE\n",
    "      neigh[neighbors(igraphPPI, new.node)] <- TRUE\n",
    "    }\n",
    "    return(used)\n",
    "}"
   ]
  },
  {
   "cell_type": "code",
   "execution_count": null,
   "metadata": {},
   "outputs": [],
   "source": [
    "singleRunOvlp <- function(x){\n",
    "    nodSet1 = getSubnetwork(lSet1)\n",
    "    nodSet2 = getSubnetwork(lSet2)\n",
    "    return(sum(nodSet1 & nodSet2))\n",
    "}\n",
    "\n",
    "N = 2000\n",
    "ovlp <- unlist(mclapply(1:N, mc.cores=4, singleRunOvlp))"
   ]
  },
  {
   "cell_type": "code",
   "execution_count": null,
   "metadata": {},
   "outputs": [],
   "source": [
    "ovlp.pval = paste(\"p = \", sum(ovlp >= 8)/length(ovlp))"
   ]
  },
  {
   "cell_type": "code",
   "execution_count": null,
   "metadata": {},
   "outputs": [],
   "source": [
    "gp <- ggplot(data.frame(x = ovlp, c = (ovlp == 8)), aes(x, fill = c)) + geom_histogram(binwidth = 1) + theme_light() + xlab(\"Overlapping genes\") +\n",
    "    scale_fill_manual(values = c(\"#AAAAAA\", \"#4A91C4\"), guide = F) + annotate(\"text\", x = 10, y = 425, label = ovlp.pval, size = 7) +\n",
    "    ylab(\"Frequency\") + theme(panel.grid.minor=element_blank(), text=element_text(size=26, family=\"sans\"))\n",
    "ggsave(filename = \"network_overlap.svg\", plot = gp)"
   ]
  },
  {
   "cell_type": "raw",
   "metadata": {},
   "source": [
    "sessionInfo()"
   ]
  }
 ],
 "metadata": {
  "kernelspec": {
   "display_name": "R",
   "language": "R",
   "name": "ir"
  },
  "language_info": {
   "codemirror_mode": "r",
   "file_extension": ".r",
   "mimetype": "text/x-r-source",
   "name": "R",
   "pygments_lexer": "r",
   "version": "3.5.1"
  },
  "toc": {
   "base_numbering": 1,
   "nav_menu": {},
   "number_sections": false,
   "sideBar": false,
   "skip_h1_title": false,
   "title_cell": "Table of Contents",
   "title_sidebar": "Contents",
   "toc_cell": false,
   "toc_position": {},
   "toc_section_display": false,
   "toc_window_display": false
  }
 },
 "nbformat": 4,
 "nbformat_minor": 2
}
