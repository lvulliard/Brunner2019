{
 "cells": [
  {
   "cell_type": "markdown",
   "metadata": {},
   "source": [
    "# RNA + MS data integration"
   ]
  },
  {
   "cell_type": "code",
   "execution_count": 1,
   "metadata": {},
   "outputs": [
    {
     "name": "stderr",
     "output_type": "stream",
     "text": [
      "Warning message:\n",
      "“package ‘VennDiagram’ was built under R version 3.4.4”Loading required package: grid\n",
      "Loading required package: futile.logger\n"
     ]
    }
   ],
   "source": [
    "library(RColorBrewer)\n",
    "library(VennDiagram)"
   ]
  },
  {
   "cell_type": "code",
   "execution_count": 2,
   "metadata": {
    "collapsed": true
   },
   "outputs": [],
   "source": [
    "# Load transformed MS data with t-test results\n",
    "protFiltered = read.table(\"Perseus_run/ProteinsTTestFiltered.txt\", sep = \"\\t\", head=T, quote=\"\")"
   ]
  },
  {
   "cell_type": "code",
   "execution_count": 3,
   "metadata": {
    "collapsed": true
   },
   "outputs": [],
   "source": [
    "names(protFiltered)[2] <- \"LogPvalue\"\n",
    "# Color for significant abundance changes\n",
    "protFiltered$color = ifelse(test = protFiltered$Difference > 0, \"#4A91C4\", \"#F09F4E\")\n",
    "protFiltered[protFiltered$Significant != \"+\", 99] = \"grey\"\n",
    "protFiltered$Gene.names <- as.character(protFiltered$Gene.names)\n",
    "# Keep only the first gene name when several are provided\n",
    "protFiltered[,7] <- sub(\";.*\", \"\", protFiltered[,7])"
   ]
  },
  {
   "cell_type": "code",
   "execution_count": 4,
   "metadata": {
    "collapsed": true
   },
   "outputs": [],
   "source": [
    "listDownMS = protFiltered[protFiltered$color == \"#4A91C4\",7]\n",
    "listUpMS = protFiltered[protFiltered$color == \"#F09F4E\",7]"
   ]
  },
  {
   "cell_type": "code",
   "execution_count": 5,
   "metadata": {},
   "outputs": [],
   "source": [
    "load(\"RNAlists.diff\")"
   ]
  },
  {
   "cell_type": "code",
   "execution_count": 6,
   "metadata": {},
   "outputs": [],
   "source": [
    "drawVennFromList = function(a, b, c, d, ...){\n",
    "    draw.quad.venn(length(a), length(b), length(c), length(d),\n",
    "        length(intersect(a, b)), length(intersect(a, c)), length(intersect(a, d)),\n",
    "        length(intersect(b, c)), length(intersect(b, d)), length(intersect(c, d)),\n",
    "        length(intersect(intersect(a, b), c)), length(intersect(intersect(a, b), d)),\n",
    "        length(intersect(intersect(a, c), d)), length(intersect(intersect(c, b), d)),\n",
    "        length(intersect(intersect(intersect(a, b), c), d)), ...)\n",
    "}"
   ]
  },
  {
   "cell_type": "code",
   "execution_count": 7,
   "metadata": {},
   "outputs": [
    {
     "data": {
      "text/plain": [
       "(polygon[GRID.polygon.1], polygon[GRID.polygon.2], polygon[GRID.polygon.3], polygon[GRID.polygon.4], polygon[GRID.polygon.5], polygon[GRID.polygon.6], polygon[GRID.polygon.7], polygon[GRID.polygon.8], text[GRID.text.9], text[GRID.text.10], text[GRID.text.11], text[GRID.text.12], text[GRID.text.13], text[GRID.text.14], text[GRID.text.15], text[GRID.text.16], text[GRID.text.17], text[GRID.text.18], text[GRID.text.19], text[GRID.text.20], text[GRID.text.21], text[GRID.text.22], text[GRID.text.23], text[GRID.text.24], text[GRID.text.25], text[GRID.text.26], text[GRID.text.27]) "
      ]
     },
     "metadata": {},
     "output_type": "display_data"
    },
    {
     "data": {
      "text/html": [
       "<strong>pdf:</strong> 2"
      ],
      "text/latex": [
       "\\textbf{pdf:} 2"
      ],
      "text/markdown": [
       "**pdf:** 2"
      ],
      "text/plain": [
       "pdf \n",
       "  2 "
      ]
     },
     "metadata": {},
     "output_type": "display_data"
    }
   ],
   "source": [
    "pdf(\"RNA_MS_overlap.pdf\")\n",
    "drawVennFromList(listDownMS, listDownRNA, listUpMS, listUpRNA, category = c(\"MS - down\", \"RNA-seq - down\", \"MS - up\", \"RNA-seq - up\"),\n",
    "                fill = brewer.pal(4, \"Paired\"), fontfamily = \"sans\", cat.fontfamily = \"sans\")\n",
    "dev.off()"
   ]
  }
 ],
 "metadata": {
  "kernelspec": {
   "display_name": "R",
   "language": "R",
   "name": "ir"
  },
  "language_info": {
   "codemirror_mode": "r",
   "file_extension": ".r",
   "mimetype": "text/x-r-source",
   "name": "R",
   "pygments_lexer": "r",
   "version": "3.4.1"
  }
 },
 "nbformat": 4,
 "nbformat_minor": 2
}
