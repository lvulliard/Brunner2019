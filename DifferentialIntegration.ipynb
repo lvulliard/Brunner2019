{
 "cells": [
  {
   "cell_type": "markdown",
   "metadata": {},
   "source": [
    "# RNA + MS data integration"
   ]
  },
  {
   "cell_type": "code",
   "execution_count": 11,
   "metadata": {},
   "outputs": [
    {
     "name": "stderr",
     "output_type": "stream",
     "text": [
      "Warning message:\n",
      "“package ‘VennDiagram’ was built under R version 3.4.4”Loading required package: grid\n",
      "Loading required package: futile.logger\n"
     ]
    }
   ],
   "source": [
    "library(RColorBrewer)\n",
    "library(VennDiagram)"
   ]
  },
  {
   "cell_type": "code",
   "execution_count": 12,
   "metadata": {
    "collapsed": true
   },
   "outputs": [],
   "source": [
    "# Load transformed MS data with t-test results\n",
    "protFiltered = read.table(\"Perseus_run/ProteinsTTestFiltered.txt\", sep = \"\\t\", head=T, quote=\"\")"
   ]
  },
  {
   "cell_type": "code",
   "execution_count": 13,
   "metadata": {
    "collapsed": true
   },
   "outputs": [],
   "source": [
    "names(protFiltered)[2] <- \"LogPvalue\"\n",
    "# Color for significant abundance changes\n",
    "protFiltered$color = ifelse(test = protFiltered$Difference > 0, \"#4A91C4\", \"#F09F4E\")\n",
    "protFiltered[protFiltered$Significant != \"+\", 99] = \"grey\"\n",
    "protFiltered$Gene.names <- as.character(protFiltered$Gene.names)\n",
    "# Keep only the first gene name when several are provided\n",
    "protFiltered[,7] <- sub(\";.*\", \"\", protFiltered[,7])"
   ]
  },
  {
   "cell_type": "code",
   "execution_count": 14,
   "metadata": {
    "collapsed": true
   },
   "outputs": [],
   "source": [
    "listDownMS = protFiltered[protFiltered$color == \"#4A91C4\",7]\n",
    "listUpMS = protFiltered[protFiltered$color == \"#F09F4E\",7]"
   ]
  },
  {
   "cell_type": "code",
   "execution_count": 15,
   "metadata": {
    "collapsed": true
   },
   "outputs": [],
   "source": [
    "load(\"RNAlists.diff\")"
   ]
  },
  {
   "cell_type": "code",
   "execution_count": 168,
   "metadata": {
    "collapsed": true
   },
   "outputs": [],
   "source": [
    "drawVennFromList = function(a, b, c = c(), d = c(), ...){\n",
    "    if (is.null(c)){\n",
    "        draw.pairwise.venn(length(a), length(b),\n",
    "            length(intersect(a, b)), ...)\n",
    "    }\n",
    "    else if (is.null(d)){\n",
    "        draw.triple.venn(length(a), length(b), length(c),\n",
    "            length(intersect(a, b)), length(intersect(b, c)), length(intersect(a, c)), \n",
    "            length(intersect(intersect(a, b), c)), ...)          \n",
    "    }\n",
    "    else{\n",
    "        draw.quad.venn(length(a), length(b), length(c), length(d),\n",
    "            length(intersect(a, b)), length(intersect(a, c)), length(intersect(a, d)),\n",
    "            length(intersect(b, c)), length(intersect(b, d)), length(intersect(c, d)),\n",
    "            length(intersect(intersect(a, b), c)), length(intersect(intersect(a, b), d)),\n",
    "            length(intersect(intersect(a, c), d)), length(intersect(intersect(c, b), d)),\n",
    "            length(intersect(intersect(intersect(a, b), c), d)), ...)  \n",
    "    }\n",
    "}"
   ]
  },
  {
   "cell_type": "code",
   "execution_count": 17,
   "metadata": {},
   "outputs": [
    {
     "data": {
      "text/plain": [
       "(polygon[GRID.polygon.1], polygon[GRID.polygon.2], polygon[GRID.polygon.3], polygon[GRID.polygon.4], polygon[GRID.polygon.5], polygon[GRID.polygon.6], polygon[GRID.polygon.7], polygon[GRID.polygon.8], text[GRID.text.9], text[GRID.text.10], text[GRID.text.11], text[GRID.text.12], text[GRID.text.13], text[GRID.text.14], text[GRID.text.15], text[GRID.text.16], text[GRID.text.17], text[GRID.text.18], text[GRID.text.19], text[GRID.text.20], text[GRID.text.21], text[GRID.text.22], text[GRID.text.23], text[GRID.text.24], text[GRID.text.25], text[GRID.text.26], text[GRID.text.27]) "
      ]
     },
     "metadata": {},
     "output_type": "display_data"
    },
    {
     "data": {
      "text/html": [
       "<strong>pdf:</strong> 2"
      ],
      "text/latex": [
       "\\textbf{pdf:} 2"
      ],
      "text/markdown": [
       "**pdf:** 2"
      ],
      "text/plain": [
       "pdf \n",
       "  2 "
      ]
     },
     "metadata": {},
     "output_type": "display_data"
    }
   ],
   "source": [
    "pdf(\"RNA_MS_overlap.pdf\")\n",
    "drawVennFromList(listDownMS, listDownRNA, listUpMS, listUpRNA, category = c(\"MS - down\", \"RNA-seq - down\", \"MS - up\", \"RNA-seq - up\"),\n",
    "                fill = brewer.pal(4, \"Paired\"), fontfamily = \"sans\", cat.fontfamily = \"sans\")\n",
    "dev.off()"
   ]
  },
  {
   "cell_type": "code",
   "execution_count": 18,
   "metadata": {},
   "outputs": [
    {
     "name": "stdout",
     "output_type": "stream",
     "text": [
      "Rrm2\n",
      "Jdp2\n",
      "Top2a\n",
      "Pde2a\n",
      "Gstt1\n",
      "Ivns1abp\n",
      "Ube2c\n"
     ]
    }
   ],
   "source": [
    "for (i in intersect(listDownMS, listDownRNA)) cat(paste0(i, \"\\n\"))"
   ]
  },
  {
   "cell_type": "code",
   "execution_count": 19,
   "metadata": {
    "scrolled": true
   },
   "outputs": [
    {
     "name": "stdout",
     "output_type": "stream",
     "text": [
      "Arhgap12\n",
      "Atg7\n",
      "Ppfibp2\n",
      "Psmb5\n",
      "Mthfd2\n",
      "Rbpj\n",
      "Hfe\n",
      "Vasp\n",
      "C1qc\n",
      "Iqgap2\n",
      "Tgfbrap1\n",
      "Stxbp3\n",
      "Asns\n",
      "Emr1\n",
      "Trmt61a\n",
      "Dennd6a\n",
      "Sgta\n",
      "9030624J02Rik\n",
      "Txnl1\n",
      "Yars\n",
      "Lpxn\n",
      "Snx2\n",
      "Iqgap1\n",
      "Sqrdl\n",
      "Ehd1\n",
      "Ktn1\n",
      "Nudt16\n",
      "Fcgr4\n",
      "Slfn9\n",
      "Acsl1\n",
      "Smc4\n",
      "Myo1e\n",
      "Nrp2\n",
      "F5\n",
      "Ltf\n",
      "Rrm2\n",
      "Mpo\n",
      "Ass1\n",
      "Alox15\n",
      "Msh2\n",
      "Epx\n",
      "Polr3b\n",
      "Tgfbi\n",
      "Jdp2\n",
      "Top2a\n",
      "Itprip\n",
      "Pde2a\n",
      "Lig1\n",
      "Phactr4\n",
      "Pes1\n",
      "Cluh\n",
      "Adck3\n",
      "Fscn1\n",
      "Tgtp1\n",
      "Gstt1\n",
      "Top2b\n",
      "Syne1\n",
      "Brd2\n",
      "Mybbp1a\n",
      "Prss34\n",
      "Bsdc1\n",
      "Nt5dc1\n",
      "Rrp9\n",
      "Ivns1abp\n",
      "Cyp4f3\n",
      "Serpinb1a\n",
      "Ube2c\n",
      "Cd97\n"
     ]
    }
   ],
   "source": [
    "for (i in union(listUpMS, listDownMS)) cat(paste0(i, \"\\n\"))"
   ]
  },
  {
   "cell_type": "code",
   "execution_count": 20,
   "metadata": {},
   "outputs": [
    {
     "name": "stdout",
     "output_type": "stream",
     "text": [
      "Mthfd2\n",
      "Asns\n"
     ]
    }
   ],
   "source": [
    "for (i in intersect(listUpMS, listUpRNA)) cat(paste0(i, \"\\n\"))"
   ]
  },
  {
   "cell_type": "code",
   "execution_count": 21,
   "metadata": {
    "scrolled": true
   },
   "outputs": [
    {
     "name": "stdout",
     "output_type": "stream",
     "text": [
      "Mfsd6\n",
      "Cd28\n",
      "Dner\n",
      "Glrp1\n",
      "Cyb5r1\n",
      "Fam129a\n",
      "Ly9\n",
      "Slamf7\n",
      "Atf3\n",
      "Sgk1\n",
      "Mfsd4b3\n",
      "Smpdl3a\n",
      "NA\n",
      "Aldh1l2\n",
      "Plxnc1\n",
      "Avil\n",
      "Ddit3\n",
      "Esyt1\n",
      "Grb10\n",
      "Slc1a4\n",
      "Sept8\n",
      "Pmp22\n",
      "Zbtb4\n",
      "Nlrp1b\n",
      "Mmp28\n",
      "Nfe2l1\n",
      "Atp6v0a1\n",
      "Arsg\n",
      "Cd300a\n",
      "Slc26a11\n",
      "Pycr1\n",
      "Metrnl\n",
      "Etv1\n",
      "Acot2\n",
      "Gpr141\n",
      "Rnf144b\n",
      "Mctp1\n",
      "Rnf180\n",
      "Zcchc24\n",
      "Ghitm\n",
      "Ptger2\n",
      "Rnase4\n",
      "Pck2\n",
      "Sorbs3\n",
      "Matn2\n",
      "Ndrg1\n",
      "Igfbp6\n",
      "Soat2\n",
      "Dgkg\n",
      "Itgb5\n",
      "Cd86\n",
      "Cd200r1\n",
      "Cd200r4\n",
      "Trp53cor1\n",
      "Gtpbp2\n",
      "Ticam2\n",
      "Afap1l1\n",
      "Tmem151a\n",
      "Slc3a2\n",
      "Phyhd1\n",
      "Stom\n",
      "Tnks1bp1\n",
      "Ldlrad3\n",
      "Lmo2\n",
      "Arl14ep\n",
      "Chac1\n",
      "Sqor\n",
      "Cd93\n",
      "Trib3\n",
      "Mafb\n",
      "Tox2\n",
      "Sirpb1a\n",
      "Sirpb1b\n",
      "LOC100038947\n",
      "Tmem154\n",
      "Trim46\n",
      "Phgdh\n",
      "Cd53\n",
      "S1pr1\n",
      "Mcoln3\n",
      "Ptger3\n",
      "Cth\n",
      "Bach2os\n",
      "Klf4\n",
      "Slc6a9\n",
      "Sesn2\n",
      "Dhrs3\n",
      "Car6\n",
      "Rell1\n",
      "Cxcl2\n",
      "Hpse\n",
      "Gbp8\n",
      "Psph\n",
      "Amz1\n",
      "Tecpr1\n",
      "Pon2\n",
      "Asns\n",
      "Cped1\n",
      "Gadd45a\n",
      "Sh2d6\n",
      "Mthfd2\n",
      "Clec4n\n",
      "Cebpg\n",
      "Atf5\n",
      "Cpeb1\n",
      "Il16\n",
      "Tsku\n",
      "Eef2k\n",
      "Gm20367\n",
      "Nupr1\n",
      "Cox6a2\n",
      "Cdkn1c\n",
      "Slc22a18\n",
      "Gdf15\n",
      "Lyl1\n",
      "Slc38a7\n",
      "Aars\n",
      "Nrp1\n",
      "Mmp13\n",
      "Aqp9\n",
      "Plscr4\n",
      "Slc9a9\n",
      "Als2cl\n",
      "L1cam\n",
      "Mpp1\n"
     ]
    }
   ],
   "source": [
    "for (i in listUpRNA) cat(paste0(i, \"\\n\"))"
   ]
  },
  {
   "cell_type": "markdown",
   "metadata": {},
   "source": [
    "## Prepare PPI for Omics Integrator\n",
    "The PPI was obtained from BioGRID Release 3.4.160 as [all the interactions available for mice in the TAB2 format](https://downloads.thebiogrid.org/Download/BioGRID/Release-Archive/BIOGRID-3.4.160/BIOGRID-ORGANISM-3.4.160.tab2.zip)."
   ]
  },
  {
   "cell_type": "code",
   "execution_count": 37,
   "metadata": {},
   "outputs": [
    {
     "data": {
      "text/html": [
       "<table>\n",
       "<thead><tr><th scope=col>Official.Symbol.Interactor.A</th><th scope=col>Official.Symbol.Interactor.B</th></tr></thead>\n",
       "<tbody>\n",
       "\t<tr><td>SMAD2  </td><td>Rasd2  </td></tr>\n",
       "\t<tr><td>SMAD2  </td><td>Rab34  </td></tr>\n",
       "\t<tr><td>SMAD2  </td><td>Rhebl1 </td></tr>\n",
       "\t<tr><td>SMAD2  </td><td>Rab38  </td></tr>\n",
       "\t<tr><td>SMAD2  </td><td>Rhobtb1</td></tr>\n",
       "\t<tr><td>SMAD2  </td><td>Arhgef7</td></tr>\n",
       "</tbody>\n",
       "</table>\n"
      ],
      "text/latex": [
       "\\begin{tabular}{r|ll}\n",
       " Official.Symbol.Interactor.A & Official.Symbol.Interactor.B\\\\\n",
       "\\hline\n",
       "\t SMAD2   & Rasd2  \\\\\n",
       "\t SMAD2   & Rab34  \\\\\n",
       "\t SMAD2   & Rhebl1 \\\\\n",
       "\t SMAD2   & Rab38  \\\\\n",
       "\t SMAD2   & Rhobtb1\\\\\n",
       "\t SMAD2   & Arhgef7\\\\\n",
       "\\end{tabular}\n"
      ],
      "text/markdown": [
       "\n",
       "Official.Symbol.Interactor.A | Official.Symbol.Interactor.B | \n",
       "|---|---|---|---|---|---|\n",
       "| SMAD2   | Rasd2   | \n",
       "| SMAD2   | Rab34   | \n",
       "| SMAD2   | Rhebl1  | \n",
       "| SMAD2   | Rab38   | \n",
       "| SMAD2   | Rhobtb1 | \n",
       "| SMAD2   | Arhgef7 | \n",
       "\n",
       "\n"
      ],
      "text/plain": [
       "  Official.Symbol.Interactor.A Official.Symbol.Interactor.B\n",
       "1 SMAD2                        Rasd2                       \n",
       "2 SMAD2                        Rab34                       \n",
       "3 SMAD2                        Rhebl1                      \n",
       "4 SMAD2                        Rab38                       \n",
       "5 SMAD2                        Rhobtb1                     \n",
       "6 SMAD2                        Arhgef7                     "
      ]
     },
     "metadata": {},
     "output_type": "display_data"
    }
   ],
   "source": [
    "PPI = read.table(\"OmicsIntegratorRun/BIOGRID-ORGANISM-Mus_musculus-3.4.160.tab2.txt\", sep = \"\\t\", header = T,\n",
    "                quote = '', na.strings = \"-\", comment.char = \"\")\n",
    "head(PPI[,c(8,9)])"
   ]
  },
  {
   "cell_type": "code",
   "execution_count": 38,
   "metadata": {},
   "outputs": [
    {
     "data": {
      "text/html": [
       "<ol class=list-inline>\n",
       "\t<li>'X.BioGRID.Interaction.ID'</li>\n",
       "\t<li>'Entrez.Gene.Interactor.A'</li>\n",
       "\t<li>'Entrez.Gene.Interactor.B'</li>\n",
       "\t<li>'BioGRID.ID.Interactor.A'</li>\n",
       "\t<li>'BioGRID.ID.Interactor.B'</li>\n",
       "\t<li>'Systematic.Name.Interactor.A'</li>\n",
       "\t<li>'Systematic.Name.Interactor.B'</li>\n",
       "\t<li>'Official.Symbol.Interactor.A'</li>\n",
       "\t<li>'Official.Symbol.Interactor.B'</li>\n",
       "\t<li>'Synonyms.Interactor.A'</li>\n",
       "\t<li>'Synonyms.Interactor.B'</li>\n",
       "\t<li>'Experimental.System'</li>\n",
       "\t<li>'Experimental.System.Type'</li>\n",
       "\t<li>'Author'</li>\n",
       "\t<li>'Pubmed.ID'</li>\n",
       "\t<li>'Organism.Interactor.A'</li>\n",
       "\t<li>'Organism.Interactor.B'</li>\n",
       "\t<li>'Throughput'</li>\n",
       "\t<li>'Score'</li>\n",
       "\t<li>'Modification'</li>\n",
       "\t<li>'Phenotypes'</li>\n",
       "\t<li>'Qualifications'</li>\n",
       "\t<li>'Tags'</li>\n",
       "\t<li>'Source.Database'</li>\n",
       "</ol>\n"
      ],
      "text/latex": [
       "\\begin{enumerate*}\n",
       "\\item 'X.BioGRID.Interaction.ID'\n",
       "\\item 'Entrez.Gene.Interactor.A'\n",
       "\\item 'Entrez.Gene.Interactor.B'\n",
       "\\item 'BioGRID.ID.Interactor.A'\n",
       "\\item 'BioGRID.ID.Interactor.B'\n",
       "\\item 'Systematic.Name.Interactor.A'\n",
       "\\item 'Systematic.Name.Interactor.B'\n",
       "\\item 'Official.Symbol.Interactor.A'\n",
       "\\item 'Official.Symbol.Interactor.B'\n",
       "\\item 'Synonyms.Interactor.A'\n",
       "\\item 'Synonyms.Interactor.B'\n",
       "\\item 'Experimental.System'\n",
       "\\item 'Experimental.System.Type'\n",
       "\\item 'Author'\n",
       "\\item 'Pubmed.ID'\n",
       "\\item 'Organism.Interactor.A'\n",
       "\\item 'Organism.Interactor.B'\n",
       "\\item 'Throughput'\n",
       "\\item 'Score'\n",
       "\\item 'Modification'\n",
       "\\item 'Phenotypes'\n",
       "\\item 'Qualifications'\n",
       "\\item 'Tags'\n",
       "\\item 'Source.Database'\n",
       "\\end{enumerate*}\n"
      ],
      "text/markdown": [
       "1. 'X.BioGRID.Interaction.ID'\n",
       "2. 'Entrez.Gene.Interactor.A'\n",
       "3. 'Entrez.Gene.Interactor.B'\n",
       "4. 'BioGRID.ID.Interactor.A'\n",
       "5. 'BioGRID.ID.Interactor.B'\n",
       "6. 'Systematic.Name.Interactor.A'\n",
       "7. 'Systematic.Name.Interactor.B'\n",
       "8. 'Official.Symbol.Interactor.A'\n",
       "9. 'Official.Symbol.Interactor.B'\n",
       "10. 'Synonyms.Interactor.A'\n",
       "11. 'Synonyms.Interactor.B'\n",
       "12. 'Experimental.System'\n",
       "13. 'Experimental.System.Type'\n",
       "14. 'Author'\n",
       "15. 'Pubmed.ID'\n",
       "16. 'Organism.Interactor.A'\n",
       "17. 'Organism.Interactor.B'\n",
       "18. 'Throughput'\n",
       "19. 'Score'\n",
       "20. 'Modification'\n",
       "21. 'Phenotypes'\n",
       "22. 'Qualifications'\n",
       "23. 'Tags'\n",
       "24. 'Source.Database'\n",
       "\n",
       "\n"
      ],
      "text/plain": [
       " [1] \"X.BioGRID.Interaction.ID\"     \"Entrez.Gene.Interactor.A\"    \n",
       " [3] \"Entrez.Gene.Interactor.B\"     \"BioGRID.ID.Interactor.A\"     \n",
       " [5] \"BioGRID.ID.Interactor.B\"      \"Systematic.Name.Interactor.A\"\n",
       " [7] \"Systematic.Name.Interactor.B\" \"Official.Symbol.Interactor.A\"\n",
       " [9] \"Official.Symbol.Interactor.B\" \"Synonyms.Interactor.A\"       \n",
       "[11] \"Synonyms.Interactor.B\"        \"Experimental.System\"         \n",
       "[13] \"Experimental.System.Type\"     \"Author\"                      \n",
       "[15] \"Pubmed.ID\"                    \"Organism.Interactor.A\"       \n",
       "[17] \"Organism.Interactor.B\"        \"Throughput\"                  \n",
       "[19] \"Score\"                        \"Modification\"                \n",
       "[21] \"Phenotypes\"                   \"Qualifications\"              \n",
       "[23] \"Tags\"                         \"Source.Database\"             "
      ]
     },
     "metadata": {},
     "output_type": "display_data"
    }
   ],
   "source": [
    "names(PPI)"
   ]
  },
  {
   "cell_type": "code",
   "execution_count": 39,
   "metadata": {},
   "outputs": [
    {
     "data": {
      "text/html": [
       "<table>\n",
       "<thead><tr><th scope=col>levels.PPI.Experimental.System.</th><th scope=col>c.0.2..0.2..0.2..0.2..0.99..0.5..0.2..0.2..0.2..0..0..0.99..0.99..</th></tr></thead>\n",
       "<tbody>\n",
       "\t<tr><td>Affinity Capture-Luminescence</td><td>0.20                         </td></tr>\n",
       "\t<tr><td>Affinity Capture-MS          </td><td>0.20                         </td></tr>\n",
       "\t<tr><td>Affinity Capture-RNA         </td><td>0.20                         </td></tr>\n",
       "\t<tr><td>Affinity Capture-Western     </td><td>0.20                         </td></tr>\n",
       "\t<tr><td>Biochemical Activity         </td><td>0.99                         </td></tr>\n",
       "\t<tr><td>Co-crystal Structure         </td><td>0.50                         </td></tr>\n",
       "\t<tr><td>Co-fractionation             </td><td>0.20                         </td></tr>\n",
       "\t<tr><td>Co-localization              </td><td>0.20                         </td></tr>\n",
       "\t<tr><td>Co-purification              </td><td>0.20                         </td></tr>\n",
       "\t<tr><td>Dosage Growth Defect         </td><td>0.00                         </td></tr>\n",
       "\t<tr><td>Dosage Rescue                </td><td>0.00                         </td></tr>\n",
       "\t<tr><td>Far Western                  </td><td>0.99                         </td></tr>\n",
       "\t<tr><td>FRET                         </td><td>0.99                         </td></tr>\n",
       "\t<tr><td>Negative Genetic             </td><td>0.00                         </td></tr>\n",
       "\t<tr><td>PCA                          </td><td>0.99                         </td></tr>\n",
       "\t<tr><td>Phenotypic Enhancement       </td><td>0.00                         </td></tr>\n",
       "\t<tr><td>Phenotypic Suppression       </td><td>0.00                         </td></tr>\n",
       "\t<tr><td>Positive Genetic             </td><td>0.00                         </td></tr>\n",
       "\t<tr><td>Protein-peptide              </td><td>0.99                         </td></tr>\n",
       "\t<tr><td>Protein-RNA                  </td><td>0.20                         </td></tr>\n",
       "\t<tr><td>Proximity Label-MS           </td><td>0.20                         </td></tr>\n",
       "\t<tr><td>Reconstituted Complex        </td><td>0.99                         </td></tr>\n",
       "\t<tr><td>Synthetic Growth Defect      </td><td>0.00                         </td></tr>\n",
       "\t<tr><td>Synthetic Haploinsufficiency </td><td>0.00                         </td></tr>\n",
       "\t<tr><td>Synthetic Lethality          </td><td>0.00                         </td></tr>\n",
       "\t<tr><td>Synthetic Rescue             </td><td>0.00                         </td></tr>\n",
       "\t<tr><td>Two-hybrid                   </td><td>0.99                         </td></tr>\n",
       "</tbody>\n",
       "</table>\n"
      ],
      "text/latex": [
       "\\begin{tabular}{r|ll}\n",
       " levels.PPI.Experimental.System. & c.0.2..0.2..0.2..0.2..0.99..0.5..0.2..0.2..0.2..0..0..0.99..0.99..\\\\\n",
       "\\hline\n",
       "\t Affinity Capture-Luminescence & 0.20                         \\\\\n",
       "\t Affinity Capture-MS           & 0.20                         \\\\\n",
       "\t Affinity Capture-RNA          & 0.20                         \\\\\n",
       "\t Affinity Capture-Western      & 0.20                         \\\\\n",
       "\t Biochemical Activity          & 0.99                         \\\\\n",
       "\t Co-crystal Structure          & 0.50                         \\\\\n",
       "\t Co-fractionation              & 0.20                         \\\\\n",
       "\t Co-localization               & 0.20                         \\\\\n",
       "\t Co-purification               & 0.20                         \\\\\n",
       "\t Dosage Growth Defect          & 0.00                         \\\\\n",
       "\t Dosage Rescue                 & 0.00                         \\\\\n",
       "\t Far Western                   & 0.99                         \\\\\n",
       "\t FRET                          & 0.99                         \\\\\n",
       "\t Negative Genetic              & 0.00                         \\\\\n",
       "\t PCA                           & 0.99                         \\\\\n",
       "\t Phenotypic Enhancement        & 0.00                         \\\\\n",
       "\t Phenotypic Suppression        & 0.00                         \\\\\n",
       "\t Positive Genetic              & 0.00                         \\\\\n",
       "\t Protein-peptide               & 0.99                         \\\\\n",
       "\t Protein-RNA                   & 0.20                         \\\\\n",
       "\t Proximity Label-MS            & 0.20                         \\\\\n",
       "\t Reconstituted Complex         & 0.99                         \\\\\n",
       "\t Synthetic Growth Defect       & 0.00                         \\\\\n",
       "\t Synthetic Haploinsufficiency  & 0.00                         \\\\\n",
       "\t Synthetic Lethality           & 0.00                         \\\\\n",
       "\t Synthetic Rescue              & 0.00                         \\\\\n",
       "\t Two-hybrid                    & 0.99                         \\\\\n",
       "\\end{tabular}\n"
      ],
      "text/markdown": [
       "\n",
       "levels.PPI.Experimental.System. | c.0.2..0.2..0.2..0.2..0.99..0.5..0.2..0.2..0.2..0..0..0.99..0.99.. | \n",
       "|---|---|---|---|---|---|---|---|---|---|---|---|---|---|---|---|---|---|---|---|---|---|---|---|---|---|---|\n",
       "| Affinity Capture-Luminescence | 0.20                          | \n",
       "| Affinity Capture-MS           | 0.20                          | \n",
       "| Affinity Capture-RNA          | 0.20                          | \n",
       "| Affinity Capture-Western      | 0.20                          | \n",
       "| Biochemical Activity          | 0.99                          | \n",
       "| Co-crystal Structure          | 0.50                          | \n",
       "| Co-fractionation              | 0.20                          | \n",
       "| Co-localization               | 0.20                          | \n",
       "| Co-purification               | 0.20                          | \n",
       "| Dosage Growth Defect          | 0.00                          | \n",
       "| Dosage Rescue                 | 0.00                          | \n",
       "| Far Western                   | 0.99                          | \n",
       "| FRET                          | 0.99                          | \n",
       "| Negative Genetic              | 0.00                          | \n",
       "| PCA                           | 0.99                          | \n",
       "| Phenotypic Enhancement        | 0.00                          | \n",
       "| Phenotypic Suppression        | 0.00                          | \n",
       "| Positive Genetic              | 0.00                          | \n",
       "| Protein-peptide               | 0.99                          | \n",
       "| Protein-RNA                   | 0.20                          | \n",
       "| Proximity Label-MS            | 0.20                          | \n",
       "| Reconstituted Complex         | 0.99                          | \n",
       "| Synthetic Growth Defect       | 0.00                          | \n",
       "| Synthetic Haploinsufficiency  | 0.00                          | \n",
       "| Synthetic Lethality           | 0.00                          | \n",
       "| Synthetic Rescue              | 0.00                          | \n",
       "| Two-hybrid                    | 0.99                          | \n",
       "\n",
       "\n"
      ],
      "text/plain": [
       "   levels.PPI.Experimental.System.\n",
       "1  Affinity Capture-Luminescence  \n",
       "2  Affinity Capture-MS            \n",
       "3  Affinity Capture-RNA           \n",
       "4  Affinity Capture-Western       \n",
       "5  Biochemical Activity           \n",
       "6  Co-crystal Structure           \n",
       "7  Co-fractionation               \n",
       "8  Co-localization                \n",
       "9  Co-purification                \n",
       "10 Dosage Growth Defect           \n",
       "11 Dosage Rescue                  \n",
       "12 Far Western                    \n",
       "13 FRET                           \n",
       "14 Negative Genetic               \n",
       "15 PCA                            \n",
       "16 Phenotypic Enhancement         \n",
       "17 Phenotypic Suppression         \n",
       "18 Positive Genetic               \n",
       "19 Protein-peptide                \n",
       "20 Protein-RNA                    \n",
       "21 Proximity Label-MS             \n",
       "22 Reconstituted Complex          \n",
       "23 Synthetic Growth Defect        \n",
       "24 Synthetic Haploinsufficiency   \n",
       "25 Synthetic Lethality            \n",
       "26 Synthetic Rescue               \n",
       "27 Two-hybrid                     \n",
       "   c.0.2..0.2..0.2..0.2..0.99..0.5..0.2..0.2..0.2..0..0..0.99..0.99..\n",
       "1  0.20                                                              \n",
       "2  0.20                                                              \n",
       "3  0.20                                                              \n",
       "4  0.20                                                              \n",
       "5  0.99                                                              \n",
       "6  0.50                                                              \n",
       "7  0.20                                                              \n",
       "8  0.20                                                              \n",
       "9  0.20                                                              \n",
       "10 0.00                                                              \n",
       "11 0.00                                                              \n",
       "12 0.99                                                              \n",
       "13 0.99                                                              \n",
       "14 0.00                                                              \n",
       "15 0.99                                                              \n",
       "16 0.00                                                              \n",
       "17 0.00                                                              \n",
       "18 0.00                                                              \n",
       "19 0.99                                                              \n",
       "20 0.20                                                              \n",
       "21 0.20                                                              \n",
       "22 0.99                                                              \n",
       "23 0.00                                                              \n",
       "24 0.00                                                              \n",
       "25 0.00                                                              \n",
       "26 0.00                                                              \n",
       "27 0.99                                                              "
      ]
     },
     "metadata": {},
     "output_type": "display_data"
    }
   ],
   "source": [
    "# Map an experimental system to a confidence score for direct PPI\n",
    "expScore = data.frame(levels(PPI$Experimental.System), c(0.2,0.2,0.2,0.2,0.99,0.5,0.2,0.2,0.2,\n",
    "  0,0,0.99,0.99,0,0.99,0,0,0,\n",
    "  0.99,0.2,0.2,0.99,0,0,0,0,0.99))\n",
    "expScore"
   ]
  },
  {
   "cell_type": "code",
   "execution_count": 40,
   "metadata": {
    "collapsed": true
   },
   "outputs": [],
   "source": [
    "PPI$expScore = expScore[PPI$Experimental.System,2] # Levels = row index in the lookup table"
   ]
  },
  {
   "cell_type": "code",
   "execution_count": null,
   "metadata": {
    "collapsed": true
   },
   "outputs": [],
   "source": [
    "write.table(PPI[,c(8,9,25),], file = \"OmicsIntegratorRun/mousePPI.tsv\", col.names = F, row.names = F, sep = \"\\t\",\n",
    "            quote = F, dec = \".\")"
   ]
  },
  {
   "cell_type": "markdown",
   "metadata": {},
   "source": [
    "## Combine Omics Integrator networks\n",
    "We first combine the optimal forests for the three comparisons and export an annotated version of the union of these nodes and their direct neighbors, with all known edges between these nodes."
   ]
  },
  {
   "cell_type": "code",
   "execution_count": 25,
   "metadata": {},
   "outputs": [],
   "source": [
    "library(igraph)\n",
    "recNodes = unique(unlist(read.table(\"OmicsIntegratorRun/recArg1_output/result_optimalForest.sif\")[,c(1,3)]))\n",
    "ranklNodes = unique(unlist(read.table(\"OmicsIntegratorRun/ranklDiff_output/result_optimalForest.sif\")[,c(1,3)]))\n",
    "deplNodes = unique(unlist(read.table(\"OmicsIntegratorRun/deplOrRec_output/result_optimalForest.sif\")[,c(1,3)]))"
   ]
  },
  {
   "cell_type": "code",
   "execution_count": 169,
   "metadata": {
    "scrolled": false
   },
   "outputs": [
    {
     "data": {
      "text/plain": [
       "(polygon[GRID.polygon.125], polygon[GRID.polygon.126], polygon[GRID.polygon.127], polygon[GRID.polygon.128], polygon[GRID.polygon.129], polygon[GRID.polygon.130], text[GRID.text.131], text[GRID.text.132], text[GRID.text.133], text[GRID.text.134], text[GRID.text.135], text[GRID.text.136], text[GRID.text.137], text[GRID.text.138], text[GRID.text.139]) "
      ]
     },
     "metadata": {},
     "output_type": "display_data"
    },
    {
     "data": {
      "image/png": "[encoded data removed]",
      "text/plain": [
       "plot without title"
      ]
     },
     "metadata": {},
     "output_type": "display_data"
    }
   ],
   "source": [
    "drawVennFromList(recNodes, ranklNodes, deplNodes, c(), category = c(\"recArg1\", \"RANKL\", \"deplOrRec\"),\n",
    "                fill = brewer.pal(3, \"Accent\"), fontfamily = \"sans\", cat.fontfamily = \"sans\")"
   ]
  },
  {
   "cell_type": "code",
   "execution_count": 115,
   "metadata": {},
   "outputs": [
    {
     "data": {
      "text/html": [
       "4380"
      ],
      "text/latex": [
       "4380"
      ],
      "text/markdown": [
       "4380"
      ],
      "text/plain": [
       "[1] 4380"
      ]
     },
     "metadata": {},
     "output_type": "display_data"
    }
   ],
   "source": [
    "forestNodes = union(union(recNodes, ranklNodes), deplNodes)\n",
    "PPI$Official.Symbol.Interactor.A = as.character(PPI$Official.Symbol.Interactor.A)\n",
    "PPI$Official.Symbol.Interactor.B = as.character(PPI$Official.Symbol.Interactor.B)\n",
    "neighbors = union(PPI$Official.Symbol.Interactor.B[PPI$Official.Symbol.Interactor.A %in% forestNodes],\n",
    "PPI$Official.Symbol.Interactor.A[PPI$Official.Symbol.Interactor.B %in% forestNodes])\n",
    "allNodes = union(forestNodes, neighbors)\n",
    "length(allNodes)"
   ]
  },
  {
   "cell_type": "code",
   "execution_count": 116,
   "metadata": {},
   "outputs": [],
   "source": [
    "interactionsWithNeighbors = ((PPI$Official.Symbol.Interactor.A %in% allNodes) | (PPI$Official.Symbol.Interactor.B %in% allNodes)) & \n",
    "    (PPI$Official.Symbol.Interactor.A != PPI$Official.Symbol.Interactor.B)\n",
    "neighborsPPI = graph_from_edgelist(as.matrix(PPI[interactionsWithNeighbors, c(8,9)]))\n",
    "A = as.matrix(as_adjacency_matrix(neighborsPPI))"
   ]
  },
  {
   "cell_type": "code",
   "execution_count": 130,
   "metadata": {},
   "outputs": [
    {
     "data": {
      "text/html": [
       "1342"
      ],
      "text/latex": [
       "1342"
      ],
      "text/markdown": [
       "1342"
      ],
      "text/plain": [
       "[1] 1342"
      ]
     },
     "metadata": {},
     "output_type": "display_data"
    }
   ],
   "source": [
    "allNodes = union(names(which(colSums(A[rownames(A) %in% forestNodes,]) >= 2)), forestNodes)\n",
    "length(allNodes)"
   ]
  },
  {
   "cell_type": "code",
   "execution_count": 146,
   "metadata": {},
   "outputs": [
    {
     "data": {
      "text/html": [
       "TRUE"
      ],
      "text/latex": [
       "TRUE"
      ],
      "text/markdown": [
       "TRUE"
      ],
      "text/plain": [
       "[1] TRUE"
      ]
     },
     "metadata": {},
     "output_type": "display_data"
    }
   ],
   "source": [
    "interactionsWithForests = ((PPI$Official.Symbol.Interactor.A %in% allNodes) & (PPI$Official.Symbol.Interactor.B %in% allNodes)) & \n",
    "    (PPI$Official.Symbol.Interactor.A != PPI$Official.Symbol.Interactor.B)\n",
    "expandedForest = graph_from_edgelist(as.matrix(PPI[interactionsWithForests, c(8,9)]))\n",
    "all(names(V(expandedForest)) %in% allNodes)"
   ]
  },
  {
   "cell_type": "code",
   "execution_count": 172,
   "metadata": {},
   "outputs": [
    {
     "data": {
      "text/plain": [
       "nodeType\n",
       "   0    1    2    3    4    5    6 \n",
       "1046   54  118   10   78   15   21 "
      ]
     },
     "metadata": {},
     "output_type": "display_data"
    }
   ],
   "source": [
    "nodeType = rep(0, vcount(expandedForest))\n",
    "nodeType = nodeType + sapply(names(V(expandedForest)), function(x) ifelse(x %in% recNodes, 1, 0))\n",
    "nodeType = nodeType + sapply(names(V(expandedForest)), function(x) ifelse(x %in% ranklNodes, 2, 0))\n",
    "nodeType = nodeType + sapply(names(V(expandedForest)), function(x) ifelse(x %in% deplNodes, 4, 0))\n",
    "table(nodeType)\n",
    "expandedForest = set_vertex_attr(expandedForest, name = \"nodeType\", value = nodeType) "
   ]
  },
  {
   "cell_type": "code",
   "execution_count": 183,
   "metadata": {},
   "outputs": [],
   "source": [
    "write_graph(expandedForest, \"OmicsIntegratorRun/allForestsWithNeighbors.gml\", format = \"gml\")\n",
    "write_graph(induced_subgraph(expandedForest, which(nodeType != 0)), \"OmicsIntegratorRun/allForests.gml\", format = \"gml\")"
   ]
  },
  {
   "cell_type": "code",
   "execution_count": null,
   "metadata": {
    "collapsed": true
   },
   "outputs": [],
   "source": [
    "sessionInfo()"
   ]
  }
 ],
 "metadata": {
  "kernelspec": {
   "display_name": "R",
   "language": "R",
   "name": "ir"
  },
  "language_info": {
   "codemirror_mode": "r",
   "file_extension": ".r",
   "mimetype": "text/x-r-source",
   "name": "R",
   "pygments_lexer": "r",
   "version": "3.4.1"
  }
 },
 "nbformat": 4,
 "nbformat_minor": 2
}
