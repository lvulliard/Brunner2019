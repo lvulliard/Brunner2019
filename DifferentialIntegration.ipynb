{
 "cells": [
  {
   "cell_type": "markdown",
   "metadata": {},
   "source": [
    "# RNA + MS data integration"
   ]
  },
  {
   "cell_type": "code",
   "execution_count": null,
   "metadata": {
    "collapsed": true
   },
   "outputs": [],
   "source": [
    "library(RColorBrewer)\n",
    "library(VennDiagram)"
   ]
  },
  {
   "cell_type": "code",
   "execution_count": null,
   "metadata": {
    "collapsed": true
   },
   "outputs": [],
   "source": [
    "# Load transformed MS data with t-test results\n",
    "protFiltered = read.table(\"Perseus_run/ProteinsTTestFiltered.txt\", sep = \"\\t\", head=T, quote=\"\")"
   ]
  },
  {
   "cell_type": "code",
   "execution_count": null,
   "metadata": {
    "collapsed": true
   },
   "outputs": [],
   "source": [
    "names(protFiltered)[2] <- \"LogPvalue\"\n",
    "# Color for significant abundance changes\n",
    "protFiltered$color = ifelse(test = protFiltered$Difference > 0, \"#4A91C4\", \"#F09F4E\")\n",
    "protFiltered[protFiltered$Significant != \"+\", 99] = \"grey\"\n",
    "protFiltered$Gene.names <- as.character(protFiltered$Gene.names)\n",
    "# Keep only the first gene name when several are provided\n",
    "protFiltered[,7] <- sub(\";.*\", \"\", protFiltered[,7])"
   ]
  },
  {
   "cell_type": "code",
   "execution_count": null,
   "metadata": {
    "collapsed": true
   },
   "outputs": [],
   "source": [
    "listDownMS = protFiltered[protFiltered$color == \"#4A91C4\",7]\n",
    "listUpMS = protFiltered[protFiltered$color == \"#F09F4E\",7]"
   ]
  },
  {
   "cell_type": "code",
   "execution_count": null,
   "metadata": {
    "collapsed": true
   },
   "outputs": [],
   "source": [
    "load(\"RNAlists.diff\")"
   ]
  },
  {
   "cell_type": "code",
   "execution_count": null,
   "metadata": {
    "collapsed": true
   },
   "outputs": [],
   "source": [
    "drawVennFromList = function(a, b, c, d, ...){\n",
    "    draw.quad.venn(length(a), length(b), length(c), length(d),\n",
    "        length(intersect(a, b)), length(intersect(a, c)), length(intersect(a, d)),\n",
    "        length(intersect(b, c)), length(intersect(b, d)), length(intersect(c, d)),\n",
    "        length(intersect(intersect(a, b), c)), length(intersect(intersect(a, b), d)),\n",
    "        length(intersect(intersect(a, c), d)), length(intersect(intersect(c, b), d)),\n",
    "        length(intersect(intersect(intersect(a, b), c), d)), ...)\n",
    "}"
   ]
  },
  {
   "cell_type": "code",
   "execution_count": null,
   "metadata": {
    "collapsed": true
   },
   "outputs": [],
   "source": [
    "pdf(\"RNA_MS_overlap.pdf\")\n",
    "drawVennFromList(listDownMS, listDownRNA, listUpMS, listUpRNA, category = c(\"MS - down\", \"RNA-seq - down\", \"MS - up\", \"RNA-seq - up\"),\n",
    "                fill = brewer.pal(4, \"Paired\"), fontfamily = \"sans\", cat.fontfamily = \"sans\")\n",
    "dev.off()"
   ]
  },
  {
   "cell_type": "code",
   "execution_count": null,
   "metadata": {
    "collapsed": true
   },
   "outputs": [],
   "source": [
    "for (i in intersect(listDownMS, listDownRNA)) cat(paste0(i, \"\\n\"))"
   ]
  },
  {
   "cell_type": "code",
   "execution_count": null,
   "metadata": {
    "collapsed": true,
    "scrolled": true
   },
   "outputs": [],
   "source": [
    "for (i in union(listUpMS, listDownMS)) cat(paste0(i, \"\\n\"))"
   ]
  },
  {
   "cell_type": "code",
   "execution_count": null,
   "metadata": {
    "collapsed": true
   },
   "outputs": [],
   "source": [
    "for (i in intersect(listUpMS, listUpRNA)) cat(paste0(i, \"\\n\"))"
   ]
  },
  {
   "cell_type": "code",
   "execution_count": null,
   "metadata": {
    "collapsed": true,
    "scrolled": true
   },
   "outputs": [],
   "source": [
    "for (i in listUpRNA) cat(paste0(i, \"\\n\"))"
   ]
  },
  {
   "cell_type": "markdown",
   "metadata": {},
   "source": [
    "## Prepare PPI for OmicsIntegrator\n",
    "The PPI was obtained from BioGRID Release 3.4.160 as [all the interactions available for mice in the TAB2 format](https://downloads.thebiogrid.org/Download/BioGRID/Release-Archive/BIOGRID-3.4.160/BIOGRID-ORGANISM-3.4.160.tab2.zip)."
   ]
  },
  {
   "cell_type": "code",
   "execution_count": null,
   "metadata": {},
   "outputs": [],
   "source": [
    "PPI = read.table(\"OmicsIntegratorRun/BIOGRID-ORGANISM-Mus_musculus-3.4.160.tab2.txt\", sep = \"\\t\", header = T,\n",
    "                quote = '', na.strings = \"-\", comment.char = \"\")\n",
    "head(PPI[,c(8,9)])"
   ]
  },
  {
   "cell_type": "code",
   "execution_count": null,
   "metadata": {},
   "outputs": [],
   "source": [
    "names(PPI)"
   ]
  },
  {
   "cell_type": "code",
   "execution_count": null,
   "metadata": {},
   "outputs": [],
   "source": [
    "# Map an experimental system to a confidence score for direct PPI\n",
    "expScore = data.frame(levels(PPI$Experimental.System), c(0.2,0.2,0.2,0.2,0.99,0.5,0.2,0.2,0.2,\n",
    "  0,0,0.99,0.99,0,0.99,0,0,0,\n",
    "  0.99,0.2,0.2,0.99,0,0,0,0,0.99))\n",
    "expScore"
   ]
  },
  {
   "cell_type": "code",
   "execution_count": null,
   "metadata": {
    "collapsed": true
   },
   "outputs": [],
   "source": [
    "PPI$expScore = expScore[PPI$Experimental.System,2] # Levels = row index in the lookup table"
   ]
  },
  {
   "cell_type": "code",
   "execution_count": null,
   "metadata": {},
   "outputs": [],
   "source": [
    "write.table(PPI[,c(8,9,25),], file = \"OmicsIntegratorRun/mousePPI.tsv\", col.names = F, row.names = F, sep = \"\\t\",\n",
    "            quote = F, dec = \".\")"
   ]
  },
  {
   "cell_type": "code",
   "execution_count": null,
   "metadata": {},
   "outputs": [],
   "source": [
    "sessionInfo()"
   ]
  }
 ],
 "metadata": {
  "kernelspec": {
   "display_name": "R",
   "language": "R",
   "name": "ir"
  },
  "language_info": {
   "codemirror_mode": "r",
   "file_extension": ".r",
   "mimetype": "text/x-r-source",
   "name": "R",
   "pygments_lexer": "r",
   "version": "3.4.1"
  }
 },
 "nbformat": 4,
 "nbformat_minor": 2
}
