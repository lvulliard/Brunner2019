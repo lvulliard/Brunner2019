{
 "cells": [
  {
   "cell_type": "markdown",
   "metadata": {},
   "source": [
    "# Tissue enrichment analysis\n",
    "The file *gene_attribute_matrix.txt* has been downloaded from [Harmonizome](amp.pharm.mssm.edu/Harmonizome/dataset/BioGPS+Mouse+Cell+Type+and+Tissue+Gene+Expression+Profiles) on 2018-06-14 and represents differential expression of 15437 genes in 74 mice cell types or tissues.  \n",
    "The file *Mouse_Gene_Atlas* has been downloaded from [Enrichr](http://amp.pharm.mssm.edu/Enrichr/#stats) on the same day.  \n",
    "The file *MouseToHumanSymbols.txt* has been downloaded from [BioMart](www.ensembl.org/biomart/martview/) and maps murine gene names to human orthologues, according to Ensembl Release 92."
   ]
  },
  {
   "cell_type": "code",
   "execution_count": null,
   "metadata": {
    "collapsed": true
   },
   "outputs": [],
   "source": [
    "library(grDevices)"
   ]
  },
  {
   "cell_type": "code",
   "execution_count": null,
   "metadata": {},
   "outputs": [],
   "source": [
    "expressionMatrix = read.table(\"gene_attribute_matrix.txt\", sep = \"\\t\", header = T, comment.char = \"\")"
   ]
  },
  {
   "cell_type": "code",
   "execution_count": null,
   "metadata": {},
   "outputs": [],
   "source": [
    "names(expressionMatrix)[1:2] = c(\"GeneSym\", \"ProbeID\")\n",
    "rownames(expressionMatrix) = expressionMatrix[,1]\n",
    "expressionMatrix = t(expressionMatrix[-c(1,2),-c(1:3)])\n",
    "expressionMatrix = as.matrix(expressionMatrix)\n",
    "mode(expressionMatrix) <- \"numeric\"\n",
    "n = ncol(expressionMatrix)"
   ]
  },
  {
   "cell_type": "code",
   "execution_count": null,
   "metadata": {
    "scrolled": true
   },
   "outputs": [],
   "source": [
    "mouseToHumans = read.table(\"MouseToHumanSymbols.txt\", head=T, sep = \"\\t\")\n",
    "mouseToHumans[,1] = as.character(mouseToHumans[,1])\n",
    "mouseToHumans[,2] = as.character(mouseToHumans[,2])"
   ]
  },
  {
   "cell_type": "code",
   "execution_count": null,
   "metadata": {},
   "outputs": [],
   "source": [
    "# Load differentially expressed genes in our study\n",
    "incSet = unlist(read.csv(\"RANKL_effect_increased.csv\"))\n",
    "decSet = unlist(read.csv(\"RANKL_effect_reduced.csv\"))"
   ]
  },
  {
   "cell_type": "code",
   "execution_count": null,
   "metadata": {},
   "outputs": [],
   "source": [
    "convertToHuman <- function(x){\n",
    "    newName = unlist(subset(mouseToHumans, Gene.name == x, 2))\n",
    "    return(ifelse(length(newName) == 1, newName, ''))\n",
    "}"
   ]
  },
  {
   "cell_type": "code",
   "execution_count": null,
   "metadata": {},
   "outputs": [],
   "source": [
    "incSet = sapply(incSet, convertToHuman)\n",
    "decSet = sapply(decSet, convertToHuman)"
   ]
  },
  {
   "cell_type": "code",
   "execution_count": null,
   "metadata": {},
   "outputs": [],
   "source": [
    "# Genes absent of the expression matrix would not be detected, so we discard them\n",
    "incSet = intersect(incSet, colnames(expressionMatrix))\n",
    "decSet = intersect(decSet, colnames(expressionMatrix))"
   ]
  },
  {
   "cell_type": "code",
   "execution_count": null,
   "metadata": {},
   "outputs": [],
   "source": [
    "x = expressionMatrix[1,]\n",
    "compareTissueToInc <- function(x, set){\n",
    "    # Get gene names of overexpressed genes in the tissue\n",
    "    y = names(x)[which(x == 1)]\n",
    "    contTab = matrix(c(length(intersect(y, set)), length(setdiff(y, set)), length(setdiff(set, y)), 0), ncol = 2)\n",
    "    contTab[2,2] = n - sum(contTab)\n",
    "    ft = fisher.test(contTab, alternative = \"greater\")\n",
    "    return(c(pval = ft$p.value, ft$estimate, inter = length(intersect(y, set))))\n",
    "}"
   ]
  },
  {
   "cell_type": "code",
   "execution_count": null,
   "metadata": {},
   "outputs": [],
   "source": [
    "incEnrich = apply(expressionMatrix, 1, function(x) compareTissueToInc(x, incSet))\n",
    "incEnrich[1,] = -log10(sapply(incEnrich[1,] * ncol(incEnrich), function(x) min(x, 1)))\n",
    "par(bg = \"white\")\n",
    "colpal = colorRampPalette(c(\"#000000\", \"#FF0000\"))(max(incEnrich[3,]))\n",
    "plot(incEnrich[2,], incEnrich[1,], col = colpal[incEnrich[3,]], pch = 16,\n",
    "    xlab = \"Odd-ratio\", ylab = \"-log10(corrected p-value)\")\n",
    "incEnrich = incEnrich[,incEnrich[1,] > 1]\n",
    "text(incEnrich[2,], incEnrich[1,], labels = colnames(incEnrich), pos = c(1,2,2,2))"
   ]
  },
  {
   "cell_type": "code",
   "execution_count": null,
   "metadata": {},
   "outputs": [],
   "source": [
    "decEnrich = apply(expressionMatrix, 1, function(x) compareTissueToInc(x, decSet))\n",
    "decEnrich[1,] = -log10(sapply(decEnrich[1,] * ncol(decEnrich), function(x) min(x, 1)))\n",
    "par(bg = \"white\")\n",
    "colpal = colorRampPalette(c(\"#000000\", \"#FF0000\"))(max(decEnrich[3,]))\n",
    "plot(decEnrich[2,], decEnrich[1,], col = colpal[decEnrich[3,]], pch = 16,\n",
    "    xlab = \"Odd-ratio\", ylab = \"-log10(corrected p-value)\")\n",
    "decEnrich = decEnrich[,decEnrich[1,] > 1]\n",
    "text(decEnrich[2,], decEnrich[1,], labels = colnames(decEnrich), pos = 2)"
   ]
  },
  {
   "cell_type": "code",
   "execution_count": null,
   "metadata": {},
   "outputs": [],
   "source": [
    "which(rownames(expressionMatrix) == \"osteoclasts\")"
   ]
  },
  {
   "cell_type": "code",
   "execution_count": null,
   "metadata": {},
   "outputs": [],
   "source": [
    "x = expressionMatrix[34,]\n",
    "y = names(x)[which(x == 1)]\n",
    "set = incSet\n",
    "sort(intersect(y, set))\n",
    "contTab = matrix(c(length(intersect(y, set)), length(setdiff(y, set)), length(setdiff(set, y)), 0), ncol = 2)\n",
    "contTab[2,2] = n - sum(contTab)\n",
    "ft = fisher.test(contTab, alternative = \"greater\")\n",
    "return(c(pval = ft$p.value, ft$estimate, inter = length(intersect(y, set))))"
   ]
  },
  {
   "cell_type": "code",
   "execution_count": null,
   "metadata": {},
   "outputs": [],
   "source": [
    "set = decSet\n",
    "sort(intersect(y, set))\n",
    "contTab = matrix(c(length(intersect(y, set)), length(setdiff(y, set)), length(setdiff(set, y)), 0), ncol = 2)\n",
    "contTab[2,2] = n - sum(contTab)\n",
    "ft = fisher.test(contTab, alternative = \"greater\")\n",
    "return(c(pval = ft$p.value, ft$estimate, inter = length(intersect(y, set))))"
   ]
  },
  {
   "cell_type": "code",
   "execution_count": null,
   "metadata": {},
   "outputs": [],
   "source": [
    "expressionMatrix[33:35,9034:9036]"
   ]
  },
  {
   "cell_type": "code",
   "execution_count": null,
   "metadata": {},
   "outputs": [],
   "source": [
    "#NB: identifiers are capitalized outdated mouse gene names\n",
    "fileMGA = file(\"Mouse_Gene_Atlas\",open=\"r\")\n",
    "rawMGA = readLines(fileMGA)\n",
    "close(fileMGA)"
   ]
  },
  {
   "cell_type": "code",
   "execution_count": null,
   "metadata": {},
   "outputs": [],
   "source": [
    "extractTissue <- function(x){\n",
    "    return(strsplit(x, \"\\t\")[[1]][1])\n",
    "}\n",
    "extractGenes <- function(x){\n",
    "    geneTissue = sapply(strsplit(strsplit(x, \"\\t\")[[1]][-c(1:2)], \",\"), function(x) x[[1]])\n",
    "    return(geneTissue)\n",
    "}"
   ]
  },
  {
   "cell_type": "code",
   "execution_count": null,
   "metadata": {
    "collapsed": true
   },
   "outputs": [],
   "source": [
    "MGA = lapply(rawMGA, extractGenes)\n",
    "names(MGA) <- lapply(rawMGA, extractTissue)"
   ]
  },
  {
   "cell_type": "code",
   "execution_count": null,
   "metadata": {},
   "outputs": [],
   "source": [
    "compareTissueToInc <- function(x, set){\n",
    "    # Get gene names of overexpressed genes in the tissue\n",
    "    y = names(x)[which(x == 1)]\n",
    "    contTab = matrix(c(length(intersect(y, set)), length(setdiff(y, set)), length(setdiff(set, y)), 0), ncol = 2)\n",
    "    contTab[2,2] = n - sum(contTab)\n",
    "    ft = fisher.test(contTab, alternative = \"greater\")\n",
    "    return(c(pval = ft$p.value, ft$estimate, inter = length(intersect(y, set))))\n",
    "}"
   ]
  },
  {
   "cell_type": "code",
   "execution_count": null,
   "metadata": {},
   "outputs": [],
   "source": [
    "sort(MGA$osteoclasts)"
   ]
  },
  {
   "cell_type": "code",
   "execution_count": null,
   "metadata": {
    "collapsed": true
   },
   "outputs": [],
   "source": []
  }
 ],
 "metadata": {
  "kernelspec": {
   "display_name": "R",
   "language": "R",
   "name": "ir"
  },
  "language_info": {
   "codemirror_mode": "r",
   "file_extension": ".r",
   "mimetype": "text/x-r-source",
   "name": "R",
   "pygments_lexer": "r",
   "version": "3.4.1"
  }
 },
 "nbformat": 4,
 "nbformat_minor": 2
}
