{
 "cells": [
  {
   "cell_type": "markdown",
   "metadata": {},
   "source": [
    "# Tissue enrichment analysis\n",
    "The file *Mouse_Gene_Atlas* has been downloaded from [Enrichr](http://amp.pharm.mssm.edu/Enrichr/#stats) on 2018-06-14.  "
   ]
  },
  {
   "cell_type": "code",
   "execution_count": null,
   "metadata": {},
   "outputs": [],
   "source": [
    "library(grDevices)\n",
    "library(org.Mm.eg.db)\n",
    "library(ggplot2)"
   ]
  },
  {
   "cell_type": "code",
   "execution_count": null,
   "metadata": {
    "collapsed": true
   },
   "outputs": [],
   "source": [
    "# Load differentially expressed genes in our study\n",
    "incSet = unlist(read.csv(\"RANKL_effect_increased.csv\"))\n",
    "decSet = unlist(read.csv(\"RANKL_effect_reduced.csv\"))"
   ]
  },
  {
   "cell_type": "code",
   "execution_count": null,
   "metadata": {
    "collapsed": true
   },
   "outputs": [],
   "source": [
    "#NB: identifiers are capitalized outdated mouse gene names\n",
    "fileMGA = file(\"Mouse_Gene_Atlas\",open=\"r\")\n",
    "rawMGA = readLines(fileMGA)\n",
    "close(fileMGA)"
   ]
  },
  {
   "cell_type": "code",
   "execution_count": null,
   "metadata": {
    "collapsed": true
   },
   "outputs": [],
   "source": [
    "extractTissue <- function(x){\n",
    "    return(strsplit(x, \"\\t\")[[1]][1])\n",
    "}\n",
    "extractGenes <- function(x){\n",
    "    geneTissue = sapply(strsplit(strsplit(x, \"\\t\")[[1]][-c(1:2)], \",\"), function(x) x[[1]])\n",
    "    return(geneTissue)\n",
    "}"
   ]
  },
  {
   "cell_type": "code",
   "execution_count": null,
   "metadata": {
    "collapsed": true
   },
   "outputs": [],
   "source": [
    "MGA = lapply(rawMGA, extractGenes)\n",
    "names(MGA) <- lapply(rawMGA, extractTissue)"
   ]
  },
  {
   "cell_type": "code",
   "execution_count": null,
   "metadata": {},
   "outputs": [],
   "source": [
    "updIncSet = select(org.Mm.eg.db, keys = as.character(incSet), keytype=\"ALIAS\", col=\"SYMBOL\")\n",
    "updDecSet = select(org.Mm.eg.db, keys = as.character(decSet), keytype=\"ALIAS\", col=\"SYMBOL\")"
   ]
  },
  {
   "cell_type": "code",
   "execution_count": null,
   "metadata": {
    "scrolled": true
   },
   "outputs": [],
   "source": [
    "length(incSet)\n",
    "dim(updIncSet)\n",
    "length(decSet)\n",
    "dim(updDecSet)\n",
    "length(which(updIncSet$ALIAS != updIncSet$SYMBOL))\n",
    "length(which(updDecSet$ALIAS != updDecSet$SYMBOL))"
   ]
  },
  {
   "cell_type": "code",
   "execution_count": null,
   "metadata": {},
   "outputs": [],
   "source": [
    "updIncSet[updIncSet$ALIAS %in% updIncSet$ALIAS[duplicated(updIncSet$ALIAS)],]"
   ]
  },
  {
   "cell_type": "code",
   "execution_count": null,
   "metadata": {
    "scrolled": true
   },
   "outputs": [],
   "source": [
    "updDecSet[updDecSet$ALIAS %in% updDecSet$ALIAS[duplicated(updDecSet$ALIAS)],]"
   ]
  },
  {
   "cell_type": "markdown",
   "metadata": {},
   "source": [
    "The symbols used in these lists are up-to-date and/or ambiguous."
   ]
  },
  {
   "cell_type": "code",
   "execution_count": null,
   "metadata": {
    "scrolled": true
   },
   "outputs": [],
   "source": [
    "aliasToSymbol = select(org.Mm.eg.db, keys(org.Mm.eg.db, keytype=\"ALIAS\"), keytype=\"ALIAS\", col=\"SYMBOL\", fuzzy=T)\n",
    "aliasToSymbol$ALIAS = toupper(aliasToSymbol$ALIAS)"
   ]
  },
  {
   "cell_type": "code",
   "execution_count": null,
   "metadata": {},
   "outputs": [],
   "source": [
    "lapply(MGA, function(x) table(x %in% aliasToSymbol$ALIAS))"
   ]
  },
  {
   "cell_type": "code",
   "execution_count": null,
   "metadata": {
    "scrolled": true
   },
   "outputs": [],
   "source": [
    "MGA$uterus[which(!(MGA$uterus %in% aliasToSymbol$ALIAS))]\n",
    "MGA$common_myeloid_progenitor[which(!(MGA$common_myeloid_progenitor %in% aliasToSymbol$ALIAS))]"
   ]
  },
  {
   "cell_type": "markdown",
   "metadata": {},
   "source": [
    "Some of these gene names cannot be converted back to up-to-date symbols."
   ]
  },
  {
   "cell_type": "code",
   "execution_count": null,
   "metadata": {
    "collapsed": true
   },
   "outputs": [],
   "source": [
    "updateSymbols <- function(x){\n",
    "    updSet = aliasToSymbol[aliasToSymbol$ALIAS %in% x,]\n",
    "    dupliSymbols = updSet$ALIAS[duplicated(updSet$ALIAS)]\n",
    "    # Return non-ambiguous cases or don't change name it is an ambiguous but uptodate symbol\n",
    "    return(unique(with(updSet, updSet[(!(ALIAS %in% dupliSymbols))|(ALIAS == toupper(SYMBOL)), 2])))\n",
    "}"
   ]
  },
  {
   "cell_type": "code",
   "execution_count": null,
   "metadata": {
    "collapsed": true
   },
   "outputs": [],
   "source": [
    "updMGA = lapply(MGA, updateSymbols)"
   ]
  },
  {
   "cell_type": "code",
   "execution_count": null,
   "metadata": {
    "collapsed": true
   },
   "outputs": [],
   "source": [
    "n = length(unique(unlist(updMGA),200))\n",
    "compareTissueToInc <- function(x, set){\n",
    "    # Get gene names of overexpressed genes in the tissue\n",
    "    contTab = matrix(c(length(intersect(x, set)), length(setdiff(x, set)), length(setdiff(set, x)), 0), ncol = 2)\n",
    "    contTab[2,2] = n - sum(contTab)\n",
    "    ft = fisher.test(contTab, alternative = \"greater\")\n",
    "    return(c(pval = ft$p.value, ft$estimate, inter = length(intersect(x, set))))\n",
    "}"
   ]
  },
  {
   "cell_type": "code",
   "execution_count": null,
   "metadata": {},
   "outputs": [],
   "source": [
    "pdf(\"enrichment_wi.pdf\")\n",
    "decEnrich = sapply(updMGA, function(x) compareTissueToInc(x, decSet))\n",
    "decEnrich[1,] = -log10(sapply(decEnrich[1,] * ncol(decEnrich), function(x) min(x, 1)))\n",
    "rownames(decEnrich)[2] = \"oddsratio\"\n",
    "colpal = colorRampPalette(c(\"#000000\", \"#FF0000\"))(max(decEnrich[3,]))\n",
    "ggplot(as.data.frame(t(decEnrich)), aes(x=oddsratio, y=pval, color = inter)) +\n",
    "  scale_colour_gradientn(colours = colpal, limits=c(0,max(decEnrich[3,])),\n",
    "  breaks=c(0,round(max(decEnrich[3,])/2),max(decEnrich[3,])), name = \"Shared genes\") + \n",
    "  geom_point(size = 5) + theme_light() + theme(text=element_text(size=26, family=\"sans\"), \n",
    "    panel.grid.minor=element_blank(), legend.position = c(0.8, 0.6), legend.spacing = unit(10, \"cm\"),\n",
    "    legend.background = element_rect(size=0.3, color = \"black\"), legend.margin=margin(5,5,10,5)) +  \n",
    "  xlab(\"Odd-ratio\") + ylab(\"-log10(corrected p-value)\") + ggtitle(\"With arginine\") +\n",
    "  geom_text(aes(label=ifelse(pval>1,colnames(decEnrich),'')), hjust = 1.02, vjust = 1.05, size = 10)\n",
    "dev.off()"
   ]
  },
  {
   "cell_type": "code",
   "execution_count": null,
   "metadata": {},
   "outputs": [],
   "source": [
    "pdf(\"enrichment_wo.pdf\")\n",
    "incEnrich = sapply(updMGA, function(x) compareTissueToInc(x, incSet))\n",
    "incEnrich[1,] = -log10(sapply(incEnrich[1,] * ncol(incEnrich), function(x) min(x, 1)))\n",
    "rownames(incEnrich)[2] = \"oddsratio\"\n",
    "colpal = colorRampPalette(c(\"#000000\", \"#FF0000\"))(1+max(incEnrich[3,]))\n",
    "ggplot(as.data.frame(t(incEnrich)), aes(x=oddsratio, y=pval, color = inter)) +\n",
    "  scale_colour_gradientn(colours = colpal, limits=c(0,max(incEnrich[3,])),\n",
    "  breaks=c(0,round(max(incEnrich[3,])/2),max(incEnrich[3,])), name = \"Shared genes\") + \n",
    "  geom_point(size = 5) + theme_light() + theme(text=element_text(size=26, family=\"sans\"), \n",
    "    panel.grid.minor=element_blank(), legend.position = c(0.8, 0.6), legend.spacing = unit(10, \"cm\"),\n",
    "    legend.background = element_rect(size=0.3, color = \"black\"), legend.margin=margin(5,5,10,5)) +  \n",
    "  xlab(\"Odd-ratio\") + ylab(\"-log10(corrected p-value)\") + ggtitle(\"Without arginine\") + \n",
    "  geom_text(aes(label=ifelse(pval>1,colnames(incEnrich),'')), hjust = 1.02, vjust = 1.05, size = 10)\n",
    "dev.off()"
   ]
  }
 ],
 "metadata": {
  "kernelspec": {
   "display_name": "R",
   "language": "R",
   "name": "ir"
  },
  "language_info": {
   "codemirror_mode": "r",
   "file_extension": ".r",
   "mimetype": "text/x-r-source",
   "name": "R",
   "pygments_lexer": "r",
   "version": "3.4.1"
  }
 },
 "nbformat": 4,
 "nbformat_minor": 2
}
