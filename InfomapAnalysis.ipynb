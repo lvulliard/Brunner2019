{
 "cells": [
  {
   "cell_type": "code",
   "execution_count": null,
   "metadata": {
    "scrolled": true
   },
   "outputs": [],
   "source": [
    "library(clusterProfiler)\n",
    "library(igraph)\n",
    "library(Mus.musculus)\n",
    "library(stringr)"
   ]
  },
  {
   "cell_type": "markdown",
   "metadata": {},
   "source": [
    "## Load full graph and associate corresponding gene IDs"
   ]
  },
  {
   "cell_type": "code",
   "execution_count": null,
   "metadata": {},
   "outputs": [],
   "source": [
    "graph = read_graph(\"OmicsIntegratorRun/recAndRanklForestsColored.gml\", format = \"gml\")"
   ]
  },
  {
   "cell_type": "code",
   "execution_count": null,
   "metadata": {},
   "outputs": [],
   "source": [
    "genes <- select(Mus.musculus, keys=vertex_attr(graph)$name, columns=c(\"ENTREZID\", \"TXCHROM\"), \n",
    "                keytype=\"SYMBOL\")\n",
    "aliasToSymbol <- select(Mus.musculus, genes$SYMBOL[is.na(genes$ENTREZID)], keytype=\"ALIAS\", col=c(\"ENTREZID\", \"TXCHROM\", \"SYMBOL\"), fuzzy=T)"
   ]
  },
  {
   "cell_type": "code",
   "execution_count": null,
   "metadata": {},
   "outputs": [],
   "source": [
    "getGeneID <- function(symbol){\n",
    "    geneID = genes$ENTREZID[genes$SYMBOL == symbol]\n",
    "    if (is.na(geneID)){\n",
    "        geneID = aliasToSymbol$ENTREZID[aliasToSymbol$ALIAS == symbol]\n",
    "    }\n",
    "    return(geneID)\n",
    "}"
   ]
  },
  {
   "cell_type": "code",
   "execution_count": null,
   "metadata": {},
   "outputs": [],
   "source": [
    "orderedGeneIDs <- sapply(vertex_attr(graph)$name, getGeneID)"
   ]
  },
  {
   "cell_type": "markdown",
   "metadata": {},
   "source": [
    "## Load Infomap clusters"
   ]
  },
  {
   "cell_type": "code",
   "execution_count": null,
   "metadata": {},
   "outputs": [],
   "source": [
    "netMap = scan(\"net.map\", character(), sep = \"\\n\")"
   ]
  },
  {
   "cell_type": "code",
   "execution_count": null,
   "metadata": {},
   "outputs": [],
   "source": [
    "# Extract community of each node\n",
    "startTab = grep(\"*Nodes\", netMap)\n",
    "endTab = grep(\"*Links\", netMap)\n",
    "tab = matrix(unlist(sapply(str_remove_all(netMap[(startTab+1):(endTab-1)], '\"'), function(x) str_split(x, \" \"))), nrow = 3)\n",
    "nodeModules = data.frame(node = tab[2,], module = sapply(tab[1,], function(x) strsplit(x, \":\")[[1]][1]))"
   ]
  },
  {
   "cell_type": "markdown",
   "metadata": {},
   "source": [
    "## Perform enrichment for each cluster"
   ]
  },
  {
   "cell_type": "code",
   "execution_count": null,
   "metadata": {},
   "outputs": [],
   "source": [
    "moduleKeggEnrichment <- function(modNodes){\n",
    "    # IDs corresponds to annotation order but are starting from 0 instead of 1\n",
    "    modIDs = orderedGeneIDs[as.numeric(as.character(modNodes)) + 1]\n",
    "    return(enrichKEGG(modIDs, 'mmu', 'ncbi-geneid'))\n",
    "}"
   ]
  },
  {
   "cell_type": "code",
   "execution_count": null,
   "metadata": {},
   "outputs": [],
   "source": [
    "enrichments = aggregate(nodeModules$node, list(nodeModules$module), moduleKeggEnrichment, simplify = F)"
   ]
  },
  {
   "cell_type": "code",
   "execution_count": null,
   "metadata": {},
   "outputs": [],
   "source": [
    "headEnrich = rbind(sapply(1:dim(enrichments)[1], function(y) head(enrichments$x[y][[1]])), Cluster = 1:9)"
   ]
  },
  {
   "cell_type": "code",
   "execution_count": null,
   "metadata": {},
   "outputs": [],
   "source": [
    "headEnrich"
   ]
  },
  {
   "cell_type": "code",
   "execution_count": null,
   "metadata": {},
   "outputs": [],
   "source": [
    "sessionInfo()"
   ]
  }
 ],
 "metadata": {
  "kernelspec": {
   "display_name": "R",
   "language": "R",
   "name": "ir"
  },
  "language_info": {
   "codemirror_mode": "r",
   "file_extension": ".r",
   "mimetype": "text/x-r-source",
   "name": "R",
   "pygments_lexer": "r",
   "version": "3.5.1"
  },
  "toc": {
   "base_numbering": 1,
   "nav_menu": {},
   "number_sections": false,
   "sideBar": false,
   "skip_h1_title": false,
   "title_cell": "Table of Contents",
   "title_sidebar": "Contents",
   "toc_cell": false,
   "toc_position": {},
   "toc_section_display": false,
   "toc_window_display": false
  }
 },
 "nbformat": 4,
 "nbformat_minor": 2
}
