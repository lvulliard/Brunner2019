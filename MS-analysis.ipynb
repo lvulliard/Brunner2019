{
 "cells": [
  {
   "cell_type": "markdown",
   "metadata": {},
   "source": [
    "# MS proteomics data analysis"
   ]
  },
  {
   "cell_type": "code",
   "execution_count": null,
   "metadata": {},
   "outputs": [],
   "source": [
    "source(\"https://bioconductor.org/biocLite.R\")\n",
    "biocLite()\n",
    "biocLite(c(\"limma\"))\n",
    "library(limma)\n",
    "library(heatmaply)\n",
    "library(RColorBrewer)"
   ]
  },
  {
   "cell_type": "code",
   "execution_count": null,
   "metadata": {
    "collapsed": true
   },
   "outputs": [],
   "source": [
    "#Load data\n",
    "MS = read.table(\"20180202_OsteoclastProteomes_Protein_groups_filtered_imputed.txt\", sep = \"\\t\", head=T)"
   ]
  },
  {
   "cell_type": "code",
   "execution_count": null,
   "metadata": {},
   "outputs": [],
   "source": [
    "dim(MS[,1:20])"
   ]
  },
  {
   "cell_type": "code",
   "execution_count": null,
   "metadata": {},
   "outputs": [],
   "source": [
    "# Unfiltered MDF plot\n",
    "pdf(\"mdsLogMS.pdf\")\n",
    "par(family = \"sans\")\n",
    "colpal = brewer.pal(5, \"Set2\")\n",
    "plotMDS(MS[,1:20], col = colpal[rep(1:5, each=4)])\n",
    "dev.off()"
   ]
  },
  {
   "cell_type": "code",
   "execution_count": null,
   "metadata": {},
   "outputs": [],
   "source": [
    "#Filter for protein with high abundance variation\n",
    "coefVarMS = apply(MS[,1:20], 1, function(x) sd(x)/mean(x) )\n",
    "dim(MS[coefVarMS > 0.02,1:20]) # Keep 22% with highest coefficient of variation"
   ]
  },
  {
   "cell_type": "code",
   "execution_count": null,
   "metadata": {},
   "outputs": [],
   "source": [
    "a = Sys.time()\n",
    "heatmaply(MS[coefVarMS > 0.02,1:20])\n",
    "b = Sys.time()\n",
    "print(b-a)"
   ]
  },
  {
   "cell_type": "code",
   "execution_count": null,
   "metadata": {},
   "outputs": [],
   "source": [
    "heatmaply(cor(MS[coefVarMS > 0.02,1:20]))"
   ]
  },
  {
   "cell_type": "code",
   "execution_count": null,
   "metadata": {},
   "outputs": [],
   "source": [
    "# Filtered MDF plot\n",
    "pdf(\"mdsLogMSfilteredCoefVar.pdf\")\n",
    "par(family = \"sans\")\n",
    "plotMDS(MS[coefVarMS > 0.02,1:20], col = colpal[rep(1:5, each=4)])\n",
    "dev.off()"
   ]
  },
  {
   "cell_type": "code",
   "execution_count": null,
   "metadata": {
    "collapsed": true
   },
   "outputs": [],
   "source": [
    "# Load transformed data with t-test results\n",
    "protFiltered = read.table(\"Perseus_run/ProteinsTTestFiltered.txt\", sep = \"\\t\", head=T, quote=\"\")"
   ]
  },
  {
   "cell_type": "code",
   "execution_count": null,
   "metadata": {
    "collapsed": true
   },
   "outputs": [],
   "source": [
    "names(protFiltered)[2] <- \"LogPvalue\"\n",
    "# Color for significant abundance changes\n",
    "protFiltered$color = ifelse(test = protFiltered$Difference > 0, \"#4A91C4\", \"#F09F4E\")\n",
    "protFiltered[protFiltered$Significant != \"+\", 99] = \"grey\"\n",
    "protFiltered$Gene.names <- as.character(protFiltered$Gene.names)\n",
    "# Keep only the first gene name when several are provided\n",
    "protFiltered[,7] <- sub(\";.*\", \"\", protFiltered[,7])"
   ]
  },
  {
   "cell_type": "code",
   "execution_count": null,
   "metadata": {
    "collapsed": true
   },
   "outputs": [],
   "source": [
    "# Threshold curve\n",
    "protFilterCurve = read.table(\"Perseus_run/ProteinsTTestFilteredCurve.txt\", sep = \"\\t\", head=T, quote=\"\")"
   ]
  },
  {
   "cell_type": "code",
   "execution_count": null,
   "metadata": {
    "scrolled": true
   },
   "outputs": [],
   "source": [
    "#pdf(\"volcanoPlotFiltering.pdf\")\n",
    "par(family = \"sans\")\n",
    "ptsToLabelRight = c(139,441,24,38,268,147,112,331,132,307,284,419,181,301,184,306,325,291,10,221,3)\n",
    "ptsToLabelLeft = c(222,290,208,258,490,151,286,507,451,282,385)\n",
    "with(protFiltered, plot(LogPvalue ~ Difference, pch=20, col=color, ylab = \"log(p-value)\",\n",
    "                       xlab = \"mean(RANKL+Arg) - mean(RANKL+Arg+recArg1)\"))\n",
    "with(protFiltered[ptsToLabelLeft,], text(LogPvalue ~ Difference, labels = Gene.names, cex = 0.8, adj = c(-0.2,1)))\n",
    "with(protFiltered[ptsToLabelRight,], text(LogPvalue ~ Difference, labels = Gene.names, cex = 0.8, adj = c(1.2,1)))\n",
    "lines(protFilterCurve, lty = 2)\n",
    "#dev.off()"
   ]
  },
  {
   "cell_type": "code",
   "execution_count": null,
   "metadata": {
    "collapsed": true
   },
   "outputs": [],
   "source": [
    "# Used to find the list of proteins to annotate\n",
    "# ptsToLabel = which(protFiltered$Significant == \"+\")\n",
    "# with(protFiltered[ptsToLabelTest,], text(LogPvalue ~ Difference, labels = Gene.names, col = 2, cex = 0.8, adj = c(-.2,1)))\n",
    "# ptsToLabelTest = sample(ptsToLabel, 30)\n",
    "# print(ptsToLabelTest)\n",
    "# protFiltered[ptsToLabelTest,7]"
   ]
  },
  {
   "cell_type": "code",
   "execution_count": null,
   "metadata": {
    "collapsed": true
   },
   "outputs": [],
   "source": [
    "listDown = protFiltered[protFiltered$color == \"#4A91C4\",7]\n",
    "listUp = protFiltered[protFiltered$color == \"#F09F4E\",7]"
   ]
  },
  {
   "cell_type": "code",
   "execution_count": null,
   "metadata": {
    "scrolled": true
   },
   "outputs": [],
   "source": [
    "for (i in listDown){cat(i);cat(\"\\n\")}"
   ]
  },
  {
   "cell_type": "code",
   "execution_count": null,
   "metadata": {},
   "outputs": [],
   "source": [
    "for (i in listUp){cat(i);cat(\"\\n\")}"
   ]
  },
  {
   "cell_type": "code",
   "execution_count": null,
   "metadata": {},
   "outputs": [],
   "source": [
    "for (i in protFiltered[rev(order(protFiltered$LogPvalue))[1:40],7]){cat(i);cat(\"\\n\")}"
   ]
  },
  {
   "cell_type": "markdown",
   "metadata": {},
   "source": [
    "## Export for OmicsIntegrator"
   ]
  },
  {
   "cell_type": "code",
   "execution_count": null,
   "metadata": {
    "scrolled": true
   },
   "outputs": [],
   "source": [
    "pf <- protFiltered\n",
    "pf$Difference <- abs(pf$Difference)\n",
    "write.table(pf[pf$Significant == \"+\",c(13,3)], \"OmicsIntegratorRun/recArg1_prot.tsv\", row.names = FALSE,\n",
    "          col.names = FALSE, quote = FALSE, sep = \"\\t\") "
   ]
  },
  {
   "cell_type": "code",
   "execution_count": null,
   "metadata": {},
   "outputs": [],
   "source": [
    "sessionInfo()"
   ]
  }
 ],
 "metadata": {
  "kernelspec": {
   "display_name": "R",
   "language": "R",
   "name": "ir"
  },
  "language_info": {
   "codemirror_mode": "r",
   "file_extension": ".r",
   "mimetype": "text/x-r-source",
   "name": "R",
   "pygments_lexer": "r",
   "version": "3.4.1"
  }
 },
 "nbformat": 4,
 "nbformat_minor": 2
}
