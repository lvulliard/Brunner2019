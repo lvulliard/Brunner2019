{
 "cells": [
  {
   "cell_type": "markdown",
   "metadata": {},
   "source": [
    "# MS proteomics data analysis"
   ]
  },
  {
   "cell_type": "code",
   "execution_count": null,
   "metadata": {
    "scrolled": true
   },
   "outputs": [],
   "source": [
    "library(limma)\n",
    "library(heatmaply)\n",
    "library(RColorBrewer)\n",
    "library(ggplot2)\n",
    "library(ggrepel)\n",
    "library(clusterProfiler)\n",
    "library(Mus.musculus)\n",
    "library(plyr)\n",
    "library(dendextend)\n",
    "library(httr)\n",
    "library(stringr)"
   ]
  },
  {
   "cell_type": "code",
   "execution_count": null,
   "metadata": {},
   "outputs": [],
   "source": [
    "#Load data\n",
    "MS = read.table(\"20180202_OsteoclastProteomes_Protein_groups_filtered_imputed.txt\", sep = \"\\t\", head=T)"
   ]
  },
  {
   "cell_type": "code",
   "execution_count": null,
   "metadata": {},
   "outputs": [],
   "source": [
    "# Unfiltered MDF plot\n",
    "svg(\"mdsLogMS.svg\")\n",
    "cndtType = c(\"MCSF\", \"MCSF_Arg\", \"MCSF_RANKL\", \"MCSF_RANKL_Arg\", \"MCSF_RANKL_Arg_recArg\")\n",
    "par(bg = \"white\", family = \"sans\", cex = 1.3)\n",
    "colpal = brewer.pal(5, \"Set2\")\n",
    "plotMDS(MS[,1:20], pch = 16, col = colpal[rep(1:5, each=4)])\n",
    "legend(0.16, -.53, legend=cndtType,\n",
    "       col=colpal, pch=16, cex=0.8)\n",
    "dev.off()"
   ]
  },
  {
   "cell_type": "code",
   "execution_count": null,
   "metadata": {},
   "outputs": [],
   "source": [
    "# Load transformed data with t-test results\n",
    "protFiltered = read.table(\"Perseus_run/ProteinsTTestFiltered.txt\", sep = \"\\t\", head=T, quote=\"\")"
   ]
  },
  {
   "cell_type": "code",
   "execution_count": null,
   "metadata": {},
   "outputs": [],
   "source": [
    "names(protFiltered)[2] <- \"LogPvalue\"\n",
    "# Color for significant abundance changes\n",
    "protFiltered$color = ifelse(test = protFiltered$Difference > 0, \"Downregulated\", \"Upregulated\")\n",
    "protFiltered[protFiltered$Significant != \"+\", 99] = \"No significant change\"\n",
    "protFiltered$Gene.names <- as.character(protFiltered$Gene.names)\n",
    "# Keep only the first gene name when several are provided\n",
    "protFiltered[,7] <- sub(\";.*\", \"\", protFiltered[,7])"
   ]
  },
  {
   "cell_type": "code",
   "execution_count": null,
   "metadata": {
    "scrolled": false
   },
   "outputs": [],
   "source": [
    "pdf(\"volcanoPlotFiltering.pdf\")\n",
    "n_genes = paste(\"n =\", paste(table(protFiltered$color), collapse = \"/\"))\n",
    "ptsToLabel = c(441,147,112,132,307,184,306,10,221,3,\n",
    "               222,290,208,258,490,286,507,451,282,385)\n",
    "protFiltered$labs = ifelse((protFiltered$LogPvalue > 3)|(1:length(protFiltered$LogPvalue) %in% ptsToLabel),\n",
    "                           protFiltered$Gene.names,\"\")\n",
    "ggplot(protFiltered, aes(x = - Difference, y = LogPvalue, color = color, label = labs)) + theme_light() +\n",
    "  theme(text=element_text(size=20, family=\"sans\"), plot.margin = margin(5, 15, 5, 5), panel.grid.minor=element_blank(),\n",
    "  legend.position = c(0.725, 0.9), legend.spacing = unit(10, \"cm\"), legend.title=element_blank(),\n",
    "  legend.background = element_rect(size=0.3, color = \"black\"), legend.margin=margin(5,5,10,5)) + \n",
    "  scale_color_manual(values = c(\"#4A91C4\",\"#AAAAAA\",\"#F09F4E\")) +\n",
    "  ylab(\"-log10(P-value)\") + xlab(\"mean(RANKL+Arg+recArg1) - mean(RANKL+Arg)\") + annotate(\"text\", x = 1.7, y = 0, label = n_genes, size = 7) +\n",
    "  geom_point() + geom_text_repel(size = 7, point.padding = 0.5, force = 0.02, segment.alpha = 0.5, show.legend = F)\n",
    "dev.off()"
   ]
  },
  {
   "cell_type": "code",
   "execution_count": null,
   "metadata": {
    "scrolled": true
   },
   "outputs": [],
   "source": [
    "write.csv(protFiltered[protFiltered$color == \"Downregulated\",c(7,2,3)], \"prot_recArg_Down.csv\", row.names = F)\n",
    "write.csv(protFiltered[protFiltered$color == \"Upregulated\",c(7,2,3)], \"prot_recArg_Up.csv\", row.names = F)"
   ]
  },
  {
   "cell_type": "code",
   "execution_count": null,
   "metadata": {},
   "outputs": [],
   "source": [
    "ensgRecArg = unique(na.omit(sapply(protFiltered[protFiltered$color != \"No significant change\",4],\n",
    "               function(x) strsplit(as.character(x), \";\")[[1]][1])))\n",
    "head(enrichKEGG(ensgRecArg, \"mmu\", keyType = \"uniprot\"))"
   ]
  },
  {
   "cell_type": "code",
   "execution_count": null,
   "metadata": {},
   "outputs": [],
   "source": [
    "for (i in protFiltered[rev(order(protFiltered$LogPvalue))[1:40],7]){cat(i);cat(\"\\n\")}"
   ]
  },
  {
   "cell_type": "markdown",
   "metadata": {},
   "source": [
    "### Comparison between arginine depletion and recArg1"
   ]
  },
  {
   "cell_type": "code",
   "execution_count": null,
   "metadata": {},
   "outputs": [],
   "source": [
    "# Load transformed data with t-test results\n",
    "protFilteredDvr = read.table(\"Perseus_run/ProteinsTTestFiltered_deplVsRec.txt\", sep = \"\\t\", head=T, quote=\"\")"
   ]
  },
  {
   "cell_type": "code",
   "execution_count": null,
   "metadata": {},
   "outputs": [],
   "source": [
    "names(protFilteredDvr)[2] <- \"LogPvalue\"\n",
    "# Color for significant abundance changes\n",
    "protFilteredDvr$color = ifelse(test = protFilteredDvr$Difference > 0, \"#4A91C4\", \"#F09F4E\")\n",
    "protFilteredDvr[protFilteredDvr$Significant != \"+\", 93] = \"grey\"\n",
    "protFilteredDvr$Gene.names <- as.character(protFilteredDvr$Gene.names)\n",
    "# Keep only the first gene name when several are provided\n",
    "protFilteredDvr[,7] <- sub(\";.*\", \"\", protFilteredDvr[,7])"
   ]
  },
  {
   "cell_type": "code",
   "execution_count": null,
   "metadata": {},
   "outputs": [],
   "source": [
    "# Threshold curve\n",
    "protFilterCurveDvr = read.table(\"Perseus_run/ProteinsTTestFiltered_deplVsRec_Curve.txt\", sep = \"\\t\", head=T, quote=\"\")"
   ]
  },
  {
   "cell_type": "code",
   "execution_count": null,
   "metadata": {
    "scrolled": true
   },
   "outputs": [],
   "source": [
    "pdf(\"volcanoPlotFiltering_deplVsRec.pdf\")\n",
    "par(family = \"sans\", bg = \"white\")\n",
    "ptsToLabelRight = c(221,32,155,245,197,112,461,251,114,168,3,56,100,259,225,110,173, 234, 173, 212,32,231,386,443,391)\n",
    "ptsToLabelLeft = c(290,151,286,6,502,352,180,73,2,296,94,279)\n",
    "with(protFilteredDvr, plot(LogPvalue ~ Difference, pch=20, col=color, ylab = \"log(p-value)\",\n",
    "                       xlab = \"mean(RANKL) - mean(RANKL+Arg+recArg1)\"))\n",
    "with(protFilteredDvr[ptsToLabelLeft,], text(LogPvalue ~ Difference, labels = Gene.names, cex = 0.8, adj = c(-0.2,1)))\n",
    "with(protFilteredDvr[ptsToLabelRight,], text(LogPvalue ~ Difference, labels = Gene.names, cex = 0.8, adj = c(1.2,1)))\n",
    "lines(protFilterCurveDvr, lty = 2)\n",
    "dev.off()"
   ]
  },
  {
   "cell_type": "markdown",
   "metadata": {},
   "source": [
    "### Effect of RANKL with and without arginine"
   ]
  },
  {
   "cell_type": "code",
   "execution_count": null,
   "metadata": {},
   "outputs": [],
   "source": [
    "# Load transformed data with t-test results\n",
    "protFilteredRanklArg = read.table(\"Perseus_run/ProteinsTTestFiltered_rankl_Arg.txt\", sep = \"\\t\", head=T, quote=\"\")\n",
    "protFilteredRanklDep = read.table(\"Perseus_run/ProteinsTTestFiltered_rankl_noArg.txt\", sep = \"\\t\", head=T, quote=\"\")"
   ]
  },
  {
   "cell_type": "code",
   "execution_count": null,
   "metadata": {},
   "outputs": [],
   "source": [
    "names(protFilteredRanklArg)[2] <- \"LogPvalue\"\n",
    "names(protFilteredRanklDep)[2] <- \"LogPvalue\"\n",
    "# Color for significant abundance changes\n",
    "protFilteredRanklArg$color = ifelse(test = protFilteredRanklArg$Difference > 0, \"Downregulated\", \"Upregulated\")\n",
    "protFilteredRanklArg[protFilteredRanklArg$Significant != \"+\", 93] = \"No significant change\"\n",
    "protFilteredRanklArg$Gene.names <- as.character(protFilteredRanklArg$Gene.names)\n",
    "# Keep only the first gene name when several are provided\n",
    "protFilteredRanklArg[,7] <- sub(\";.*\", \"\", protFilteredRanklArg[,7])\n",
    "# Color for significant abundance changes\n",
    "protFilteredRanklDep$color = ifelse(test = protFilteredRanklDep$Difference > 0, \"#4A91C4\", \"#F09F4E\")\n",
    "protFilteredRanklDep[protFilteredRanklDep$Significant != \"+\", 93] = \"grey\"\n",
    "protFilteredRanklDep$Gene.names <- as.character(protFilteredRanklDep$Gene.names)\n",
    "# Keep only the first gene name when several are provided\n",
    "protFilteredRanklDep[,7] <- sub(\";.*\", \"\", protFilteredRanklDep[,7])"
   ]
  },
  {
   "cell_type": "code",
   "execution_count": null,
   "metadata": {},
   "outputs": [],
   "source": [
    "# Threshold curve\n",
    "protFilterCurveRanklDep = read.table(\"Perseus_run/ProteinsTTestFiltered_rankl_noArg_Curve.txt\", sep = \"\\t\", head=T, quote=\"\")"
   ]
  },
  {
   "cell_type": "code",
   "execution_count": null,
   "metadata": {
    "scrolled": true
   },
   "outputs": [],
   "source": [
    "pdf(\"volcanoPlotFiltering_ranklArg.pdf\")\n",
    "n_genes = paste(\"n =\", paste(table(protFilteredRanklArg$color), collapse = \"/\"))\n",
    "ptsToLabel = c(290,6,352,221,155,151,245,197,112)\n",
    "protFilteredRanklArg$labs = ifelse((protFilteredRanklArg$LogPvalue > 4.5)|\n",
    "                                   (1:length(protFilteredRanklArg$LogPvalue) %in% ptsToLabel),\n",
    "                           protFilteredRanklArg$Gene.names,\"\")\n",
    "ggplot(protFilteredRanklArg, aes(x = - Difference, y = LogPvalue, color = color, label = labs)) + theme_light() +\n",
    "  theme(text=element_text(size=20, family=\"sans\"), plot.margin = margin(5, 15, 5, 5), panel.grid.minor=element_blank(),\n",
    "  legend.position = c(0.225, 0.9), legend.spacing = unit(10, \"cm\"), legend.title=element_blank(),\n",
    "  legend.background = element_rect(size=0.3, color = \"black\"), legend.margin=margin(5,5,10,5)) + \n",
    "  scale_color_manual(values = c(\"#4A91C4\",\"#AAAAAA\",\"#F09F4E\")) +\n",
    "  ylab(\"-log10(P-value)\") + xlab(\"mean(RANKL+Arg) - mean(Arg)\") + annotate(\"text\", x = 1.6, y = 0, label = n_genes, size = 7) +\n",
    "  geom_point() + geom_text_repel(size = 7, point.padding = 0.6, force = 0.04, segment.alpha = 0.5, show.legend = F)\n",
    "dev.off()"
   ]
  },
  {
   "cell_type": "markdown",
   "metadata": {},
   "source": [
    "Label RANKL and recArg1 volcano plots based on shared or specific DEG. The proteins are in the same order in both lists:"
   ]
  },
  {
   "cell_type": "code",
   "execution_count": null,
   "metadata": {},
   "outputs": [],
   "source": [
    "all(protFiltered$Gene.names == protFilteredRanklArg$Gene.names)"
   ]
  },
  {
   "cell_type": "code",
   "execution_count": null,
   "metadata": {},
   "outputs": [],
   "source": [
    "svg(\"volcanoPlotFiltering_ranklArg_relabelled.svg\")\n",
    "n_genes = paste(\"n =\", paste(table(protFilteredRanklArg$color), collapse = \"/\"))\n",
    "protFilteredRanklArg$labs = ifelse((protFilteredRanklArg$color != \"No significant change\") & (protFiltered$color != \"No significant change\"),\n",
    "      protFiltered$Gene.names, \"\")\n",
    "ggplot(protFilteredRanklArg, aes(x = - Difference, y = LogPvalue, color = color, label = labs)) + theme_light() +\n",
    "  theme(text=element_text(size=20, family=\"sans\"), plot.margin = margin(5, 15, 5, 5), panel.grid.minor=element_blank(),\n",
    "  legend.position = c(0.225, 0.9), legend.spacing = unit(10, \"cm\"), legend.title=element_blank(),\n",
    "  legend.background = element_rect(size=0.3, color = \"black\"), legend.margin=margin(5,5,10,5)) + \n",
    "  scale_color_manual(values = c(\"#4A91C4\",\"#AAAAAA\",\"#F09F4E\")) +\n",
    "  ylab(\"-log10(P-value)\") + xlab(\"mean(RANKL+Arg) - mean(Arg)\") + annotate(\"text\", x = 1.6, y = 0, label = n_genes, size = 7) +\n",
    "  geom_point() + geom_text_repel(size = 7, point.padding = 0.6, force = 0.04, segment.alpha = 0.5, show.legend = F)\n",
    "dev.off()"
   ]
  },
  {
   "cell_type": "code",
   "execution_count": null,
   "metadata": {},
   "outputs": [],
   "source": [
    "svg(\"volcanoPlotFiltering_relabelled.svg\")\n",
    "n_genes = paste(\"n =\", paste(table(protFiltered$color), collapse = \"/\"))\n",
    "protFiltered$labs = ifelse( (protFilteredRanklArg$labs == \"\") & (protFiltered$color != \"No significant change\"),\n",
    "        protFiltered$Gene.names, \"\")\n",
    "ggplot(protFiltered, aes(x = - Difference, y = LogPvalue, color = color, label = labs)) + theme_light() +\n",
    "  theme(text=element_text(size=20, family=\"sans\"), plot.margin = margin(5, 15, 5, 5), panel.grid.minor=element_blank(),\n",
    "  legend.position = c(0.725, 0.9), legend.spacing = unit(10, \"cm\"), legend.title=element_blank(),\n",
    "  legend.background = element_rect(size=0.3, color = \"black\"), legend.margin=margin(5,5,10,5)) + \n",
    "  scale_color_manual(values = c(\"#4A91C4\",\"#AAAAAA\",\"#F09F4E\")) +\n",
    "  ylab(\"-log10(P-value)\") + xlab(\"mean(RANKL+Arg+recArg1) - mean(RANKL+Arg)\") + annotate(\"text\", x = 1.7, y = 0, label = n_genes, size = 7) +\n",
    "  geom_point() + geom_text_repel(size = 7, point.padding = 0.5, force = 0.02, segment.alpha = 0.5, show.legend = F)\n",
    "dev.off()"
   ]
  },
  {
   "cell_type": "code",
   "execution_count": null,
   "metadata": {
    "scrolled": true
   },
   "outputs": [],
   "source": [
    "write.csv(protFilteredRanklArg[protFilteredRanklArg$color == \"Downregulated\",c(7,2,3)], \"prot_rankl_Down.csv\", row.names = F)\n",
    "write.csv(protFilteredRanklArg[protFilteredRanklArg$color == \"Upregulated\",c(7,2,3)], \"prot_rankl_Up.csv\", row.names = F)"
   ]
  },
  {
   "cell_type": "code",
   "execution_count": null,
   "metadata": {},
   "outputs": [],
   "source": [
    "ensgRankl = unique(na.omit(sapply(protFilteredRanklArg[protFilteredRanklArg$color != \"No significant change\",4],\n",
    "               function(x) strsplit(as.character(x), \";\")[[1]][1])))\n",
    "head(enrichKEGG(ensgRankl, \"mmu\", keyType = \"uniprot\"))"
   ]
  },
  {
   "cell_type": "code",
   "execution_count": null,
   "metadata": {},
   "outputs": [],
   "source": [
    "pdf(\"volcanoPlotFiltering_ranklDep.pdf\")\n",
    "par(family = \"sans\", bg = \"white\")\n",
    "ptsToLabelRight =  c(290,6,352) #c(221,32,155,245,197,112,461,251,114,168,3,56,100,259,225,110,173, 234, 173, 212,32,231,386,443,391)\n",
    "ptsToLabelLeft = c(221,155,151,245,197,112) #c(290,151,286,6,502,352,180,73,2,296,94,279)\n",
    "with(protFilteredRanklDep, plot(LogPvalue ~ Difference, pch=20, col=color, ylab = \"log(p-value)\",\n",
    "                       xlab = \"mean(MCSF) - mean(RANKL+MCSF)\"))\n",
    "with(protFilteredRanklDep[ptsToLabelLeft,], text(LogPvalue ~ Difference, labels = Gene.names, cex = 0.8, adj = c(-0.2,1)))\n",
    "with(protFilteredRanklDep[ptsToLabelRight,], text(LogPvalue ~ Difference, labels = Gene.names, cex = 0.8, adj = c(1.2,1)))\n",
    "lines(protFilterCurveRanklDep, lty = 2)\n",
    "dev.off()"
   ]
  },
  {
   "cell_type": "markdown",
   "metadata": {},
   "source": [
    "## Export for OmicsIntegrator"
   ]
  },
  {
   "cell_type": "code",
   "execution_count": null,
   "metadata": {
    "scrolled": true
   },
   "outputs": [],
   "source": [
    "pf <- protFiltered\n",
    "pf$Difference <- abs(pf$Difference)\n",
    "write.table(pf[pf$Significant == \"+\",c(13,3)], \"OmicsIntegratorRun/recArg1_prot.tsv\", row.names = FALSE,\n",
    "          col.names = FALSE, quote = FALSE, sep = \"\\t\") "
   ]
  },
  {
   "cell_type": "code",
   "execution_count": null,
   "metadata": {},
   "outputs": [],
   "source": [
    "pfd <- protFilteredDvr\n",
    "pfd$Difference <- abs(pfd$Difference)\n",
    "write.table(pfd[pfd$Significant == \"+\",c(13,3)], \"OmicsIntegratorRun/deplOrRec_prot.tsv\", row.names = FALSE,\n",
    "          col.names = FALSE, quote = FALSE, sep = \"\\t\") "
   ]
  },
  {
   "cell_type": "code",
   "execution_count": null,
   "metadata": {
    "scrolled": true
   },
   "outputs": [],
   "source": [
    "mergedProtRANKL = cbind(protFilteredRanklArg[,c(1:3,13)], protFilteredRanklDep[,c(1:3,13)])\n",
    "\n",
    "# Test if a protein with differential abundance for one condition have a different behavior for the other\n",
    "checkIfDiff <- function(x){\n",
    "    if (x[,1] == \"+\" & x[,5] == \"+\"){\n",
    "        if (x[,3] > 0 & x[,7] < 0){\n",
    "            return(1) # Prot abundance is up in presence of arginine and down without\n",
    "        }\n",
    "        if (x[,3] < 0 & x[,7] > 0){\n",
    "            return(-1) # Prot abundance is down in presence of arginine and up without\n",
    "        }\n",
    "    }\n",
    "    else if (x[,1] == \"+\"){\n",
    "        if (x[,3] > max(0, x[,7] + 1)){\n",
    "            return(1) # Prot abundance is up in presence of arginine, not without\n",
    "        }\n",
    "        if (x[,3] < min(0, x[,7] - 1)){\n",
    "            return(-1) # Prot abundance is down in presence of arginine, not without\n",
    "        }\n",
    "    }\n",
    "    else if (x[,5] == \"+\"){\n",
    "        if (x[,7] > max(0, x[,3] + 1)){\n",
    "            return(-1) # Prot abundance is up in absence of arginine, not with it\n",
    "        }\n",
    "        if (x[,7] < min(0, x[,3] - 1)){\n",
    "            return(1) # Prot abundance is down in absence of arginine, not with it\n",
    "        }\n",
    "    }\n",
    "    return(0)\n",
    "}\n",
    "\n",
    "protRanklGroup = adply(mergedProtRANKL, 1, checkIfDiff, .expand = FALSE)$V1"
   ]
  },
  {
   "cell_type": "code",
   "execution_count": null,
   "metadata": {
    "scrolled": true
   },
   "outputs": [],
   "source": [
    "for (i in mergedProtRANKL[which(protRanklGroup == 1),4]){\n",
    "    cat(strsplit(i, \";\")[[1]][1], \"\\n\")\n",
    "}\n",
    "for (i in mergedProtRANKL[which(protRanklGroup == -1),4]){\n",
    "    cat(strsplit(i, \";\")[[1]][1], \"\\n\")\n",
    "}"
   ]
  },
  {
   "cell_type": "code",
   "execution_count": null,
   "metadata": {},
   "outputs": [],
   "source": [
    "table(protRanklGroup)/(44+365+103)"
   ]
  },
  {
   "cell_type": "code",
   "execution_count": null,
   "metadata": {
    "scrolled": true
   },
   "outputs": [],
   "source": [
    "names(mergedProtRANKL) = make.names(names(mergedProtRANKL), unique = T)\n",
    "mpr = mergedProtRANKL[c(which(protRanklGroup == 1), which(protRanklGroup == -1)),]\n",
    "mpr = data.frame(mpr$Gene.name, apply(abs(mpr[,c(3,7)]), 1, max))\n",
    "# Take abs big diff + Gene.name\n",
    "write.table(mpr, \"OmicsIntegratorRun/ranklDiff_prot.tsv\", row.names = FALSE,\n",
    "          col.names = FALSE, quote = FALSE, sep = \"\\t\") "
   ]
  },
  {
   "cell_type": "markdown",
   "metadata": {},
   "source": [
    "## Format heatmap"
   ]
  },
  {
   "cell_type": "code",
   "execution_count": null,
   "metadata": {},
   "outputs": [],
   "source": [
    "filterProtTable = read.table(\"Perseus_run/prot_hm_data.txt\", sep=\"\\t\", header = T)"
   ]
  },
  {
   "cell_type": "code",
   "execution_count": null,
   "metadata": {
    "scrolled": true
   },
   "outputs": [],
   "source": [
    "colPal <- colorRampPalette(c(\"#4A91C4\",\"white\",\"#F09F4E\"))\n",
    "genes = sapply(as.character(filterProtTable$T..Gene.names), function(x) strsplit(x, ';')[[1]][1])\n",
    "rownames(filterProtTable) <- genes\n",
    "cndt = data.frame(Conditions = rep(c('MCSF', 'MCSF+arg', 'MCSF+RANKL', 'MCSF+RANKL+arg', 'MCSF+RANKL+arg+recArg1'), each = 4))\n",
    "# Compute row dendrograms on 2 conditions only\n",
    "dist_dend <- dist(filterProtTable[,1:20])\n",
    "row_dend <- as.dendrogram(hclust(dist_dend))\n",
    "row_dend <- seriate_dendrogram(row_dend, dist_dend, method = \"OLO\")\n",
    "row_dend <- row_dend %>% set(\"branches_col\", \"white\")\n",
    "\n",
    "heatmaply(filterProtTable[,1:20], labCol = rep(NA, 20), labRow = rep(NA, length(genes)), file = \"heatmapFilteredMS.pdf\",\n",
    "    cexRow = 0.5, margins = c(50,60,NA,0), ColSideColors=cndt, plot_method = \"plotly\", col = colPal,\n",
    "    col_side_palette = colorRampPalette(brewer.pal(n = 7, name = \"Set1\")), Rowv = row_dend,\n",
    "    key.title = \"Abundance (z-score)\", xlab = \"Samples\", ylab = \"Genes\")"
   ]
  },
  {
   "cell_type": "code",
   "execution_count": null,
   "metadata": {
    "scrolled": true
   },
   "outputs": [],
   "source": [
    "sessionInfo()"
   ]
  }
 ],
 "metadata": {
  "kernelspec": {
   "display_name": "R",
   "language": "R",
   "name": "ir"
  },
  "language_info": {
   "codemirror_mode": "r",
   "file_extension": ".r",
   "mimetype": "text/x-r-source",
   "name": "R",
   "pygments_lexer": "r",
   "version": "3.5.1"
  },
  "toc": {
   "base_numbering": 1,
   "nav_menu": {},
   "number_sections": false,
   "sideBar": false,
   "skip_h1_title": false,
   "title_cell": "Table of Contents",
   "title_sidebar": "Contents",
   "toc_cell": false,
   "toc_position": {},
   "toc_section_display": false,
   "toc_window_display": false
  }
 },
 "nbformat": 4,
 "nbformat_minor": 2
}
