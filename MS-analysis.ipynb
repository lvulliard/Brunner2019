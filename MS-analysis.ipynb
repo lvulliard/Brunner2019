{
 "cells": [
  {
   "cell_type": "code",
   "execution_count": null,
   "metadata": {},
   "outputs": [],
   "source": [
    "source(\"https://bioconductor.org/biocLite.R\")\n",
    "biocLite()\n",
    "biocLite(c(\"limma\"))\n",
    "library(limma)\n",
    "library(heatmaply)"
   ]
  },
  {
   "cell_type": "code",
   "execution_count": null,
   "metadata": {},
   "outputs": [],
   "source": [
    "MS = read.table(\"20180202_OsteoclastProteomes_Protein_groups_filtered_imputed.txt\", sep = \"\\t\", head=T)"
   ]
  },
  {
   "cell_type": "code",
   "execution_count": null,
   "metadata": {},
   "outputs": [],
   "source": [
    "png(\"mdsLogMS.png\")\n",
    "plotMDS(MS[,1:20], col = rep(2:6, each=4))\n",
    "dev.off()"
   ]
  },
  {
   "cell_type": "markdown",
   "metadata": {},
   "source": [
    "Analogy with feature selection:  \n",
    " Start with average features per plate [DONE]\n",
    "* Intra-plate variation of DMSO:\n",
    "    * Compute coefficient of variation (sigma/mu) for DMSO in each plate, for each feature\n",
    "    * Take average for each feature and filter (threshold around 0.1 or 0.2)\n",
    "* Inter-plate variation for all perturbations:\n",
    "    * Compute coefficient of variation for all plates, for each feature and filter (threshold around 1.5 times intra-plate threshold)\n",
    "* Filter for high correlation between replicates\n",
    "* Filter for low correlation between features"
   ]
  },
  {
   "cell_type": "code",
   "execution_count": null,
   "metadata": {},
   "outputs": [],
   "source": [
    "dim(MS[,1:20])\n",
    "coefVarMS = apply(MS[,1:20], 1, function(x) sd(x)/mean(x) )\n",
    "dim(MS[coefVarMS > 0.0213,1:20]) # Keep 20% with highest coefficient of variation"
   ]
  },
  {
   "cell_type": "code",
   "execution_count": null,
   "metadata": {},
   "outputs": [],
   "source": [
    "a = Sys.time()\n",
    "heatmaply(MS[coefVarMS > 0.0213,1:20])\n",
    "b = Sys.time()\n",
    "print(b-a)"
   ]
  },
  {
   "cell_type": "code",
   "execution_count": null,
   "metadata": {},
   "outputs": [],
   "source": [
    "heatmaply(cor(MS[coefVarMS > 0.0213,1:20]))"
   ]
  },
  {
   "cell_type": "code",
   "execution_count": null,
   "metadata": {},
   "outputs": [],
   "source": [
    "png(\"mdsLogMSfiltered.png\")\n",
    "plotMDS(MS[,1:20], col = rep(c(8,8,2,3,4), each=4))\n",
    "dev.off()"
   ]
  }
 ],
 "metadata": {
  "kernelspec": {
   "display_name": "R",
   "language": "R",
   "name": "ir"
  },
  "language_info": {
   "codemirror_mode": "r",
   "file_extension": ".r",
   "mimetype": "text/x-r-source",
   "name": "R",
   "pygments_lexer": "r",
   "version": "3.4.1"
  }
 },
 "nbformat": 4,
 "nbformat_minor": 2
}
