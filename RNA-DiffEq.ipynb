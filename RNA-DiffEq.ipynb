{
 "cells": [
  {
   "cell_type": "markdown",
   "metadata": {},
   "source": [
    "# Differential expression analysis"
   ]
  },
  {
   "cell_type": "markdown",
   "metadata": {},
   "source": [
    "## Install and import dependencies"
   ]
  },
  {
   "cell_type": "code",
   "execution_count": null,
   "metadata": {
    "scrolled": false
   },
   "outputs": [],
   "source": [
    "source(\"https://bioconductor.org/biocLite.R\")\n",
    "biocLite()"
   ]
  },
  {
   "cell_type": "code",
   "execution_count": null,
   "metadata": {},
   "outputs": [],
   "source": [
    "biocLite(c(\"limma\", \"Glimma\", \"edgeR\", \"clusterProfiler\"))"
   ]
  },
  {
   "cell_type": "code",
   "execution_count": null,
   "metadata": {
    "scrolled": true
   },
   "outputs": [],
   "source": [
    "library(limma)\n",
    "library(Glimma)\n",
    "library(edgeR)\n",
    "library(RColorBrewer)\n",
    "library(scales)\n",
    "library(heatmaply)\n",
    "library(clusterProfiler)\n",
    "library(grDevices)\n",
    "library(ggplot2)\n",
    "library(ggrepel)"
   ]
  },
  {
   "cell_type": "code",
   "execution_count": null,
   "metadata": {},
   "outputs": [],
   "source": [
    "getwd()"
   ]
  },
  {
   "cell_type": "markdown",
   "metadata": {},
   "source": [
    "## Example analysis\n",
    "https://www.bioconductor.org/help/workflows/RNAseq123/"
   ]
  },
  {
   "cell_type": "code",
   "execution_count": null,
   "metadata": {
    "scrolled": false
   },
   "outputs": [],
   "source": [
    "biocLite(\"Mus.musculus\")\n",
    "library(Mus.musculus)"
   ]
  },
  {
   "cell_type": "markdown",
   "metadata": {},
   "source": [
    "### Load input files"
   ]
  },
  {
   "cell_type": "code",
   "execution_count": null,
   "metadata": {
    "collapsed": true
   },
   "outputs": [],
   "source": [
    "url <- \"https://www.ncbi.nlm.nih.gov/geo/download/?acc=GSE63310&format=file\"\n",
    "utils::download.file(url, destfile=\"GSE63310_RAW.tar\", mode=\"wb\") \n",
    "utils::untar(\"GSE63310_RAW.tar\", exdir = \".\")\n",
    "files <- c(\"GSM1545535_10_6_5_11.txt\", \"GSM1545536_9_6_5_11.txt\", \"GSM1545538_purep53.txt\",\n",
    "  \"GSM1545539_JMS8-2.txt\", \"GSM1545540_JMS8-3.txt\", \"GSM1545541_JMS8-4.txt\",\n",
    "  \"GSM1545542_JMS8-5.txt\", \"GSM1545544_JMS9-P7c.txt\", \"GSM1545545_JMS9-P8c.txt\")\n",
    "for(i in paste(files, \".gz\", sep=\"\"))\n",
    "  R.utils::gunzip(i, overwrite=TRUE)"
   ]
  },
  {
   "cell_type": "code",
   "execution_count": null,
   "metadata": {},
   "outputs": [],
   "source": [
    "files <- c(\"GSM1545535_10_6_5_11.txt\", \"GSM1545536_9_6_5_11.txt\", \n",
    "   \"GSM1545538_purep53.txt\", \"GSM1545539_JMS8-2.txt\", \n",
    "   \"GSM1545540_JMS8-3.txt\", \"GSM1545541_JMS8-4.txt\", \n",
    "   \"GSM1545542_JMS8-5.txt\", \"GSM1545544_JMS9-P7c.txt\", \n",
    "   \"GSM1545545_JMS9-P8c.txt\")\n",
    "# Show data format\n",
    "read.delim(files[1], nrow=5)"
   ]
  },
  {
   "cell_type": "code",
   "execution_count": null,
   "metadata": {},
   "outputs": [],
   "source": [
    "# Directly construct matrix of gene count per condition\n",
    "x <- readDGE(files, columns=c(1,3))\n",
    "class(x)\n",
    "dim(x)"
   ]
  },
  {
   "cell_type": "code",
   "execution_count": null,
   "metadata": {},
   "outputs": [],
   "source": [
    "# Input sample annotation\n",
    "samplenames <- substring(colnames(x), 12, nchar(colnames(x)))\n",
    "colnames(x) <- samplenames\n",
    "group <- as.factor(c(\"LP\", \"ML\", \"Basal\", \"Basal\", \"ML\", \"LP\", \n",
    "                     \"Basal\", \"ML\", \"LP\"))\n",
    "x$samples$group <- group\n",
    "lane <- as.factor(rep(c(\"L004\",\"L006\",\"L008\"), c(3,4,2)))\n",
    "x$samples$lane <- lane\n",
    "x$samples"
   ]
  },
  {
   "cell_type": "code",
   "execution_count": null,
   "metadata": {},
   "outputs": [],
   "source": [
    "# Input gene annotation\n",
    "geneid <- rownames(x)\n",
    "genes <- select(Mus.musculus, keys=geneid, columns=c(\"SYMBOL\", \"TXCHROM\"), \n",
    "                keytype=\"ENTREZID\")\n",
    "# Choose to keep only the first chromosome position of each gene\n",
    "genes <- genes[!duplicated(genes$ENTREZID),]\n",
    "head(genes)\n",
    "\n",
    "x$genes <- genes"
   ]
  },
  {
   "cell_type": "markdown",
   "metadata": {},
   "source": [
    "### Transform and filter data on abundance\n",
    "CPM (counts per million) are just normalized by abundance in sample\n",
    "Allows to compare between samples but not across genes (no normalization on gene length)"
   ]
  },
  {
   "cell_type": "code",
   "execution_count": null,
   "metadata": {
    "collapsed": true
   },
   "outputs": [],
   "source": [
    "# head(10**6 * x$counts[,3] / colSums(x$counts)[3])\n",
    "xCPM = cpm(x)\n",
    "xLogCPM = cpm(x, log = T)\n",
    "# NB: prior count of 0.25"
   ]
  },
  {
   "cell_type": "code",
   "execution_count": null,
   "metadata": {},
   "outputs": [],
   "source": [
    "table(rowSums(x$counts==0)==9)"
   ]
  },
  {
   "cell_type": "code",
   "execution_count": null,
   "metadata": {},
   "outputs": [],
   "source": [
    "keep.exprs <- rowSums(xCPM>1)>=3\n",
    "x <- x[keep.exprs,, keep.lib.sizes=FALSE]\n",
    "dim(x)"
   ]
  },
  {
   "cell_type": "code",
   "execution_count": null,
   "metadata": {
    "scrolled": true
   },
   "outputs": [],
   "source": [
    "xLogCPMfiltered = cpm(x, log = T)\n",
    "\n",
    "nsamples <- ncol(x)\n",
    "col <- brewer.pal(nsamples, \"Paired\")\n",
    "\n",
    "par(mfrow=c(1,2))\n",
    "\n",
    "plot(density(xLogCPMfiltered[,1]), col=col[1], lwd=2, ylim=c(0,0.21), las=2, \n",
    "     main=\"\", xlab=\"\")\n",
    "title(main=\"A. Filtered data\", xlab=\"Log-cpm\")\n",
    "abline(v=0, lty=3)\n",
    "for (i in 2:nsamples){\n",
    " den <- density(xLogCPMfiltered[,i])\n",
    " lines(den$x, den$y, col=col[i], lwd=2)\n",
    "}\n",
    "legend(\"topright\", samplenames, text.col=col, bty=\"n\")\n",
    "\n",
    "plot(density(xLogCPM[,1]), col=col[1], lwd=2, ylim=c(0,0.21), las=2, \n",
    "     main=\"\", xlab=\"\")\n",
    "title(main=\"B. Raw data\", xlab=\"Log-cpm\")\n",
    "abline(v=0, lty=3)\n",
    "for (i in 2:nsamples){\n",
    "   den <- density(xLogCPM[,i])\n",
    "   lines(den$x, den$y, col=col[i], lwd=2)\n",
    "}\n",
    "legend(\"topright\", samplenames, text.col=col, bty=\"n\")"
   ]
  },
  {
   "cell_type": "code",
   "execution_count": null,
   "metadata": {},
   "outputs": [],
   "source": [
    "x <- calcNormFactors(x, method = \"TMM\")\n",
    "x$samples"
   ]
  },
  {
   "cell_type": "code",
   "execution_count": null,
   "metadata": {
    "scrolled": true
   },
   "outputs": [],
   "source": [
    "par(bg=\"white\")\n",
    "plotMDS(x) # Three distinct groups (LP/ML/Basal)"
   ]
  },
  {
   "cell_type": "code",
   "execution_count": null,
   "metadata": {},
   "outputs": [],
   "source": [
    "design <- model.matrix(~0+group+lane)\n",
    "colnames(design) <- gsub(\"group\", \"\", colnames(design))\n",
    "design"
   ]
  },
  {
   "cell_type": "code",
   "execution_count": null,
   "metadata": {},
   "outputs": [],
   "source": [
    "contr.matrix <- makeContrasts(\n",
    "   BasalvsLP = Basal-LP, \n",
    "   BasalvsML = Basal - ML, \n",
    "   LPvsML = LP - ML, \n",
    "   levels = colnames(design))\n",
    "contr.matrix"
   ]
  },
  {
   "cell_type": "code",
   "execution_count": null,
   "metadata": {
    "scrolled": true
   },
   "outputs": [],
   "source": [
    "par(mfrow=c(1,2), bg=\"white\")\n",
    "v <- voom(x, design, plot=TRUE)\n",
    "vfit <- lmFit(v, design)\n",
    "vfit <- contrasts.fit(vfit, contrasts=contr.matrix)\n",
    "efit <- eBayes(vfit)\n",
    "plotSA(efit, main=\"Final model\")"
   ]
  },
  {
   "cell_type": "code",
   "execution_count": null,
   "metadata": {},
   "outputs": [],
   "source": [
    "v"
   ]
  },
  {
   "cell_type": "code",
   "execution_count": null,
   "metadata": {},
   "outputs": [],
   "source": [
    "summary(decideTests(efit))"
   ]
  },
  {
   "cell_type": "code",
   "execution_count": null,
   "metadata": {
    "scrolled": true
   },
   "outputs": [],
   "source": [
    "tfit <- treat(vfit, lfc=1)\n",
    "dt <- decideTests(tfit)\n",
    "summary(dt)"
   ]
  },
  {
   "cell_type": "code",
   "execution_count": null,
   "metadata": {},
   "outputs": [],
   "source": [
    "de.common <- which(dt[,1]!=0 & dt[,2]!=0)\n",
    "length(de.common)"
   ]
  },
  {
   "cell_type": "code",
   "execution_count": null,
   "metadata": {},
   "outputs": [],
   "source": [
    "head(tfit$genes$SYMBOL[de.common], n=20)"
   ]
  },
  {
   "cell_type": "code",
   "execution_count": null,
   "metadata": {
    "scrolled": true
   },
   "outputs": [],
   "source": [
    "par(bg = \"white\")\n",
    "vennDiagram(dt[,1:3], circle.col=c(\"turquoise\", \"salmon\"))"
   ]
  },
  {
   "cell_type": "code",
   "execution_count": null,
   "metadata": {},
   "outputs": [],
   "source": [
    "basal.vs.lp <- topTreat(tfit, coef=1, n=Inf)\n",
    "basal.vs.ml <- topTreat(tfit, coef=2, n=Inf)\n",
    "head(basal.vs.lp)"
   ]
  },
  {
   "cell_type": "code",
   "execution_count": null,
   "metadata": {
    "scrolled": true
   },
   "outputs": [],
   "source": [
    "par(bg=\"white\")\n",
    "plotMD(tfit, column=1, status=dt[,1], main=colnames(tfit)[1], \n",
    "       xlim=c(-8,13))"
   ]
  },
  {
   "cell_type": "code",
   "execution_count": null,
   "metadata": {
    "collapsed": true,
    "scrolled": true
   },
   "outputs": [],
   "source": [
    "basal.vs.lp.topgenes <- basal.vs.lp$ENTREZID[1:100]\n",
    "i <- which(v$genes$ENTREZID %in% basal.vs.lp.topgenes)\n",
    "colPal <- colorRampPalette(c(\"#4A91C4\",\"white\",\"#F09F4E\"))"
   ]
  },
  {
   "cell_type": "code",
   "execution_count": null,
   "metadata": {},
   "outputs": [],
   "source": [
    "heatmaply(v$E[i,], labCol=paste(colnames(v), group), labRow=v$genes$SYMBOL[i], branches_lwd = 0.25, col = colPal, \n",
    "    cexCol = 0.8, cexRow = 0.1, margins = c(80,0,5,0))"
   ]
  },
  {
   "cell_type": "code",
   "execution_count": null,
   "metadata": {
    "collapsed": true
   },
   "outputs": [],
   "source": [
    "setwd(\"/Users/lvulliard/OneShotProject/RecArg1/counts\")"
   ]
  },
  {
   "cell_type": "markdown",
   "metadata": {},
   "source": [
    "## RecArg1 - Counts with multi-mapping reads"
   ]
  },
  {
   "cell_type": "code",
   "execution_count": null,
   "metadata": {
    "collapsed": true
   },
   "outputs": [],
   "source": [
    "countMat = matrix(nrow=26301, ncol=28)\n",
    "colnames(countMat) <- list.files()\n",
    "for (i in 1:28) {\n",
    "    load(colnames(countMat)[i])\n",
    "    countMat[,i] <- fcMulti$counts\n",
    "}\n",
    "rownames(countMat) <- rownames(fcMulti$counts)\n",
    "# Four replicates of seven different conditions\n",
    "conditionList = c(5,6,7,1,1,2,2,3,3,4,4,5,1,7,5,2,3,4,6,7,7,1,2,4,5,6,3,6)\n",
    "# If s06 is Control RANKL rescue and s08 is Control rescue\n",
    "# conditionList = c(5,6,7,1,1,2,2,3,3,4,4,5,1,7,5,2,3,4,6,7,7,1,2,4,5,6,6,3)"
   ]
  },
  {
   "cell_type": "code",
   "execution_count": null,
   "metadata": {
    "collapsed": true
   },
   "outputs": [],
   "source": [
    "# Convert to DGE object\n",
    "dgeData = DGEList(counts = countMat, genes = rownames(countMat), group = conditionList)"
   ]
  },
  {
   "cell_type": "code",
   "execution_count": null,
   "metadata": {},
   "outputs": [],
   "source": [
    "dim(dgeData)"
   ]
  },
  {
   "cell_type": "code",
   "execution_count": null,
   "metadata": {
    "scrolled": true
   },
   "outputs": [],
   "source": [
    "names(dgeData)"
   ]
  },
  {
   "cell_type": "code",
   "execution_count": null,
   "metadata": {},
   "outputs": [],
   "source": [
    "# Counts equal to 0 for all but 3 samples at most\n",
    "table(rowSums(dgeData$counts==0)>=25)\n",
    "# Counts equal to 0 for all sample\n",
    "table(rowSums(dgeData$counts==0)==28)"
   ]
  },
  {
   "cell_type": "code",
   "execution_count": null,
   "metadata": {
    "collapsed": true
   },
   "outputs": [],
   "source": [
    "dgeDataLogCPMUnfiltered = cpm(dgeData, log = T)"
   ]
  },
  {
   "cell_type": "code",
   "execution_count": null,
   "metadata": {},
   "outputs": [],
   "source": [
    "table(rowSums(dgeDataLogCPMUnfiltered > 0) > 3)"
   ]
  },
  {
   "cell_type": "code",
   "execution_count": null,
   "metadata": {
    "scrolled": true
   },
   "outputs": [],
   "source": [
    "head(dgeData$counts)"
   ]
  },
  {
   "cell_type": "code",
   "execution_count": null,
   "metadata": {
    "collapsed": true
   },
   "outputs": [],
   "source": [
    "dgeData = dgeData[rowSums(dgeDataLogCPMUnfiltered > 0) > 3,, keep.lib.sizes=FALSE]"
   ]
  },
  {
   "cell_type": "code",
   "execution_count": null,
   "metadata": {
    "scrolled": true
   },
   "outputs": [],
   "source": [
    "head(dgeData$counts)"
   ]
  },
  {
   "cell_type": "code",
   "execution_count": null,
   "metadata": {},
   "outputs": [],
   "source": [
    "length(rownames(dgeData))"
   ]
  },
  {
   "cell_type": "markdown",
   "metadata": {},
   "source": [
    "3862 genes are never expressed, 6090 are not expressed in more than 3 conditions, so not even in all replicates of a single condition.  \n",
    "We keep the 12952 genes with a logCPM value of one or higher in 4 or more samples."
   ]
  },
  {
   "cell_type": "code",
   "execution_count": null,
   "metadata": {},
   "outputs": [],
   "source": [
    "# Input gene annotation\n",
    "genes <- select(Mus.musculus, keys=rownames(dgeData), columns=c(\"SYMBOL\", \"TXCHROM\"), \n",
    "                keytype=\"ENTREZID\")\n",
    "# Choose to keep only the first chromosome position of each gene\n",
    "genes <- genes[!duplicated(genes$ENTREZID),]\n",
    "head(genes)\n",
    "\n",
    "dgeData$genes <- genes"
   ]
  },
  {
   "cell_type": "code",
   "execution_count": null,
   "metadata": {
    "scrolled": false
   },
   "outputs": [],
   "source": [
    "# Input sample annotation\n",
    "dgeData$samples$aMEM = c(TRUE,FALSE,FALSE,TRUE,FALSE,FALSE,TRUE)[conditionList]\n",
    "dgeData$samples$aMEMwoLArg = c(FALSE,TRUE,TRUE,FALSE,TRUE,TRUE,FALSE)[conditionList]\n",
    "dgeData$samples$LArg = c(FALSE,FALSE,TRUE,FALSE,FALSE,TRUE,FALSE)[conditionList]\n",
    "dgeData$samples$recArg = c(FALSE,FALSE,FALSE,FALSE,FALSE,FALSE,TRUE)[conditionList]\n",
    "dgeData$samples$RANKL = c(FALSE,FALSE,FALSE,TRUE,TRUE,TRUE,TRUE)[conditionList]\n",
    "# dgeData$samples$mouse = c()\n",
    "dgeData$samples"
   ]
  },
  {
   "cell_type": "code",
   "execution_count": null,
   "metadata": {
    "scrolled": true
   },
   "outputs": [],
   "source": [
    "dgeDataLogCPM = cpm(dgeData, log = T)\n",
    "# NB: prior count of 0.25\n",
    "\n",
    "nsamples <- ncol(x)\n",
    "col <- brewer.pal(nsamples, \"Paired\")\n",
    "\n",
    "par(mfrow=c(1,2), bg=\"white\")\n",
    "\n",
    "plot(density(dgeDataLogCPM[,1]), col=col[1], lwd=2, ylim=c(0,0.21), las=2, \n",
    "     main=\"\", xlab=\"\")\n",
    "title(main=\"A. Filtered data\", xlab=\"Log-cpm\")\n",
    "abline(v=0, lty=3)\n",
    "for (i in 2:nsamples){\n",
    " den <- density(dgeDataLogCPM[,i])\n",
    " lines(den$x, den$y, col=col[i], lwd=2)\n",
    "}\n",
    "legend(\"topright\", rownames(dgeData$samples), text.col=col, bty=\"n\")\n",
    "\n",
    "plot(density(dgeDataLogCPMUnfiltered[,1]), col=col[1], lwd=2, ylim=c(0,0.21), las=2, \n",
    "     main=\"\", xlab=\"\")\n",
    "title(main=\"B. Raw data\", xlab=\"Log-cpm\")\n",
    "abline(v=0, lty=3)\n",
    "for (i in 2:nsamples){\n",
    "   den <- density(dgeDataLogCPMUnfiltered[,i])\n",
    "   lines(den$x, den$y, col=col[i], lwd=2)\n",
    "}\n",
    "legend(\"topright\", rownames(dgeData$samples), text.col=col, bty=\"n\")"
   ]
  },
  {
   "cell_type": "code",
   "execution_count": null,
   "metadata": {},
   "outputs": [],
   "source": [
    "pdf(\"../filteringRNA.pdf\")\n",
    "\n",
    "par(family = \"sans\", mfrow=c(1,2), bg=\"white\")\n",
    "\n",
    "plot(density(dgeDataLogCPMUnfiltered[,1]), col=col[1], lwd=2, ylim=c(0,0.21), las=2, \n",
    "     main=\"\", xlab=\"\")\n",
    "title(main=\"Raw data\", xlab=\"Log-cpm\")\n",
    "abline(v=0, lty=3)\n",
    "for (i in 2:nsamples){\n",
    "   den <- density(dgeDataLogCPMUnfiltered[,i])\n",
    "   lines(den$x, den$y, col=col[i], lwd=2)\n",
    "}\n",
    "\n",
    "plot(density(dgeDataLogCPM[,1]), col=col[1], lwd=2, ylim=c(0,0.21), las=2, \n",
    "     main=\"\", xlab=\"\")\n",
    "title(main=\"Filtered data\", xlab=\"Log-cpm\")\n",
    "abline(v=0, lty=3)\n",
    "for (i in 2:nsamples){\n",
    " den <- density(dgeDataLogCPM[,i])\n",
    " lines(den$x, den$y, col=col[i], lwd=2)\n",
    "}\n",
    "\n",
    "dev.off()"
   ]
  },
  {
   "cell_type": "code",
   "execution_count": null,
   "metadata": {
    "scrolled": true
   },
   "outputs": [],
   "source": [
    "dgeData <- calcNormFactors(dgeData, method = \"TMM\")\n",
    "dgeData$samples"
   ]
  },
  {
   "cell_type": "code",
   "execution_count": null,
   "metadata": {
    "scrolled": false
   },
   "outputs": [],
   "source": [
    "sampleLabels = paste0(\"s\", 1:28, \"_\", conditionList)\n",
    "heatmaply(cor(dgeData$counts),symm=T, labRow = sampleLabels, labCol = sampleLabels, branches_lwd = 0.25, margins = c(50,50,5,0), cexRow = 0.6)"
   ]
  },
  {
   "cell_type": "code",
   "execution_count": null,
   "metadata": {
    "scrolled": false
   },
   "outputs": [],
   "source": [
    "par(bg=\"white\")\n",
    "colpal = brewer.pal(7, \"Set2\")\n",
    "plotMDS(dgeData, labels = sampleLabels, col = colpal[as.numeric(dgeData$samples$group)])"
   ]
  },
  {
   "cell_type": "code",
   "execution_count": null,
   "metadata": {},
   "outputs": [],
   "source": [
    "pdf(\"../mdsMultiRNA.pdf\")\n",
    "par(family = \"sans\")\n",
    "plotMDS(dgeData, labels = sampleLabels, col = colpal[as.numeric(dgeData$samples$group)])\n",
    "dev.off()"
   ]
  },
  {
   "cell_type": "code",
   "execution_count": null,
   "metadata": {},
   "outputs": [],
   "source": [
    "# Which mice are the samples coming from?\n",
    "mouse = c(1,1,1,2,1,2,1,2,1,2,1,2,4,3,4,4,4,4,4,4,2,3,3,3,3,3,2,3)\n",
    "table(mouse)"
   ]
  },
  {
   "cell_type": "code",
   "execution_count": null,
   "metadata": {
    "scrolled": true
   },
   "outputs": [],
   "source": [
    "design <- with(data.frame(dgeData$samples), \n",
    "#    model.matrix(~0+aMEM+LArg+recArg+RANKL))\n",
    "    model.matrix(~0+group))\n",
    "design"
   ]
  },
  {
   "cell_type": "code",
   "execution_count": null,
   "metadata": {},
   "outputs": [],
   "source": [
    "contr.matrix <- makeContrasts(\n",
    "                        g1v2 = group1 - group2,\n",
    "                        g1v3 = group1 - group3,\n",
    "                        g1v4 = group1 - group4,\n",
    "                        g2v3 = group2 - group3,\n",
    "                        g2v5 = group2 - group5,\n",
    "                        g3v6 = group3 - group6,\n",
    "                        g4v5 = group4 - group5,\n",
    "                        g4v6 = group4 - group6,\n",
    "                        g4v7 = group4 - group7,\n",
    "                        g5v7 = group5 - group7,\n",
    "                        rankl = group6 + group5 + group4 - group3 - group2 - group1,\n",
    "                        arg = group1 + group4 - group5 - group2,\n",
    "                        rescue = group1 + group4 - group6 - group3,\n",
    "                        levels = colnames(design))\n",
    "contr.matrix"
   ]
  },
  {
   "cell_type": "code",
   "execution_count": null,
   "metadata": {
    "scrolled": true
   },
   "outputs": [],
   "source": [
    "par(mfrow=c(1,2), bg=\"white\")\n",
    "#Correct for heteroscedasticity \n",
    "v <- voom(dgeData, design, plot=TRUE)\n",
    "# Linear model\n",
    "vfit <- lmFit(v, design)\n",
    "vfit <- contrasts.fit(vfit, contrasts=contr.matrix)\n",
    "# Moderated t-statistics, moderated F-statistic, and log-odds of differential expression by empirical Bayes \n",
    "# moderation of the standard errors towards a common value \n",
    "efit <- eBayes(vfit)\n",
    "plotSA(efit, main=\"Final model\")"
   ]
  },
  {
   "cell_type": "code",
   "execution_count": null,
   "metadata": {},
   "outputs": [],
   "source": [
    "# How many genes are differentially expressed overall\n",
    "summary(decideTests(efit), lfc=1)"
   ]
  },
  {
   "cell_type": "code",
   "execution_count": null,
   "metadata": {
    "scrolled": true
   },
   "outputs": [],
   "source": [
    "# Same as eBayes but only for genes that have a log2 fold-change higher than 1\n",
    "tfit <- treat(vfit, lfc=1)\n",
    "# FDR = 5%\n",
    "dt <- decideTests(tfit)\n",
    "summary(dt)"
   ]
  },
  {
   "cell_type": "code",
   "execution_count": null,
   "metadata": {},
   "outputs": [],
   "source": [
    "# Genes diff. expr. in g1v2 and g1v3\n",
    "de.common <- which(dt[,1]!=0 & dt[,2]!=0)\n",
    "length(de.common)"
   ]
  },
  {
   "cell_type": "code",
   "execution_count": null,
   "metadata": {},
   "outputs": [],
   "source": [
    "tfit$genes$SYMBOL[de.common]"
   ]
  },
  {
   "cell_type": "code",
   "execution_count": null,
   "metadata": {
    "scrolled": true
   },
   "outputs": [],
   "source": [
    "pdf(\"../vennMultiRNA.pdf\")\n",
    "par(family = \"sans\")\n",
    "vennDiagram(dt[,c(7,9,10)], circle.col=c(\"turquoise\", \"salmon\", \"forestgreen\"))\n",
    "dev.off()"
   ]
  },
  {
   "cell_type": "code",
   "execution_count": null,
   "metadata": {},
   "outputs": [],
   "source": [
    "par(bg = \"white\")\n",
    "vennDiagram(dt[,c(7,9,10)], circle.col=c(\"turquoise\", \"salmon\", \"forestgreen\"))"
   ]
  },
  {
   "cell_type": "code",
   "execution_count": null,
   "metadata": {
    "scrolled": true
   },
   "outputs": [],
   "source": [
    "par(bg = \"white\")\n",
    "vennDiagram(dt[,c(7,9)], circle.col=c(\"turquoise\", \"salmon\"))"
   ]
  },
  {
   "cell_type": "markdown",
   "metadata": {},
   "source": [
    "Adding recArg1 modified more gene expressions than lack of arginine.  \n",
    "Most of the genes perturbed by lack of arginine are also perturbed by recArg1.  \n",
    "Looking at the difference between arg$^-$ and recArg1$^+$ samples doesn't show additional information,"
   ]
  },
  {
   "cell_type": "markdown",
   "metadata": {},
   "source": [
    "### Effect of RANKL"
   ]
  },
  {
   "cell_type": "code",
   "execution_count": null,
   "metadata": {},
   "outputs": [],
   "source": [
    "pdf(\"../vennMultiRanklRNA.pdf\")\n",
    "par(family = \"sans\")\n",
    "vennDiagram(dt[,c(3,5,6,11)], circle.col=c(\"turquoise\", \"salmon\", \"forestgreen\", \"tomato2\"))\n",
    "dev.off()"
   ]
  },
  {
   "cell_type": "code",
   "execution_count": null,
   "metadata": {},
   "outputs": [],
   "source": [
    "pdf(\"../vennMultiRanklRNA2.pdf\")\n",
    "par(family = \"sans\")\n",
    "vennDiagram(dt[,c(3,5,6)], circle.col=c(\"turquoise\", \"salmon\", \"forestgreen\"))\n",
    "dev.off()"
   ]
  },
  {
   "cell_type": "code",
   "execution_count": null,
   "metadata": {
    "scrolled": true
   },
   "outputs": [],
   "source": [
    "par(bg = \"white\")\n",
    "vennDiagram(dt[,c(3,5,6,11)], circle.col=c(\"turquoise\", \"salmon\", \"forestgreen\", \"tomato2\"))"
   ]
  },
  {
   "cell_type": "code",
   "execution_count": null,
   "metadata": {
    "scrolled": false
   },
   "outputs": [],
   "source": [
    "par(bg = \"white\")\n",
    "vennDiagram(dt[,c(3,5,6)], circle.col=c(\"turquoise\", \"salmon\"))"
   ]
  },
  {
   "cell_type": "markdown",
   "metadata": {},
   "source": [
    "### Effect of arginin depletion"
   ]
  },
  {
   "cell_type": "code",
   "execution_count": null,
   "metadata": {
    "scrolled": true
   },
   "outputs": [],
   "source": [
    "par(bg = \"white\")\n",
    "vennDiagram(dt[,c(1,7,12)], circle.col=c(\"turquoise\", \"salmon\"))"
   ]
  },
  {
   "cell_type": "code",
   "execution_count": null,
   "metadata": {
    "scrolled": true
   },
   "outputs": [],
   "source": [
    "par(bg = \"white\")\n",
    "vennDiagram(dt[,c(1,7)], circle.col=c(\"turquoise\", \"salmon\"))"
   ]
  },
  {
   "cell_type": "markdown",
   "metadata": {},
   "source": [
    "### Effect of arginin rescue"
   ]
  },
  {
   "cell_type": "code",
   "execution_count": null,
   "metadata": {
    "scrolled": true
   },
   "outputs": [],
   "source": [
    "par(bg = \"white\")\n",
    "vennDiagram(dt[,c(2,8,13)], circle.col=c(\"turquoise\", \"salmon\"))"
   ]
  },
  {
   "cell_type": "code",
   "execution_count": null,
   "metadata": {
    "scrolled": true
   },
   "outputs": [],
   "source": [
    "par(bg = \"white\")\n",
    "vennDiagram(dt[,c(2,8)], circle.col=c(\"turquoise\", \"salmon\"))"
   ]
  },
  {
   "cell_type": "code",
   "execution_count": null,
   "metadata": {},
   "outputs": [],
   "source": [
    "top4v5 <- topTreat(tfit, coef=7, n=Inf)\n",
    "top4v7 <- topTreat(tfit, coef=9, n=Inf)\n",
    "head(top4v7)"
   ]
  },
  {
   "cell_type": "code",
   "execution_count": null,
   "metadata": {
    "scrolled": true
   },
   "outputs": [],
   "source": [
    "par(bg=\"white\")\n",
    "plotMD(tfit, column=9, status=dt[,9], main=colnames(tfit)[9], col = c(\"#4A91C4\",\"#F09F4E\"), bg.col = \"grey\", legend = F)"
   ]
  },
  {
   "cell_type": "code",
   "execution_count": null,
   "metadata": {},
   "outputs": [],
   "source": [
    "pdf(\"../MDMultiRNA.pdf\")\n",
    "par(family = \"sans\")\n",
    "plotMD(tfit, column=9, status=dt[,9], main=colnames(tfit)[9], col = c(\"#4A91C4\",\"#F09F4E\"), bg.col = \"grey\", legend = F)\n",
    "dev.off()"
   ]
  },
  {
   "cell_type": "code",
   "execution_count": null,
   "metadata": {
    "scrolled": true
   },
   "outputs": [],
   "source": [
    "for (i in head(top4v7$SYMBOL, 40)){ cat(paste0(i, \"\\n\")) }"
   ]
  },
  {
   "cell_type": "code",
   "execution_count": null,
   "metadata": {
    "scrolled": false
   },
   "outputs": [],
   "source": [
    "top4v7.topgenes <- top4v7$ENTREZID[1:40]\n",
    "i <- which(v$genes$ENTREZID %in% top4v7.topgenes)\n",
    "colPal <- colorRampPalette(c(\"#4A91C4\",\"white\",\"#F09F4E\"))\n",
    "heatmaply(v$E[i,], labCol=sampleLabels, labRow=v$genes$SYMBOL[i], branches_lwd = 0.25, col = colPal, file = \"../heatmapMultiRNA.pdf\",\n",
    "    cexCol = 0.8, cexRow = 0.1, margins = c(80,0,5,0), ColSideColors=dgeData$samples$group, plot_method = \"plotly\")"
   ]
  },
  {
   "cell_type": "code",
   "execution_count": null,
   "metadata": {
    "scrolled": false
   },
   "outputs": [],
   "source": [
    "i <- which(v$genes$ENTREZID %in% top4v7$ENTREZID[1:4])\n",
    "heatmaply(v$E[i,], labCol=sampleLabels, labRow=v$genes$SYMBOL[i], branches_lwd = 0.25, col = colPal, \n",
    "    cexCol = 0.8, cexRow = 0.1, margins = c(80,0,5,0))\n",
    "\n",
    "top4v7[1:4,]"
   ]
  },
  {
   "cell_type": "code",
   "execution_count": null,
   "metadata": {
    "collapsed": true
   },
   "outputs": [],
   "source": [
    "dt.multi = dt"
   ]
  },
  {
   "cell_type": "markdown",
   "metadata": {},
   "source": [
    "### Differences between recArg1 and arginine depletion in presence of RANKL\n",
    "Conditions 7 and 5"
   ]
  },
  {
   "cell_type": "code",
   "execution_count": null,
   "metadata": {},
   "outputs": [],
   "source": [
    "suppressWarnings(which(apply(dt.multi[,c(7,9,10)], 1, all)))\n",
    "dt.multi[suppressWarnings(which(apply(dt.multi[,c(7,9,10)], 1, all))),c(7,9,10)]"
   ]
  },
  {
   "cell_type": "markdown",
   "metadata": {},
   "source": [
    "Prostate transmembrane protein, androgen induced 1 (ENTREZ gene 65112) is overexpressed in arginine depletion compared to osteoclasts and recArg1, whereas it's underexpressed when comparing recArg1 to osteoclasts."
   ]
  },
  {
   "cell_type": "code",
   "execution_count": null,
   "metadata": {},
   "outputs": [],
   "source": [
    "top5v7 <- topTreat(tfit, coef=10, n=Inf)\n",
    "head(top5v7)"
   ]
  },
  {
   "cell_type": "code",
   "execution_count": null,
   "metadata": {
    "scrolled": true
   },
   "outputs": [],
   "source": [
    "par(bg=\"white\")\n",
    "plotMD(tfit, column=10, status=dt[,10], main=colnames(tfit)[10], col = c(\"#4A91C4\",\"#F09F4E\"), bg.col = \"grey\", legend = F)"
   ]
  },
  {
   "cell_type": "code",
   "execution_count": null,
   "metadata": {},
   "outputs": [],
   "source": [
    "pdf(\"../MDMultiRecArgVsDepl.pdf\")\n",
    "par(family = \"sans\")\n",
    "plotMD(tfit, column=10, status=dt[,10], main=colnames(tfit)[10], col = c(\"#4A91C4\",\"#F09F4E\"), bg.col = \"grey\", legend = F)\n",
    "dev.off()"
   ]
  },
  {
   "cell_type": "code",
   "execution_count": null,
   "metadata": {
    "scrolled": true
   },
   "outputs": [],
   "source": [
    "for (i in head(top5v7$SYMBOL, 40)){ cat(paste0(i, \"\\n\")) }"
   ]
  },
  {
   "cell_type": "code",
   "execution_count": null,
   "metadata": {
    "scrolled": true
   },
   "outputs": [],
   "source": [
    "top5v7.topgenes <- top5v7$ENTREZID[1:40]\n",
    "i <- which(v$genes$ENTREZID %in% top5v7.topgenes)\n",
    "colPal <- colorRampPalette(c(\"#4A91C4\",\"white\",\"#F09F4E\"))\n",
    "heatmaply(v$E[i,], labCol=sampleLabels, labRow=v$genes$SYMBOL[i], branches_lwd = 0.25, col = colPal, file = \"../heatmapMultiRecArgVsDepl.pdf\",\n",
    "    cexCol = 0.8, cexRow = 0.1, margins = c(80,0,5,0), ColSideColors=dgeData$samples$group, plot_method = \"plotly\")"
   ]
  },
  {
   "cell_type": "markdown",
   "metadata": {},
   "source": [
    "### Export expression for OmicsIntegrator"
   ]
  },
  {
   "cell_type": "code",
   "execution_count": null,
   "metadata": {
    "collapsed": true,
    "scrolled": true
   },
   "outputs": [],
   "source": [
    "write.table(top4v7[(top4v7$ENTREZID %in% names(which(dt[,9] != 0))),c(2,4)], file = \"../OmicsIntegratorRun/recArg1_expr.tsv\", \n",
    "            sep = \"\\t\", quote = FALSE, row.names = FALSE, col.names = FALSE) "
   ]
  },
  {
   "cell_type": "code",
   "execution_count": null,
   "metadata": {
    "collapsed": true,
    "scrolled": true
   },
   "outputs": [],
   "source": [
    "write.table(top5v7[(top5v7$ENTREZID %in% names(which(dt[,10] != 0))),c(2,4)], file = \"../OmicsIntegratorRun/deplOrRec_expr.tsv\", \n",
    "            sep = \"\\t\", quote = FALSE, row.names = FALSE, col.names = FALSE) "
   ]
  },
  {
   "cell_type": "code",
   "execution_count": null,
   "metadata": {
    "collapsed": true
   },
   "outputs": [],
   "source": [
    "upDeplGenes1 = names(which((dt.multi[,3] == 1) & (dt.multi[,6] == 1) & (dt.multi[,5] == 0)))\n",
    "downDeplGenes1 = names(which((dt.multi[,3] == -1) & (dt.multi[,6] == -1) & (dt.multi[,5] == 0)))\n",
    "notUpDeplGenes1 = names(which((dt.multi[,3] == 0) & (dt.multi[,6] == 0) & (dt.multi[,5] == 1)))\n",
    "notDownDeplGenes1 = names(which((dt.multi[,3] == 0) & (dt.multi[,6] == 0) & (dt.multi[,5] == -1)))"
   ]
  },
  {
   "cell_type": "code",
   "execution_count": null,
   "metadata": {
    "collapsed": true,
    "scrolled": true
   },
   "outputs": [],
   "source": [
    "deplGenes = union(union(upDeplGenes1, downDeplGenes1), union(notUpDeplGenes1, notDownDeplGenes1))"
   ]
  },
  {
   "cell_type": "code",
   "execution_count": null,
   "metadata": {},
   "outputs": [],
   "source": [
    "deplGenes"
   ]
  },
  {
   "cell_type": "code",
   "execution_count": null,
   "metadata": {
    "collapsed": true
   },
   "outputs": [],
   "source": [
    "top3v6 <- topTreat(tfit, coef=6, n=Inf)\n",
    "top2v5 <- topTreat(tfit, coef=5, n=Inf)"
   ]
  },
  {
   "cell_type": "code",
   "execution_count": null,
   "metadata": {
    "collapsed": true
   },
   "outputs": [],
   "source": [
    "lfcFc = unlist(sapply(deplGenes, function(i) log2(2**(top2v5[top2v5$ENTREZID == i,4])/2**(top3v6[top3v6$ENTREZID == i,4]))))"
   ]
  },
  {
   "cell_type": "code",
   "execution_count": null,
   "metadata": {
    "collapsed": true,
    "scrolled": true
   },
   "outputs": [],
   "source": [
    "lfcFc = abs(lfcFc)\n",
    "write.table(data.frame(v$genes$SYMBOL[v$genes$ENTREZID %in% deplGenes[lfcFc > 0.5]], lfcFc[lfcFc > 0.5]), \n",
    "                       file = \"../OmicsIntegratorRun/ranklDiff_expr.tsv\", \n",
    "            sep = \"\\t\", quote = FALSE, row.names = FALSE, col.names = FALSE) "
   ]
  },
  {
   "cell_type": "markdown",
   "metadata": {},
   "source": [
    "## RecArg1 - Counts without multi-mapping reads"
   ]
  },
  {
   "cell_type": "code",
   "execution_count": null,
   "metadata": {
    "collapsed": true
   },
   "outputs": [],
   "source": [
    "countMat = matrix(nrow=26301, ncol=28)\n",
    "colnames(countMat) <- list.files()\n",
    "for (i in 1:28) {\n",
    "    load(colnames(countMat)[i])\n",
    "    countMat[,i] <- fcStrict$counts\n",
    "}\n",
    "rownames(countMat) <- rownames(fcStrict$counts)\n",
    "# Four replicates of seven different conditions\n",
    "conditionList = c(5,6,7,1,1,2,2,3,3,4,4,5,1,7,5,2,3,4,6,7,7,1,2,4,5,6,3,6)\n",
    "# If s06 is Control RANKL rescue and s08 is Control rescue\n",
    "# conditionList = c(5,6,7,1,1,2,2,3,3,4,4,5,1,7,5,2,3,4,6,7,7,1,2,4,5,6,6,3)"
   ]
  },
  {
   "cell_type": "code",
   "execution_count": null,
   "metadata": {
    "collapsed": true
   },
   "outputs": [],
   "source": [
    "# Convert to DGE object\n",
    "dgeData = DGEList(counts = countMat, genes = rownames(countMat), group = conditionList)"
   ]
  },
  {
   "cell_type": "code",
   "execution_count": null,
   "metadata": {},
   "outputs": [],
   "source": [
    "dim(dgeData)"
   ]
  },
  {
   "cell_type": "code",
   "execution_count": null,
   "metadata": {
    "scrolled": true
   },
   "outputs": [],
   "source": [
    "names(dgeData)"
   ]
  },
  {
   "cell_type": "code",
   "execution_count": null,
   "metadata": {},
   "outputs": [],
   "source": [
    "# Counts equal to 0 for all but 3 samples at most\n",
    "table(rowSums(dgeData$counts==0)>=25)\n",
    "# Counts equal to 0 for all sample\n",
    "table(rowSums(dgeData$counts==0)==28)"
   ]
  },
  {
   "cell_type": "code",
   "execution_count": null,
   "metadata": {
    "collapsed": true
   },
   "outputs": [],
   "source": [
    "dgeDataLogCPMUnfiltered = cpm(dgeData, log = T)"
   ]
  },
  {
   "cell_type": "code",
   "execution_count": null,
   "metadata": {},
   "outputs": [],
   "source": [
    "table(rowSums(dgeDataLogCPMUnfiltered > 0) > 3)"
   ]
  },
  {
   "cell_type": "code",
   "execution_count": null,
   "metadata": {
    "collapsed": true
   },
   "outputs": [],
   "source": [
    "dgeData = dgeData[rowSums(dgeDataLogCPMUnfiltered > 0) > 3,, keep.lib.sizes=FALSE]\n",
    "# dgeData = dgeData[rowSums(dgeData$counts==0)>=25,, keep.lib.sizes=FALSE]"
   ]
  },
  {
   "cell_type": "markdown",
   "metadata": {},
   "source": [
    "5010 genes are never expressed, 7267 are not expressed in more than 3 conditions, so not even in all replicates of a single condition.\n",
    "We keep the 12952 genes with a logCPM value of one or higher in 4 or more samples."
   ]
  },
  {
   "cell_type": "code",
   "execution_count": null,
   "metadata": {},
   "outputs": [],
   "source": [
    "# Input gene annotation\n",
    "genes <- select(Mus.musculus, keys=rownames(dgeData), columns=c(\"SYMBOL\", \"TXCHROM\"), \n",
    "                keytype=\"ENTREZID\")\n",
    "# Choose to keep only the first chromosome position of each gene\n",
    "genes <- genes[!duplicated(genes$ENTREZID),]\n",
    "head(genes)\n",
    "\n",
    "dgeData$genes <- genes"
   ]
  },
  {
   "cell_type": "code",
   "execution_count": null,
   "metadata": {
    "scrolled": false
   },
   "outputs": [],
   "source": [
    "# Input sample annotation\n",
    "dgeData$samples$aMEM = c(TRUE,FALSE,FALSE,TRUE,FALSE,FALSE,TRUE)[conditionList]\n",
    "dgeData$samples$aMEMwoLArg = c(FALSE,TRUE,TRUE,FALSE,TRUE,TRUE,FALSE)[conditionList]\n",
    "dgeData$samples$LArg = c(FALSE,FALSE,TRUE,FALSE,FALSE,TRUE,FALSE)[conditionList]\n",
    "dgeData$samples$recArg = c(FALSE,FALSE,FALSE,FALSE,FALSE,FALSE,TRUE)[conditionList]\n",
    "dgeData$samples$RANKL = c(FALSE,FALSE,FALSE,TRUE,TRUE,TRUE,TRUE)[conditionList]\n",
    "# dgeData$samples$mouse = c()\n",
    "dgeData$samples"
   ]
  },
  {
   "cell_type": "code",
   "execution_count": null,
   "metadata": {
    "scrolled": true
   },
   "outputs": [],
   "source": [
    "dgeDataLogCPM = cpm(dgeData, log = T)\n",
    "# NB: prior count of 0.25\n",
    "\n",
    "nsamples <- ncol(x)\n",
    "col <- brewer.pal(nsamples, \"Paired\")\n",
    "\n",
    "par(mfrow=c(1,2), bg=\"white\")\n",
    "\n",
    "plot(density(dgeDataLogCPM[,1]), col=col[1], lwd=2, ylim=c(0,0.21), las=2, \n",
    "     main=\"\", xlab=\"\")\n",
    "title(main=\"A. Filtered data\", xlab=\"Log-cpm\")\n",
    "abline(v=0, lty=3)\n",
    "for (i in 2:nsamples){\n",
    " den <- density(dgeDataLogCPM[,i])\n",
    " lines(den$x, den$y, col=col[i], lwd=2)\n",
    "}\n",
    "legend(\"topright\", rownames(dgeData$samples), text.col=col, bty=\"n\")\n",
    "\n",
    "plot(density(dgeDataLogCPMUnfiltered[,1]), col=col[1], lwd=2, ylim=c(0,0.21), las=2, \n",
    "     main=\"\", xlab=\"\")\n",
    "title(main=\"B. Raw data\", xlab=\"Log-cpm\")\n",
    "abline(v=0, lty=3)\n",
    "for (i in 2:nsamples){\n",
    "   den <- density(dgeDataLogCPMUnfiltered[,i])\n",
    "   lines(den$x, den$y, col=col[i], lwd=2)\n",
    "}\n",
    "legend(\"topright\", rownames(dgeData$samples), text.col=col, bty=\"n\")"
   ]
  },
  {
   "cell_type": "code",
   "execution_count": null,
   "metadata": {},
   "outputs": [],
   "source": [
    "dgeData <- calcNormFactors(dgeData, method = \"TMM\")\n",
    "dgeData$samples"
   ]
  },
  {
   "cell_type": "code",
   "execution_count": null,
   "metadata": {
    "scrolled": false
   },
   "outputs": [],
   "source": [
    "sampleLabels = paste0(\"s\", 1:28, \"_\", conditionList)\n",
    "heatmaply(cor(dgeData$counts),symm=T, labRow = sampleLabels, labCol = sampleLabels, branches_lwd = 0.25, margins = c(50,50,5,0), cexRow = 0.6)"
   ]
  },
  {
   "cell_type": "code",
   "execution_count": null,
   "metadata": {
    "scrolled": false
   },
   "outputs": [],
   "source": [
    "par(bg=\"white\")\n",
    "colpal = brewer.pal(7, \"Set2\")\n",
    "plotMDS(dgeData, labels = sampleLabels, col = colpal[as.numeric(dgeData$samples$group)])"
   ]
  },
  {
   "cell_type": "code",
   "execution_count": null,
   "metadata": {
    "collapsed": true
   },
   "outputs": [],
   "source": [
    "with(data.frame(dgeData$samples), tvr <- aMEM)"
   ]
  },
  {
   "cell_type": "code",
   "execution_count": null,
   "metadata": {
    "scrolled": true
   },
   "outputs": [],
   "source": [
    "design <- with(data.frame(dgeData$samples), \n",
    "#    model.matrix(~0+aMEM+LArg+recArg+RANKL))\n",
    "    model.matrix(~0+group))\n",
    "design"
   ]
  },
  {
   "cell_type": "code",
   "execution_count": null,
   "metadata": {},
   "outputs": [],
   "source": [
    "contr.matrix <- makeContrasts(\n",
    "                        g1v2 = group1 - group2,\n",
    "                        g1v3 = group1 - group3,\n",
    "                        g1v4 = group1 - group4,\n",
    "                        g2v3 = group2 - group3,\n",
    "                        g2v5 = group2 - group5,\n",
    "                        g3v6 = group3 - group6,\n",
    "                        g4v5 = group4 - group5,\n",
    "                        g4v6 = group4 - group6,\n",
    "                        g4v7 = group4 - group7,\n",
    "                        g5v7 = group5 - group7,\n",
    "                        rankl = group6 + group5 + group4 - group3 - group2 - group1,\n",
    "                        arg = group1 + group4 - group5 - group2,\n",
    "                        rescue = group1 + group4 - group6 - group3,\n",
    "                        levels = colnames(design))\n",
    "contr.matrix"
   ]
  },
  {
   "cell_type": "code",
   "execution_count": null,
   "metadata": {
    "scrolled": true
   },
   "outputs": [],
   "source": [
    "par(mfrow=c(1,2), bg=\"white\")\n",
    "v <- voom(dgeData, design, plot=TRUE)\n",
    "vfit <- lmFit(v, design)\n",
    "vfit <- contrasts.fit(vfit, contrasts=contr.matrix)\n",
    "efit <- eBayes(vfit)\n",
    "plotSA(efit, main=\"Final model\")"
   ]
  },
  {
   "cell_type": "code",
   "execution_count": null,
   "metadata": {},
   "outputs": [],
   "source": [
    "summary(decideTests(efit))"
   ]
  },
  {
   "cell_type": "code",
   "execution_count": null,
   "metadata": {
    "scrolled": true
   },
   "outputs": [],
   "source": [
    "tfit <- treat(vfit, lfc=1)\n",
    "dt <- decideTests(tfit)\n",
    "summary(dt)"
   ]
  },
  {
   "cell_type": "code",
   "execution_count": null,
   "metadata": {},
   "outputs": [],
   "source": [
    "de.common <- which(dt[,1]!=0 & dt[,2]!=0)\n",
    "length(de.common)"
   ]
  },
  {
   "cell_type": "code",
   "execution_count": null,
   "metadata": {},
   "outputs": [],
   "source": [
    "head(tfit$genes$SYMBOL[de.common], n=20)"
   ]
  },
  {
   "cell_type": "code",
   "execution_count": null,
   "metadata": {
    "scrolled": true
   },
   "outputs": [],
   "source": [
    "par(bg = \"white\")\n",
    "vennDiagram(dt[,c(7,9,10)], circle.col=c(\"turquoise\", \"salmon\"))"
   ]
  },
  {
   "cell_type": "code",
   "execution_count": null,
   "metadata": {
    "scrolled": true
   },
   "outputs": [],
   "source": [
    "par(bg = \"white\")\n",
    "vennDiagram(dt[,c(7,9)], circle.col=c(\"turquoise\", \"salmon\"))"
   ]
  },
  {
   "cell_type": "markdown",
   "metadata": {},
   "source": [
    "Adding recArg1 modified more gene expressions than lack of arginine.  \n",
    "Most of the genes perturbed by lack of arginine are also perturbed by recArg1.  \n",
    "Looking at the difference between arg$^-$ and recArg1$^+$ samples doesn't show additional information,"
   ]
  },
  {
   "cell_type": "markdown",
   "metadata": {},
   "source": [
    "### Effect of RANKL"
   ]
  },
  {
   "cell_type": "code",
   "execution_count": null,
   "metadata": {
    "scrolled": true
   },
   "outputs": [],
   "source": [
    "par(bg = \"white\")\n",
    "vennDiagram(dt[,c(3,5,6,11)], circle.col=c(\"turquoise\", \"salmon\"))"
   ]
  },
  {
   "cell_type": "code",
   "execution_count": null,
   "metadata": {
    "scrolled": false
   },
   "outputs": [],
   "source": [
    "par(bg = \"white\")\n",
    "vennDiagram(dt[,c(3,5,6)], circle.col=c(\"turquoise\", \"salmon\"))"
   ]
  },
  {
   "cell_type": "markdown",
   "metadata": {},
   "source": [
    "### Effect of arginin depletion"
   ]
  },
  {
   "cell_type": "code",
   "execution_count": null,
   "metadata": {
    "scrolled": true
   },
   "outputs": [],
   "source": [
    "par(bg = \"white\")\n",
    "vennDiagram(dt[,c(1,7,12)], circle.col=c(\"turquoise\", \"salmon\"))"
   ]
  },
  {
   "cell_type": "code",
   "execution_count": null,
   "metadata": {
    "scrolled": true
   },
   "outputs": [],
   "source": [
    "par(bg = \"white\")\n",
    "vennDiagram(dt[,c(1,7)], circle.col=c(\"turquoise\", \"salmon\"))"
   ]
  },
  {
   "cell_type": "markdown",
   "metadata": {},
   "source": [
    "### Effect of arginin rescue"
   ]
  },
  {
   "cell_type": "code",
   "execution_count": null,
   "metadata": {
    "scrolled": true
   },
   "outputs": [],
   "source": [
    "par(bg = \"white\")\n",
    "vennDiagram(dt[,c(2,8,13)], circle.col=c(\"turquoise\", \"salmon\"))"
   ]
  },
  {
   "cell_type": "code",
   "execution_count": null,
   "metadata": {
    "scrolled": true
   },
   "outputs": [],
   "source": [
    "par(bg = \"white\")\n",
    "vennDiagram(dt[,c(2,8)], circle.col=c(\"turquoise\", \"salmon\"))"
   ]
  },
  {
   "cell_type": "code",
   "execution_count": null,
   "metadata": {},
   "outputs": [],
   "source": [
    "top4v5 <- topTreat(tfit, coef=7, n=Inf)\n",
    "top4v7 <- topTreat(tfit, coef=9, n=Inf)\n",
    "head(top4v7)"
   ]
  },
  {
   "cell_type": "code",
   "execution_count": null,
   "metadata": {
    "scrolled": true
   },
   "outputs": [],
   "source": [
    "par(bg=\"white\")\n",
    "plotMD(tfit, column=9, status=dt[,9], main=colnames(tfit)[9], \n",
    "       xlim=c(-8,13))"
   ]
  },
  {
   "cell_type": "code",
   "execution_count": null,
   "metadata": {},
   "outputs": [],
   "source": [
    "top4v7.topgenes <- top4v7$ENTREZID[1:100]\n",
    "i <- which(v$genes$ENTREZID %in% top4v7.topgenes)\n",
    "colPal <- colorRampPalette(c(\"#4A91C4\",\"white\",\"#F09F4E\"))\n",
    "heatmaply(v$E[i,], labCol=sampleLabels, labRow=v$genes$SYMBOL[i], branches_lwd = 0.25, col = colPal, \n",
    "    cexCol = 0.8, cexRow = 0.1, margins = c(80,0,5,0))"
   ]
  },
  {
   "cell_type": "code",
   "execution_count": null,
   "metadata": {
    "scrolled": true
   },
   "outputs": [],
   "source": [
    "top4v7[1:50,c(2,4)]"
   ]
  },
  {
   "cell_type": "code",
   "execution_count": null,
   "metadata": {
    "collapsed": true
   },
   "outputs": [],
   "source": [
    "dt.strict = dt"
   ]
  },
  {
   "cell_type": "markdown",
   "metadata": {},
   "source": [
    "### Differences between recArg1 and arginine depletion in presence of RANKL\n",
    "Conditions 7 and 5"
   ]
  },
  {
   "cell_type": "code",
   "execution_count": null,
   "metadata": {},
   "outputs": [],
   "source": [
    "suppressWarnings(which(apply(dt.strict[,c(7,9,10)], 1, all)))\n",
    "dt.strict[suppressWarnings(which(apply(dt.strict[,c(7,9,10)], 1, all))),c(7,9,10)]"
   ]
  },
  {
   "cell_type": "markdown",
   "metadata": {},
   "source": [
    "Prostate transmembrane protein, androgen induced 1 (ENTREZ gene 65112) is overexpressed in arginine depletion compared to osteoclasts and recArg1, whereas it's underexpressed when comparing recArg1 to osteoclasts."
   ]
  },
  {
   "cell_type": "code",
   "execution_count": null,
   "metadata": {},
   "outputs": [],
   "source": [
    "top5v7 <- topTreat(tfit, coef=10, n=Inf)\n",
    "head(top5v7)"
   ]
  },
  {
   "cell_type": "code",
   "execution_count": null,
   "metadata": {
    "scrolled": true
   },
   "outputs": [],
   "source": [
    "par(bg=\"white\")\n",
    "plotMD(tfit, column=10, status=dt[,10], main=colnames(tfit)[10], col = c(\"#4A91C4\",\"#F09F4E\"), bg.col = \"grey\", legend = F)"
   ]
  },
  {
   "cell_type": "code",
   "execution_count": null,
   "metadata": {},
   "outputs": [],
   "source": [
    "pdf(\"../MDStrictRecArgVsDepl.pdf\")\n",
    "par(family = \"sans\")\n",
    "plotMD(tfit, column=10, status=dt[,10], main=colnames(tfit)[10], col = c(\"#4A91C4\",\"#F09F4E\"), bg.col = \"grey\", legend = F)\n",
    "dev.off()"
   ]
  },
  {
   "cell_type": "code",
   "execution_count": null,
   "metadata": {},
   "outputs": [],
   "source": [
    "length(top5v7$SYMBOL)"
   ]
  },
  {
   "cell_type": "code",
   "execution_count": null,
   "metadata": {
    "scrolled": true
   },
   "outputs": [],
   "source": [
    "for (i in head(top5v7$SYMBOL, 40)){ cat(paste0(i, \"\\n\")) }"
   ]
  },
  {
   "cell_type": "code",
   "execution_count": null,
   "metadata": {
    "scrolled": true
   },
   "outputs": [],
   "source": [
    "top5v7.topgenes <- top5v7$ENTREZID[1:40]\n",
    "i <- which(v$genes$ENTREZID %in% top5v7.topgenes)\n",
    "colPal <- colorRampPalette(c(\"#4A91C4\",\"white\",\"#F09F4E\"))\n",
    "heatmaply(v$E[i,], labCol=sampleLabels, labRow=v$genes$SYMBOL[i], branches_lwd = 0.25, col = colPal, file = \"../heatmapStrictRecArgVsDepl.pdf\",\n",
    "    cexCol = 0.8, cexRow = 0.1, margins = c(80,0,5,0), ColSideColors=dgeData$samples$group, plot_method = \"plotly\")"
   ]
  },
  {
   "cell_type": "markdown",
   "metadata": {},
   "source": [
    "## Compare results with and without multimapping"
   ]
  },
  {
   "cell_type": "code",
   "execution_count": null,
   "metadata": {},
   "outputs": [],
   "source": [
    "dim(dt.multi)\n",
    "dim(dt.strict)"
   ]
  },
  {
   "cell_type": "code",
   "execution_count": null,
   "metadata": {
    "scrolled": true
   },
   "outputs": [],
   "source": [
    "sum(dt.strict != 0)\n",
    "sum(dt.multi != 0)"
   ]
  },
  {
   "cell_type": "code",
   "execution_count": null,
   "metadata": {},
   "outputs": [],
   "source": [
    "commonGenes = intersect(rownames(dt.strict), rownames(dt.multi))\n",
    "length(commonGenes)"
   ]
  },
  {
   "cell_type": "code",
   "execution_count": null,
   "metadata": {},
   "outputs": [],
   "source": [
    "dt.multi.g4v7 = dt.multi[dt.multi[,9] != 0, 9]\n",
    "dt.strict.g4v7 = dt.strict[dt.strict[,9] != 0, 9]\n",
    "length(dt.multi.g4v7)\n",
    "length(dt.strict.g4v7)"
   ]
  },
  {
   "cell_type": "code",
   "execution_count": null,
   "metadata": {},
   "outputs": [],
   "source": [
    "commonGenes = intersect(names(dt.strict.g4v7), names(dt.multi.g4v7))\n",
    "length(commonGenes)\n",
    "length(commonGenes) / length(union(names(dt.strict.g4v7), names(dt.multi.g4v7)))"
   ]
  },
  {
   "cell_type": "markdown",
   "metadata": {},
   "source": [
    "81% of the genes in the two lists are found in both."
   ]
  },
  {
   "cell_type": "code",
   "execution_count": null,
   "metadata": {},
   "outputs": [],
   "source": [
    "i <- which(v$genes$ENTREZID %in% commonGenes)\n",
    "head(v$E[i,])"
   ]
  },
  {
   "cell_type": "markdown",
   "metadata": {},
   "source": [
    "### Output lists of genes differentially expressed in both cases"
   ]
  },
  {
   "cell_type": "code",
   "execution_count": null,
   "metadata": {},
   "outputs": [],
   "source": [
    "listDownRNA = intersect(names(which(dt.strict.g4v7 == 1)), names(which(dt.multi.g4v7 == 1)))\n",
    "listUpRNA = intersect(names(which(dt.strict.g4v7 == -1)), names(which(dt.multi.g4v7 == -1)))\n",
    "length(listDownRNA)\n",
    "length(listUpRNA)"
   ]
  },
  {
   "cell_type": "code",
   "execution_count": null,
   "metadata": {
    "collapsed": true
   },
   "outputs": [],
   "source": [
    "i <- which(v$genes$ENTREZID %in% listUpRNA)\n",
    "listUpRNA = v$genes$SYMBOL[i]\n",
    "i <- which(v$genes$ENTREZID %in% listDownRNA)\n",
    "listDownRNA = v$genes$SYMBOL[i]\n",
    "save(file = \"../RNAlists.diff\", listUpRNA, listDownRNA )"
   ]
  },
  {
   "cell_type": "code",
   "execution_count": null,
   "metadata": {
    "scrolled": true
   },
   "outputs": [],
   "source": [
    "for (i in listDownRNA) {\n",
    "    cat(paste0(i, \"\\n\"))\n",
    "}"
   ]
  },
  {
   "cell_type": "code",
   "execution_count": null,
   "metadata": {
    "scrolled": true
   },
   "outputs": [],
   "source": [
    "for (i in listUpRNA) {\n",
    "    cat(paste0(i, \"\\n\"))\n",
    "}"
   ]
  },
  {
   "cell_type": "markdown",
   "metadata": {},
   "source": [
    "### Differences between recArg1 and arginine depletion"
   ]
  },
  {
   "cell_type": "code",
   "execution_count": null,
   "metadata": {
    "scrolled": true
   },
   "outputs": [],
   "source": [
    "dt.multi.g5v7 = dt.multi[dt.multi[,10] != 0, 10]\n",
    "dt.strict.g5v7 = dt.strict[dt.strict[,10] != 0, 10]\n",
    "length(dt.multi.g5v7)\n",
    "length(dt.strict.g5v7)"
   ]
  },
  {
   "cell_type": "code",
   "execution_count": null,
   "metadata": {},
   "outputs": [],
   "source": [
    "commonGenes = intersect(names(dt.strict.g5v7), names(dt.multi.g5v7))\n",
    "length(commonGenes)\n",
    "length(commonGenes) / length(union(names(dt.strict.g5v7), names(dt.multi.g5v7)))"
   ]
  },
  {
   "cell_type": "code",
   "execution_count": null,
   "metadata": {},
   "outputs": [],
   "source": [
    "listDownRecArgVsDepletion = intersect(names(which(dt.strict.g5v7 == 1)), names(which(dt.multi.g5v7 == 1)))\n",
    "listUpRecArgVsDepletion = intersect(names(which(dt.strict.g5v7 == -1)), names(which(dt.multi.g5v7 == -1)))\n",
    "length(listDownRecArgVsDepletion)\n",
    "length(listUpRecArgVsDepletion)\n",
    "\n",
    "i <- which(v$genes$ENTREZID %in% listUpRecArgVsDepletion)\n",
    "listUpRecArgVsDepletion = v$genes$SYMBOL[i]\n",
    "i <- which(v$genes$ENTREZID %in% listDownRecArgVsDepletion)\n",
    "listDownRecArgVsDepletion = v$genes$SYMBOL[i]\n",
    "save(file = \"../RNAlistsRecArg1VsDepletion.diff\", listUpRNA, listDownRNA )"
   ]
  },
  {
   "cell_type": "code",
   "execution_count": null,
   "metadata": {
    "scrolled": false
   },
   "outputs": [],
   "source": [
    "for (i in listDownRecArgVsDepletion) {\n",
    "    cat(paste0(i, \"\\n\"))\n",
    "}"
   ]
  },
  {
   "cell_type": "code",
   "execution_count": null,
   "metadata": {
    "scrolled": true
   },
   "outputs": [],
   "source": [
    "i <- which(v$genes$SYMBOL %in% listDownRecArgVsDepletion)\n",
    "head(v$E[i,which(dgeData$samples$group == 5)])\n",
    "head(v$E[i,which(dgeData$samples$group == 7)])"
   ]
  },
  {
   "cell_type": "markdown",
   "metadata": {},
   "source": [
    "Corresponding [Enrichr](http://amp.pharm.mssm.edu/Enrichr/enrich?dataset=3uzqw)"
   ]
  },
  {
   "cell_type": "code",
   "execution_count": null,
   "metadata": {
    "scrolled": true
   },
   "outputs": [],
   "source": [
    "for (i in listUpRecArgVsDepletion) {\n",
    "    cat(paste0(i, \"\\n\"))\n",
    "}"
   ]
  },
  {
   "cell_type": "markdown",
   "metadata": {},
   "source": [
    "### Differences between RANKL effect in presence and absence of arginine\n",
    "Intersection between comparisons 6 (3/6) and 3 (1/4) against comparison 5 (2/5)"
   ]
  },
  {
   "cell_type": "code",
   "execution_count": null,
   "metadata": {},
   "outputs": [],
   "source": [
    "length(notUpDeplGenes1)\n",
    "length(notDownDeplGenes1)\n",
    "length(upDeplGenes1)\n",
    "length(downDeplGenes1)\n",
    "# We find back the 217 genes differentially regulated in presence of arginine when adding RANKL and the 14 in absence of arginine, \n",
    "# as shown on corresponding Venn diagram"
   ]
  },
  {
   "cell_type": "code",
   "execution_count": null,
   "metadata": {
    "collapsed": true
   },
   "outputs": [],
   "source": [
    "upDeplGenes2 = names(which((dt.strict[,3] == 1) & (dt.strict[,6] == 1) & (dt.strict[,5] == 0)))\n",
    "downDeplGenes2 = names(which((dt.strict[,3] == -1) & (dt.strict[,6] == -1) & (dt.strict[,5] == 0)))\n",
    "notUpDeplGenes2 = names(which((dt.strict[,3] == 0) & (dt.strict[,6] == 0) & (dt.strict[,5] == 1)))\n",
    "notDownDeplGenes2 = names(which((dt.strict[,3] == 0) & (dt.strict[,6] == 0) & (dt.strict[,5] == -1)))"
   ]
  },
  {
   "cell_type": "code",
   "execution_count": null,
   "metadata": {
    "collapsed": true
   },
   "outputs": [],
   "source": [
    "notUpDeplGenes = intersect(notUpDeplGenes1, notUpDeplGenes2)\n",
    "notDownDeplGenes = intersect(notDownDeplGenes1, notDownDeplGenes2)\n",
    "upDeplGenes = intersect(upDeplGenes1, upDeplGenes2)\n",
    "downDeplGenes = intersect(downDeplGenes1, downDeplGenes2)"
   ]
  },
  {
   "cell_type": "code",
   "execution_count": null,
   "metadata": {},
   "outputs": [],
   "source": [
    "length(notUpDeplGenes)\n",
    "length(notDownDeplGenes)\n",
    "length(upDeplGenes)\n",
    "length(downDeplGenes)"
   ]
  },
  {
   "cell_type": "code",
   "execution_count": null,
   "metadata": {
    "scrolled": true
   },
   "outputs": [],
   "source": [
    "for (i in v$genes$SYMBOL[which(v$genes$ENTREZID %in% downDeplGenes)]){\n",
    "    cat(paste0(i, \"\\n\"))\n",
    "}\n",
    "for (i in v$genes$SYMBOL[which(v$genes$ENTREZID %in% notUpDeplGenes)]){\n",
    "    cat(paste0(i, \"\\n\"))\n",
    "}\n",
    "write.csv(file = \"../RANKL_effect_reduced.csv\", row.names = F,\n",
    "          x = c(v$genes$SYMBOL[which(v$genes$ENTREZID %in% downDeplGenes)], v$genes$SYMBOL[which(v$genes$ENTREZID %in% notUpDeplGenes)]))"
   ]
  },
  {
   "cell_type": "code",
   "execution_count": null,
   "metadata": {
    "scrolled": true
   },
   "outputs": [],
   "source": [
    "for (i in v$genes$SYMBOL[which(v$genes$ENTREZID %in% upDeplGenes)]){\n",
    "    cat(paste0(i, \"\\n\"))\n",
    "}\n",
    "for (i in v$genes$SYMBOL[which(v$genes$ENTREZID %in% notDownDeplGenes)]){\n",
    "    cat(paste0(i, \"\\n\"))\n",
    "}\n",
    "write.csv(file = \"../RANKL_effect_increased.csv\", row.names = F,\n",
    "         x = c(v$genes$SYMBOL[which(v$genes$ENTREZID %in% upDeplGenes)], v$genes$SYMBOL[which(v$genes$ENTREZID %in% notDownDeplGenes)]))"
   ]
  },
  {
   "cell_type": "markdown",
   "metadata": {},
   "source": [
    "Enrich links:  \n",
    "[upregulated](http://amp.pharm.mssm.edu/Enrichr/enrich?dataset=3v95x)  \n",
    "[downregulated](http://amp.pharm.mssm.edu/Enrichr/enrich?dataset=3v96c)"
   ]
  },
  {
   "cell_type": "code",
   "execution_count": null,
   "metadata": {},
   "outputs": [],
   "source": [
    "print(which(apply(dt.multi[,c(7,9,10)]!=0, 1, all)))\n",
    "dt.multi[(which(apply(dt.multi[,c(7,9,10)]!=0, 1, all))),]\n",
    "# Gene 65112 (Pmepa1, prostate transmembrane protein) is up by arg depletion and down by recArg1"
   ]
  },
  {
   "cell_type": "markdown",
   "metadata": {},
   "source": [
    "### Differences between MCSF only and MCSF + RANKL"
   ]
  },
  {
   "cell_type": "code",
   "execution_count": null,
   "metadata": {},
   "outputs": [],
   "source": [
    "ranklOnlyGenes = intersect(names(which((dt.strict[,3] != 0))), names(which((dt.multi[,3] != 0))))\n",
    "length(ranklOnlyGenes)"
   ]
  },
  {
   "cell_type": "code",
   "execution_count": null,
   "metadata": {},
   "outputs": [],
   "source": [
    "for (i in v$genes$SYMBOL[which(v$genes$ENTREZID %in% ranklOnlyGenes)]){\n",
    "    cat(paste0(i, \"\\n\"))\n",
    "}"
   ]
  },
  {
   "cell_type": "code",
   "execution_count": null,
   "metadata": {},
   "outputs": [],
   "source": [
    "search_kegg_organism('mmu', by='kegg_code')"
   ]
  },
  {
   "cell_type": "code",
   "execution_count": null,
   "metadata": {},
   "outputs": [],
   "source": [
    "pdf(\"../enrichment_kegg.pdf\")\n",
    "enrichRanklOnly <- as.data.frame(enrichKEGG(gene = ranklOnlyGenes, organism = 'mmu', pvalueCutoff = 1, qvalueCutoff = 0.1))\n",
    "enrichRanklOnly$intergenes <- sapply(enrichRanklOnly$GeneRatio, function(x) as.numeric(strsplit(x, \"/\")[[1]][1]))\n",
    "enrichRanklOnly$setgenes <- sapply(enrichRanklOnly$BgRatio, function(x) as.numeric(strsplit(x, \"/\")[[1]][1]))\n",
    "enrichRanklOnly$p.adjust <- -log10(enrichRanklOnly$p.adjust)\n",
    "# 8254 genes are part of the Kegg annotations, including 214 genes differentially expressed upon RANKL addition \n",
    "attach(enrichRanklOnly)\n",
    "enrichRanklOnly$oddsratio <- (intergenes*(8254-(214 - intergenes)))/((214 - intergenes)*(setgenes - intergenes)) \n",
    "detach(enrichRanklOnly)\n",
    "attach(enrichRanklOnly)\n",
    "enrichRanklOnly$labs <- ifelse(oddsratio>4,Description,'')\n",
    "colpal = colorRampPalette(c(\"#000000\", \"#FF0000\"))(max(intergenes))\n",
    "ggplot(enrichRanklOnly, aes(y=oddsratio, x=p.adjust, color = intergenes, label = labs)) +\n",
    "  scale_colour_gradientn(colours = colpal, limits=c(0,max(intergenes)),\n",
    "  breaks=c(0,round(max(max(intergenes))/2),max(max(intergenes))), name = \"Shared genes\") + \n",
    "  geom_point(size = 5) + theme_light() + theme(text=element_text(size=26, family=\"sans\"), \n",
    "  panel.grid.minor=element_blank(), legend.position = c(0.8, 0.175), legend.spacing = unit(10, \"cm\"),\n",
    "  legend.background = element_rect(size=0.3, color = \"black\"), legend.margin=margin(5,5,10,5)) +  \n",
    "  xlab(\"-log10(corrected p-value)\") + ylab(\"Odds-ratio\") + ggtitle(\"KEGG enrichment with RANKL\") + \n",
    "  geom_text_repel(size = 6.5, point.padding = 0.3, force = 33.511, segment.alpha = 0.5)\n",
    "detach(enrichRanklOnly)\n",
    "dev.off()"
   ]
  },
  {
   "cell_type": "code",
   "execution_count": null,
   "metadata": {
    "scrolled": true
   },
   "outputs": [],
   "source": [
    "sessionInfo()"
   ]
  }
 ],
 "metadata": {
  "kernelspec": {
   "display_name": "R",
   "language": "R",
   "name": "ir"
  },
  "language_info": {
   "codemirror_mode": "r",
   "file_extension": ".r",
   "mimetype": "text/x-r-source",
   "name": "R",
   "pygments_lexer": "r",
   "version": "3.4.1"
  }
 },
 "nbformat": 4,
 "nbformat_minor": 2
}
