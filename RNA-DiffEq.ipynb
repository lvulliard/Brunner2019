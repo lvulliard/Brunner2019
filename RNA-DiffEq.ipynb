{
 "cells": [
  {
   "cell_type": "markdown",
   "metadata": {},
   "source": [
    "# Differential expression analysis"
   ]
  },
  {
   "cell_type": "markdown",
   "metadata": {},
   "source": [
    "## Install and import dependencies"
   ]
  },
  {
   "cell_type": "code",
   "execution_count": null,
   "metadata": {
    "scrolled": true
   },
   "outputs": [],
   "source": [
    "library(limma)\n",
    "library(Glimma)\n",
    "library(edgeR)\n",
    "library(RColorBrewer)\n",
    "library(scales)\n",
    "library(heatmaply)\n",
    "library(clusterProfiler)\n",
    "library(grDevices)\n",
    "library(ggplot2)\n",
    "library(ggrepel)\n",
    "library(Mus.musculus)\n",
    "library(jsonlite)\n",
    "library(stringr)\n",
    "library(dendextend)"
   ]
  },
  {
   "cell_type": "code",
   "execution_count": null,
   "metadata": {},
   "outputs": [],
   "source": [
    "getwd()"
   ]
  },
  {
   "cell_type": "markdown",
   "metadata": {},
   "source": [
    "## Example analysis\n",
    "https://www.bioconductor.org/help/workflows/RNAseq123/  \n",
    "Used as basis for the following analysis"
   ]
  },
  {
   "cell_type": "code",
   "execution_count": null,
   "metadata": {},
   "outputs": [],
   "source": [
    "setwd(\"/Users/lvulliard/OneShotProject/RecArg1/counts\")"
   ]
  },
  {
   "cell_type": "markdown",
   "metadata": {},
   "source": [
    "## RecArg1 - Counts with multi-mapping reads"
   ]
  },
  {
   "cell_type": "code",
   "execution_count": null,
   "metadata": {},
   "outputs": [],
   "source": [
    "countMat = matrix(nrow=26301, ncol=28)\n",
    "colnames(countMat) <- list.files()\n",
    "for (i in 1:28) {\n",
    "    load(colnames(countMat)[i])\n",
    "    countMat[,i] <- fcMulti$counts\n",
    "}\n",
    "rownames(countMat) <- rownames(fcMulti$counts)\n",
    "# Four replicates of seven different conditions\n",
    "conditionList = c(5,6,7,1,1,2,2,3,3,4,4,5,1,7,5,2,3,4,6,7,7,1,2,4,5,6,3,6)\n",
    "# If s06 is Control RANKL rescue and s08 is Control rescue\n",
    "# conditionList = c(5,6,7,1,1,2,2,3,3,4,4,5,1,7,5,2,3,4,6,7,7,1,2,4,5,6,6,3)"
   ]
  },
  {
   "cell_type": "code",
   "execution_count": null,
   "metadata": {},
   "outputs": [],
   "source": [
    "conditionsDesc = c(\"MCSF\", \"MCSF+depl\", \"MCSF+rescue\", \"MCSF+RANKL\", \"MCSF+RANKL+depl\", \"MCSF+RANKL+rescue\", \"MCSF+RANKL+recArg1\")\n",
    "cndt = data.frame(Conditions = conditionsDesc[conditionList])"
   ]
  },
  {
   "cell_type": "code",
   "execution_count": null,
   "metadata": {},
   "outputs": [],
   "source": [
    "# Convert to DGE object\n",
    "dgeData = DGEList(counts = countMat, genes = rownames(countMat), group = conditionList)"
   ]
  },
  {
   "cell_type": "code",
   "execution_count": null,
   "metadata": {},
   "outputs": [],
   "source": [
    "dim(dgeData)"
   ]
  },
  {
   "cell_type": "code",
   "execution_count": null,
   "metadata": {
    "scrolled": true
   },
   "outputs": [],
   "source": [
    "names(dgeData)"
   ]
  },
  {
   "cell_type": "code",
   "execution_count": null,
   "metadata": {},
   "outputs": [],
   "source": [
    "# Counts equal to 0 for all but 3 samples at most\n",
    "table(rowSums(dgeData$counts==0)>=25)\n",
    "# Counts equal to 0 for all sample\n",
    "table(rowSums(dgeData$counts==0)==28)"
   ]
  },
  {
   "cell_type": "code",
   "execution_count": null,
   "metadata": {},
   "outputs": [],
   "source": [
    "dgeDataLogCPMUnfiltered = cpm(dgeData, log = T)"
   ]
  },
  {
   "cell_type": "code",
   "execution_count": null,
   "metadata": {},
   "outputs": [],
   "source": [
    "table(rowSums(dgeDataLogCPMUnfiltered > 0) > 3)"
   ]
  },
  {
   "cell_type": "code",
   "execution_count": null,
   "metadata": {
    "scrolled": true
   },
   "outputs": [],
   "source": [
    "head(dgeData$counts)"
   ]
  },
  {
   "cell_type": "code",
   "execution_count": null,
   "metadata": {},
   "outputs": [],
   "source": [
    "dgeData = dgeData[rowSums(dgeDataLogCPMUnfiltered > 0) > 3,, keep.lib.sizes=FALSE]"
   ]
  },
  {
   "cell_type": "code",
   "execution_count": null,
   "metadata": {
    "scrolled": true
   },
   "outputs": [],
   "source": [
    "head(dgeData$counts)"
   ]
  },
  {
   "cell_type": "code",
   "execution_count": null,
   "metadata": {},
   "outputs": [],
   "source": [
    "length(rownames(dgeData))"
   ]
  },
  {
   "cell_type": "markdown",
   "metadata": {},
   "source": [
    "3862 genes are never expressed, 6090 are not expressed in more than 3 conditions, so not even in all replicates of a single condition.  \n",
    "We keep the 12952 genes with a logCPM value of one or higher in 4 or more samples."
   ]
  },
  {
   "cell_type": "code",
   "execution_count": null,
   "metadata": {},
   "outputs": [],
   "source": [
    "# Input gene annotation\n",
    "genes <- select(Mus.musculus, keys=rownames(dgeData), columns=c(\"SYMBOL\", \"TXCHROM\"), \n",
    "                keytype=\"ENTREZID\")\n",
    "# Choose to keep only the first chromosome position of each gene\n",
    "genes <- genes[!duplicated(genes$ENTREZID),]\n",
    "head(genes)\n",
    "\n",
    "dgeData$genes <- genes"
   ]
  },
  {
   "cell_type": "code",
   "execution_count": null,
   "metadata": {
    "scrolled": false
   },
   "outputs": [],
   "source": [
    "# Input sample annotation\n",
    "dgeData$samples$aMEM = c(TRUE,FALSE,FALSE,TRUE,FALSE,FALSE,TRUE)[conditionList]\n",
    "dgeData$samples$aMEMwoLArg = c(FALSE,TRUE,TRUE,FALSE,TRUE,TRUE,FALSE)[conditionList]\n",
    "dgeData$samples$LArg = c(FALSE,FALSE,TRUE,FALSE,FALSE,TRUE,FALSE)[conditionList]\n",
    "dgeData$samples$recArg = c(FALSE,FALSE,FALSE,FALSE,FALSE,FALSE,TRUE)[conditionList]\n",
    "dgeData$samples$RANKL = c(FALSE,FALSE,FALSE,TRUE,TRUE,TRUE,TRUE)[conditionList]\n",
    "# dgeData$samples$mouse = c()\n",
    "dgeData$samples"
   ]
  },
  {
   "cell_type": "code",
   "execution_count": null,
   "metadata": {
    "scrolled": true
   },
   "outputs": [],
   "source": [
    "dgeDataLogCPM = cpm(dgeData, log = T)\n",
    "# NB: prior count of 0.25\n",
    "\n",
    "nsamples <- ncol(dgeDataLogCPM)\n",
    "col <- rainbow(nsamples)\n",
    "\n",
    "par(mfrow=c(1,2), bg=\"white\")\n",
    "\n",
    "plot(density(dgeDataLogCPMUnfiltered[,1]), col=col[1], lwd=2, ylim=c(0,0.21), las=2, \n",
    "     main=\"\", xlab=\"\")\n",
    "title(main=\"A. Raw data\", xlab=\"Log-cpm\")\n",
    "abline(v=0, lty=3)\n",
    "for (i in 2:nsamples){\n",
    "   den <- density(dgeDataLogCPMUnfiltered[,i])\n",
    "   lines(den$x, den$y, col=col[i], lwd=2)\n",
    "}\n",
    "legend(\"topright\", rownames(dgeData$samples), text.col=col, bty=\"n\")\n",
    "\n",
    "plot(density(dgeDataLogCPM[,1]), col=col[1], lwd=2, ylim=c(0,0.21), las=2, \n",
    "     main=\"\", xlab=\"\")\n",
    "title(main=\"B. Filtered data\", xlab=\"Log-cpm\")\n",
    "abline(v=0, lty=3)\n",
    "for (i in 2:nsamples){\n",
    " den <- density(dgeDataLogCPM[,i])\n",
    " lines(den$x, den$y, col=col[i], lwd=2)\n",
    "}\n",
    "legend(\"topright\", rownames(dgeData$samples), text.col=col, bty=\"n\")"
   ]
  },
  {
   "cell_type": "code",
   "execution_count": null,
   "metadata": {},
   "outputs": [],
   "source": [
    "pdf(\"../filteringRNA.pdf\")\n",
    "\n",
    "par(family = \"sans\", mfrow=c(1,2), bg=\"white\")\n",
    "\n",
    "plot(density(dgeDataLogCPMUnfiltered[,1]), col=col[1], lwd=2, ylim=c(0,0.21), las=2, \n",
    "     main=\"\", xlab=\"\")\n",
    "title(main=\"Raw data\", xlab=\"Log-cpm\")\n",
    "abline(v=0, lty=3)\n",
    "for (i in 2:nsamples){\n",
    "   den <- density(dgeDataLogCPMUnfiltered[,i])\n",
    "   lines(den$x, den$y, col=col[i], lwd=2)\n",
    "}\n",
    "\n",
    "plot(density(dgeDataLogCPM[,1]), col=col[1], lwd=2, ylim=c(0,0.21), las=2, \n",
    "     main=\"\", xlab=\"\")\n",
    "title(main=\"Filtered data\", xlab=\"Log-cpm\")\n",
    "abline(v=0, lty=3)\n",
    "for (i in 2:nsamples){\n",
    " den <- density(dgeDataLogCPM[,i])\n",
    " lines(den$x, den$y, col=col[i], lwd=2)\n",
    "}\n",
    "\n",
    "dev.off()"
   ]
  },
  {
   "cell_type": "code",
   "execution_count": null,
   "metadata": {
    "scrolled": true
   },
   "outputs": [],
   "source": [
    "dgeData <- calcNormFactors(dgeData, method = \"TMM\")\n",
    "dgeData$samples"
   ]
  },
  {
   "cell_type": "code",
   "execution_count": null,
   "metadata": {
    "scrolled": false
   },
   "outputs": [],
   "source": [
    "sampleLabels = paste0(\"s\", 1:28, \"_\", conditionList)\n",
    "heatmaply(cor(dgeData$counts),symm=T, labRow = sampleLabels, labCol = sampleLabels, branches_lwd = 0.25, margins = c(50,50,5,0), cexRow = 0.6)"
   ]
  },
  {
   "cell_type": "code",
   "execution_count": null,
   "metadata": {
    "scrolled": true
   },
   "outputs": [],
   "source": [
    "par(bg=\"white\", cex = 1.3)\n",
    "colpal = brewer.pal(7, \"Set2\")\n",
    "plotMDS(dgeData, pch = 16, col = colpal[as.numeric(dgeData$samples$group)])\n",
    "legend(-1.5, -.5, legend=conditionsDesc,\n",
    "       col=colpal, pch=16, cex=0.8)"
   ]
  },
  {
   "cell_type": "code",
   "execution_count": null,
   "metadata": {},
   "outputs": [],
   "source": [
    "svg(\"../mdsMultiRNA.svg\")\n",
    "par(family = \"sans\", cex = 1.3)\n",
    "colpal = brewer.pal(7, \"Set2\")\n",
    "plotMDS(dgeData, pch = 16, col = colpal[as.numeric(dgeData$samples$group)])\n",
    "legend(-1.5, -.5, legend=conditionsDesc,\n",
    "       col=colpal, pch=16, cex=0.8)\n",
    "dev.off()"
   ]
  },
  {
   "cell_type": "code",
   "execution_count": null,
   "metadata": {},
   "outputs": [],
   "source": [
    "# Which mice are the samples coming from?\n",
    "mouse = c(1,1,1,2,1,2,1,2,1,2,1,2,4,3,4,4,4,4,4,4,2,3,3,3,3,3,2,3)\n",
    "table(mouse)"
   ]
  },
  {
   "cell_type": "code",
   "execution_count": null,
   "metadata": {
    "scrolled": true
   },
   "outputs": [],
   "source": [
    "design <- with(data.frame(dgeData$samples), \n",
    "#    model.matrix(~0+aMEM+LArg+recArg+RANKL))\n",
    "    model.matrix(~0+group))\n",
    "design"
   ]
  },
  {
   "cell_type": "code",
   "execution_count": null,
   "metadata": {},
   "outputs": [],
   "source": [
    "contr.matrix <- makeContrasts(\n",
    "                        g1v2 = group1 - group2,\n",
    "                        g1v3 = group1 - group3,\n",
    "                        g1v4 = group1 - group4,\n",
    "                        g2v3 = group2 - group3,\n",
    "                        g2v5 = group2 - group5,\n",
    "                        g3v6 = group3 - group6,\n",
    "                        g4v5 = group4 - group5,\n",
    "                        g4v6 = group4 - group6,\n",
    "                        g4v7 = group4 - group7,\n",
    "                        g5v7 = group5 - group7,\n",
    "                        rankl = group6 + group5 + group4 - group3 - group2 - group1,\n",
    "                        arg = group1 + group4 - group5 - group2,\n",
    "                        rescue = group1 + group4 - group6 - group3,\n",
    "                        levels = colnames(design))\n",
    "contr.matrix"
   ]
  },
  {
   "cell_type": "code",
   "execution_count": null,
   "metadata": {
    "scrolled": true
   },
   "outputs": [],
   "source": [
    "par(mfrow=c(1,2), bg=\"white\")\n",
    "# Correct for heteroscedasticity \n",
    "v <- voom(dgeData, design, plot=TRUE)\n",
    "# Linear model\n",
    "vfit <- lmFit(v, design)\n",
    "vfit <- contrasts.fit(vfit, contrasts=contr.matrix)\n",
    "# Moderated t-statistics, moderated F-statistic, and log-odds of differential expression by empirical Bayes \n",
    "# moderation of the standard errors towards a common value \n",
    "efit <- eBayes(vfit)\n",
    "plotSA(efit, main=\"Final model\")"
   ]
  },
  {
   "cell_type": "code",
   "execution_count": null,
   "metadata": {},
   "outputs": [],
   "source": [
    "# How many genes are differentially expressed overall\n",
    "summary(decideTests(efit), lfc=1)"
   ]
  },
  {
   "cell_type": "code",
   "execution_count": null,
   "metadata": {
    "scrolled": true
   },
   "outputs": [],
   "source": [
    "# Same as eBayes but only for genes that have a log2 fold-change higher than 1\n",
    "tfit <- treat(vfit, lfc=1)\n",
    "# FDR = 5%\n",
    "dt <- decideTests(tfit)\n",
    "summary(dt)"
   ]
  },
  {
   "cell_type": "code",
   "execution_count": null,
   "metadata": {
    "scrolled": true
   },
   "outputs": [],
   "source": [
    "pdf(\"../vennMultiRNA.pdf\")\n",
    "par(family = \"sans\")\n",
    "vennDiagram(dt[,c(7,9,10)], circle.col=c(\"turquoise\", \"salmon\", \"forestgreen\"))\n",
    "dev.off()"
   ]
  },
  {
   "cell_type": "code",
   "execution_count": null,
   "metadata": {},
   "outputs": [],
   "source": [
    "par(bg = \"white\")\n",
    "vennDiagram(dt[,c(7,9,10)], circle.col=c(\"turquoise\", \"salmon\", \"forestgreen\"))"
   ]
  },
  {
   "cell_type": "code",
   "execution_count": null,
   "metadata": {
    "scrolled": true
   },
   "outputs": [],
   "source": [
    "svg(\"../DeplOrRecVenn_multimap.svg\")\n",
    "par(family = \"sans\", cex = 1.15)\n",
    "vennDiagram(dt[,c(7,9)], circle.col=c(\"turquoise\", \"salmon\"), names = c(\"Arginine starvation\", \"recArg1\"))\n",
    "dev.off()"
   ]
  },
  {
   "cell_type": "markdown",
   "metadata": {},
   "source": [
    "Adding recArg1 modified more gene expressions than lack of arginine.  \n",
    "Most of the genes perturbed by lack of arginine are also perturbed by recArg1.  \n",
    "Looking at the difference between arg$^-$ and recArg1$^+$ samples doesn't show additional information,"
   ]
  },
  {
   "cell_type": "markdown",
   "metadata": {},
   "source": [
    "### Effect of RANKL"
   ]
  },
  {
   "cell_type": "code",
   "execution_count": null,
   "metadata": {},
   "outputs": [],
   "source": [
    "pdf(\"../vennMultiRanklRNA.pdf\")\n",
    "par(family = \"sans\")\n",
    "vennDiagram(dt[,c(3,5,6,11)], circle.col=c(\"turquoise\", \"salmon\", \"forestgreen\", \"tomato2\"))\n",
    "dev.off()"
   ]
  },
  {
   "cell_type": "code",
   "execution_count": null,
   "metadata": {},
   "outputs": [],
   "source": [
    "pdf(\"../vennMultiRanklRNA2.pdf\")\n",
    "par(family = \"sans\")\n",
    "vennDiagram(dt[,c(3,5,6)], circle.col=c(\"turquoise\", \"salmon\", \"forestgreen\"))\n",
    "dev.off()"
   ]
  },
  {
   "cell_type": "code",
   "execution_count": null,
   "metadata": {
    "scrolled": true
   },
   "outputs": [],
   "source": [
    "par(bg = \"white\")\n",
    "vennDiagram(dt[,c(3,5,6,11)], circle.col=c(\"turquoise\", \"salmon\", \"forestgreen\", \"tomato2\"))"
   ]
  },
  {
   "cell_type": "code",
   "execution_count": null,
   "metadata": {
    "scrolled": true
   },
   "outputs": [],
   "source": [
    "par(bg = \"white\")\n",
    "vennDiagram(dt[,c(3,5,6)], circle.col=c(\"turquoise\", \"salmon\"))"
   ]
  },
  {
   "cell_type": "code",
   "execution_count": null,
   "metadata": {
    "scrolled": false
   },
   "outputs": [],
   "source": [
    "pdf(\"../VolcanoRanklMultiRNA.pdf\")\n",
    "top1v4 <- topTreat(tfit, coef=3, n=Inf)\n",
    "top1v4$logpval = -log(top1v4$P.Val)\n",
    "top1v4$State = 'No significant change'\n",
    "top1v4[top1v4$ENTREZID %in% names(which(dt[,3] == -1)),10] <- 'Upregulated'\n",
    "top1v4[top1v4$ENTREZID %in% names(which(dt[,3] == 1)),10] <- 'Downregulated'\n",
    "top1v4$Labs = ifelse((top1v4$logpval > 32)|(top1v4$SYMBOL %in% c(\"Nfatc1\", \"Fos\", \"Acp5\", \"Slc38a9\", \"Adgre1\", \"Arg1\")), top1v4$SYMBOL, \"\")\n",
    "n_genes = paste(\"n = \", paste(table(top1v4$State), collapse = \"/\"))\n",
    "ggplot(top1v4, aes(x = -logFC, y = logpval, color = State, label = Labs)) + theme_light() + \n",
    "  theme(text=element_text(size=26, family=\"sans\"), plot.margin = margin(5, 15, 5, 5), panel.grid.minor=element_blank(),\n",
    "  legend.position = c(0.275, 0.9), legend.spacing = unit(10, \"cm\"), legend.title=element_blank(),\n",
    "  legend.background = element_rect(size=0.3, color = \"black\"), legend.margin=margin(5,5,10,5)) + \n",
    "  scale_color_manual(values = c(\"#4A91C4\",\"#AAAAAA\",\"#F09F4E\")) + ggtitle(\"DE induced by RANKL\") +\n",
    "  ylab(\"-log10(P-value)\") + xlab(\"-log2(FC)\") + annotate(\"text\", x = 6.3, y = 0, label = n_genes, size = 7) +\n",
    "  geom_point() + geom_text_repel(size = 7, point.padding = 1, force = 0.01, segment.alpha = 0.5, show.legend = F)\n",
    "dev.off()"
   ]
  },
  {
   "cell_type": "code",
   "execution_count": null,
   "metadata": {
    "scrolled": true
   },
   "outputs": [],
   "source": [
    "pdf(\"../VolcanoRanklSlcMultiRNA.pdf\")\n",
    "indSlc = grep(\"^Slc\", dgeData$genes$SYMBOL)\n",
    "indSlcTfit = which(rownames(tfit$coefficients) %in% dgeData$genes$ENTREZID[indSlc])\n",
    "slcfit = tfit[indSlcTfit,]\n",
    "\n",
    "top1v4slc <- topTreat(slcfit, coef=3, n=Inf)\n",
    "top1v4slc$logpval = -log(top1v4slc$P.Val)\n",
    "top1v4slc$State = 'No significant change'\n",
    "top1v4slc[top1v4slc$ENTREZID %in% names(which(dt[,3] == -1)),10] <- 'Upregulated'\n",
    "top1v4slc[top1v4slc$ENTREZID %in% names(which(dt[,3] == 1)),10] <- 'Downregulated'\n",
    "top1v4slc$Labs = ifelse(top1v4slc$State != 'No significant change', top1v4slc$SYMBOL, NA)\n",
    "n_genes = paste(\"n = \", paste(table(top1v4slc$State), collapse = \"/\"))\n",
    "ggplot(top1v4slc, aes(x = -logFC, y = logpval, color = State, label = Labs)) + theme_light() + \n",
    "  theme(text=element_text(size=26, family=\"sans\"), panel.grid.minor=element_blank(),\n",
    "  legend.position = c(0.73, 0.9), legend.spacing = unit(10, \"cm\"), legend.title=element_blank(),\n",
    "  legend.background = element_rect(size=0.3, color = \"black\"), legend.margin=margin(5,5,10,5)) + \n",
    "  scale_color_manual(values = c(\"#4A91C4\",\"#AAAAAA\",\"#F09F4E\")) + ggtitle(\"DE induced by RANKL\") +\n",
    "  ylab(\"-log10(P-value)\") + xlab(\"-log2(FC)\") + annotate(\"text\", x = -5, y = 0, label = n_genes, size = 7) +\n",
    "  geom_point() + geom_text_repel(size = 7, point.padding = 0.3, force = 8, segment.alpha = 0.5, show.legend = F)\n",
    "dev.off()"
   ]
  },
  {
   "cell_type": "markdown",
   "metadata": {},
   "source": [
    "### Effect of arginin depletion"
   ]
  },
  {
   "cell_type": "code",
   "execution_count": null,
   "metadata": {
    "scrolled": true
   },
   "outputs": [],
   "source": [
    "par(bg = \"white\")\n",
    "vennDiagram(dt[,c(1,7,12)], circle.col=c(\"turquoise\", \"salmon\"))"
   ]
  },
  {
   "cell_type": "code",
   "execution_count": null,
   "metadata": {
    "scrolled": false
   },
   "outputs": [],
   "source": [
    "par(bg = \"white\")\n",
    "vennDiagram(dt[,c(1,7)], circle.col=c(\"turquoise\", \"salmon\"))"
   ]
  },
  {
   "cell_type": "markdown",
   "metadata": {},
   "source": [
    "### Effect of arginin rescue"
   ]
  },
  {
   "cell_type": "code",
   "execution_count": null,
   "metadata": {
    "scrolled": true
   },
   "outputs": [],
   "source": [
    "par(bg = \"white\")\n",
    "vennDiagram(dt[,c(2,8,13)], circle.col=c(\"turquoise\", \"salmon\"))"
   ]
  },
  {
   "cell_type": "code",
   "execution_count": null,
   "metadata": {
    "scrolled": true
   },
   "outputs": [],
   "source": [
    "par(bg = \"white\")\n",
    "vennDiagram(dt[,c(2,8)], circle.col=c(\"turquoise\", \"salmon\"))"
   ]
  },
  {
   "cell_type": "code",
   "execution_count": null,
   "metadata": {},
   "outputs": [],
   "source": [
    "top4v5 <- topTreat(tfit, coef=7, n=Inf)\n",
    "top4v7 <- topTreat(tfit, coef=9, n=Inf)\n",
    "head(top4v7)"
   ]
  },
  {
   "cell_type": "code",
   "execution_count": null,
   "metadata": {
    "scrolled": true
   },
   "outputs": [],
   "source": [
    "par(bg=\"white\")\n",
    "plotMD(tfit, column=9, status=dt[,9], main=colnames(tfit)[9], col = c(\"#4A91C4\",\"#F09F4E\"), bg.col = \"grey\", legend = F)"
   ]
  },
  {
   "cell_type": "code",
   "execution_count": null,
   "metadata": {
    "scrolled": false
   },
   "outputs": [],
   "source": [
    "pdf(\"../VolcanoRecArg1MultiRNA.pdf\")\n",
    "top4v7$logpval = -log(top4v7$P.Val)\n",
    "top4v7$State = 'No significant change'\n",
    "top4v7[top4v7$ENTREZID %in% names(which(dt[,9] == -1)),10] <- 'Upregulated'\n",
    "top4v7[top4v7$ENTREZID %in% names(which(dt[,9] == 1)),10] <- 'Downregulated'\n",
    "top4v7$Labs = ifelse((top1v4$logpval > 32)|(top1v4$SYMBOL %in% c(\"Nfatc1\", \"Fos\", \"Acp5\", \"Slc38a9\", \"Adgre1\", \"Arg1\")), top1v4$SYMBOL, \"\")\n",
    "n_genes = paste(\"n = \", paste(table(top4v7$State), collapse = \"/\"))\n",
    "ggplot(top4v7, aes(x = -logFC, y = logpval, color = State, label = Labs)) + theme_light() + \n",
    "  theme(text=element_text(size=26, family=\"sans\"), plot.margin = margin(5, 15, 5, 5), panel.grid.minor=element_blank(),\n",
    "  legend.position = c(0.55, 0.9), legend.spacing = unit(10, \"cm\"), legend.title=element_blank(),\n",
    "  legend.background = element_rect(size=0.3, color = \"black\"), legend.margin=margin(5,5,10,5)) + \n",
    "  scale_color_manual(values = c(\"#4A91C4\",\"#AAAAAA\",\"#F09F4E\")) + ggtitle(\"DE induced by recArg1\") +\n",
    "  ylab(\"-log10(P-value)\") + xlab(\"-log2(FC)\") + annotate(\"text\", x = -4, y = 0, label = n_genes, size = 6) +\n",
    "  geom_point() + geom_text_repel(size = 7, point.padding = 0.3, force = 0.6, segment.alpha = 0.5, show.legend = F)\n",
    "dev.off()"
   ]
  },
  {
   "cell_type": "code",
   "execution_count": null,
   "metadata": {
    "scrolled": false
   },
   "outputs": [],
   "source": [
    "pdf(\"../VolcanoRecArg1SlcMultiRNA.pdf\")\n",
    "\n",
    "top4v7slc <- topTreat(slcfit, coef=9, n=Inf)\n",
    "top4v7slc$logpval = -log(top4v7slc$P.Val)\n",
    "top4v7slc$State = 'No significant change'\n",
    "top4v7slc[top4v7slc$ENTREZID %in% names(which(dt[,9] == -1)),10] <- 'Upregulated'\n",
    "top4v7slc[top4v7slc$ENTREZID %in% names(which(dt[,9] == 1)),10] <- 'Downregulated'\n",
    "top4v7slc$Labs = ifelse(top4v7slc$State != 'No significant change', top4v7slc$SYMBOL, NA)\n",
    "n_genes = paste(\"n = \", paste(table(top4v7slc$State), collapse = \"/\"))\n",
    "ggplot(top4v7slc, aes(x = -logFC, y = logpval, color = State, label = Labs)) + theme_light() + \n",
    "  theme(text=element_text(size=26, family=\"sans\"), panel.grid.minor=element_blank(),\n",
    "  legend.position = c(0.73, 0.9), legend.spacing = unit(10, \"cm\"), legend.title=element_blank(),\n",
    "  legend.background = element_rect(size=0.3, color = \"black\"), legend.margin=margin(5,5,10,5)) + \n",
    "  scale_color_manual(values = c(\"#4A91C4\",\"#AAAAAA\",\"#F09F4E\")) + ggtitle(\"DE induced by recArg1\") +\n",
    "  ylab(\"-log10(P-value)\") + xlab(\"-log2(FC)\") + annotate(\"text\", x = -5, y = 0, label = n_genes, size = 7) +\n",
    "  geom_point() + geom_text_repel(size = 7, point.padding = 0.3, force = 8, segment.alpha = 0.5, show.legend = F)\n",
    "dev.off()"
   ]
  },
  {
   "cell_type": "code",
   "execution_count": null,
   "metadata": {},
   "outputs": [],
   "source": [
    "pdf(\"../MDMultiRNA.pdf\")\n",
    "par(family = \"sans\")\n",
    "plotMD(tfit, column=9, status=dt[,9], main=colnames(tfit)[9], col = c(\"#4A91C4\",\"#F09F4E\"), bg.col = \"grey\", legend = F)\n",
    "dev.off()"
   ]
  },
  {
   "cell_type": "code",
   "execution_count": null,
   "metadata": {
    "scrolled": true
   },
   "outputs": [],
   "source": [
    "for (i in head(top4v7$SYMBOL, 40)){ cat(paste0(i, \"\\n\")) }"
   ]
  },
  {
   "cell_type": "code",
   "execution_count": null,
   "metadata": {},
   "outputs": [],
   "source": [
    "conditionsDesc = c(\"MCSF\", \"MCSF+depl\", \"MCSF+rescue\", \"MCSF+RANKL\", \"MCSF+RANKL+depl\", \"MCSF+RANKL+rescue\", \"MCSF+RANKL+recArg1\")\n",
    "cndt = data.frame(Conditions = conditionsDesc[conditionList])"
   ]
  },
  {
   "cell_type": "code",
   "execution_count": null,
   "metadata": {
    "scrolled": false
   },
   "outputs": [],
   "source": [
    "top4v7.topgenes <- top4v7$ENTREZID[1:40]\n",
    "i <- which(v$genes$ENTREZID %in% top4v7.topgenes)\n",
    "colPal <- colorRampPalette(c(\"#4A91C4\",\"white\",\"#F09F4E\"))\n",
    "heatmaply(v$E[i,], labCol = rep(NA, 28), labRow=v$genes$SYMBOL[i], col = colPal, file = \"../heatmapMultiRNA.pdf\",\n",
    "    cexRow = 0.5, margins = c(50,60,NA,0), ColSideColors=cndt, plot_method = \"plotly\",\n",
    "    col_side_palette = colorRampPalette(brewer.pal(n = 7, name = \"Set1\")),\n",
    "    key.title = \"Normalized logCPM\", xlab = \"Samples\", ylab = \"Genes\")"
   ]
  },
  {
   "cell_type": "code",
   "execution_count": null,
   "metadata": {
    "scrolled": false
   },
   "outputs": [],
   "source": [
    "i <- which(v$genes$ENTREZID %in% top4v7$ENTREZID[1:4])\n",
    "heatmaply(v$E[i,], labCol=sampleLabels, labRow=v$genes$SYMBOL[i], branches_lwd = 0.25, col = colPal, \n",
    "    cexCol = 0.8, cexRow = 0.1, margins = c(80,0,5,0))"
   ]
  },
  {
   "cell_type": "markdown",
   "metadata": {},
   "source": [
    "### Pathway-specific gene expression"
   ]
  },
  {
   "cell_type": "code",
   "execution_count": null,
   "metadata": {},
   "outputs": [],
   "source": [
    "# Import updated list of kegg pathways\n",
    "keggPath = fromJSON(\"https://www.kegg.jp/kegg-bin/download_htext?htext=mmu00001&format=json\", flatten = F)"
   ]
  },
  {
   "cell_type": "code",
   "execution_count": null,
   "metadata": {},
   "outputs": [],
   "source": [
    "# We extract genes belonging to the KEGG pathways 00010, 00020, 00220 and 00330\n",
    "print(c(keggPath$children$name[[1]], keggPath$children$children[[1]]$name[c(1,5)],\n",
    "    keggPath$children$children[[1]]$children[[1]]$name[c(1,2)],\n",
    "    keggPath$children$children[[1]]$children[[5]]$name[c(8,9)]))\n",
    "extractID <- function(x){\n",
    "    split.x =  strsplit(x, ' ')\n",
    "    return(split.x[[1]][[1]])\n",
    "}\n",
    "kegg00010 = keggPath$children$children[[1]]$children[[1]]$children[[1]]$name\n",
    "kegg00020 = keggPath$children$children[[1]]$children[[1]]$children[[2]]$name\n",
    "kegg00220 = keggPath$children$children[[1]]$children[[5]]$children[[8]]$name\n",
    "kegg00330 = keggPath$children$children[[1]]$children[[5]]$children[[9]]$name\n",
    "kegg00010 = sapply(kegg00010, extractID)\n",
    "kegg00020 = sapply(kegg00020, extractID)\n",
    "kegg00220 = sapply(kegg00220, extractID)\n",
    "kegg00330 = sapply(kegg00330, extractID)"
   ]
  },
  {
   "cell_type": "code",
   "execution_count": null,
   "metadata": {},
   "outputs": [],
   "source": [
    "source(\"https://raw.githubusercontent.com/talgalili/heatmaply/master/R/plots.R\")\n",
    "j <- c(1,4,7)\n",
    "colPal <- colorRampPalette(c(\"#4A91C4\",\"white\",\"#F09F4E\"))"
   ]
  },
  {
   "cell_type": "code",
   "execution_count": null,
   "metadata": {},
   "outputs": [],
   "source": [
    "# Genes to plot\n",
    "i <- which(v$genes$ENTREZID %in% kegg00010)\n",
    "\n",
    "# Scale logCPM per gene, aggregate mean per condition\n",
    "expMat = v$E[i,conditionList %in% j]\n",
    "expMat = apply(expMat, 1, scale)\n",
    "expMat = aggregate(expMat, list(cndt[conditionList %in% j,]), mean)\n",
    "lvlMat = expMat[,1]\n",
    "expMat = t(expMat[,-1])\n",
    "colnames(expMat) <- lvlMat\n",
    "\n",
    "# Compute row dendrograms on 2 conditions only\n",
    "dist_dend <- dist(expMat[,colnames(expMat) %in% c('MCSF+RANKL', 'MCSF+RANKL+recArg1')])\n",
    "row_dend  <- as.dendrogram(hclust(dist_dend))\n",
    "row_dend <- seriate_dendrogram(row_dend, dist_dend, method = \"OLO\")\n",
    "\n",
    "h <- heatmaply(expMat, labRow=v$genes$SYMBOL[i], col = colPal,\n",
    "    cexRow = 0.5, margins = c(110,60,NA,0), plot_method = \"plotly\", dendrogram = \"row\", Rowv = row_dend,\n",
    "    key.title = \"Normalized expression per gene\", xlab = \"Samples\", ylab = \"Genes\", limits = c(-1.5,1.5))\n",
    "h$x$layout$xaxis2$showticklabels <- FALSE\n",
    "hmly_to_file(h, \"../heatmapkegg00010.pdf\")"
   ]
  },
  {
   "cell_type": "code",
   "execution_count": null,
   "metadata": {},
   "outputs": [],
   "source": [
    "# Genes to plot\n",
    "i <- which(v$genes$ENTREZID %in% kegg00020)\n",
    "\n",
    "# Scale logCPM per gene, aggregate mean per condition\n",
    "expMat = v$E[i,conditionList %in% j]\n",
    "expMat = apply(expMat, 1, scale)\n",
    "expMat = aggregate(expMat, list(cndt[conditionList %in% j,]), mean)\n",
    "lvlMat = expMat[,1]\n",
    "expMat = t(expMat[,-1])\n",
    "colnames(expMat) <- lvlMat\n",
    "\n",
    "# Compute row dendrograms on 2 conditions only\n",
    "dist_dend <- dist(expMat[,colnames(expMat) %in% c('MCSF+RANKL', 'MCSF+RANKL+recArg1')])\n",
    "row_dend  <- as.dendrogram(hclust(dist_dend))\n",
    "row_dend <- seriate_dendrogram(row_dend, dist_dend, method = \"OLO\")\n",
    "\n",
    "h <- heatmaply(expMat, labRow=v$genes$SYMBOL[i], col = colPal,\n",
    "    cexRow = 0.5, margins = c(110,60,NA,0), plot_method = \"plotly\", dendrogram = \"row\", Rowv = row_dend,\n",
    "    key.title = \"Normalized expression per gene\", xlab = \"Samples\", ylab = \"Genes\", limits = c(-1.5,1.5))\n",
    "h$x$layout$xaxis2$showticklabels <- FALSE\n",
    "hmly_to_file(h, \"../heatmapkegg00020.pdf\")"
   ]
  },
  {
   "cell_type": "code",
   "execution_count": null,
   "metadata": {},
   "outputs": [],
   "source": [
    "# Genes to plot\n",
    "i <- which(v$genes$ENTREZID %in% kegg00220)\n",
    "\n",
    "# Scale logCPM per gene, aggregate mean per condition\n",
    "expMat = v$E[i,conditionList %in% j]\n",
    "expMat = apply(expMat, 1, scale)\n",
    "expMat = aggregate(expMat, list(cndt[conditionList %in% j,]), mean)\n",
    "lvlMat = expMat[,1]\n",
    "expMat = t(expMat[,-1])\n",
    "colnames(expMat) <- lvlMat\n",
    "\n",
    "# Compute row dendrograms on 2 conditions only\n",
    "dist_dend <- dist(expMat[,colnames(expMat) %in% c('MCSF+RANKL', 'MCSF+RANKL+recArg1')])\n",
    "row_dend  <- as.dendrogram(hclust(dist_dend))\n",
    "row_dend <- seriate_dendrogram(row_dend, dist_dend, method = \"OLO\")\n",
    "\n",
    "h <- heatmaply(expMat, labRow=v$genes$SYMBOL[i], col = colPal,\n",
    "    cexRow = 0.5, margins = c(110,60,NA,0), plot_method = \"plotly\", dendrogram = \"row\", Rowv = row_dend,\n",
    "    key.title = \"Normalized expression per gene\", xlab = \"Samples\", ylab = \"Genes\", limits = c(-1.5,1.5))\n",
    "h$x$layout$xaxis2$showticklabels <- FALSE\n",
    "hmly_to_file(h, \"../heatmapkegg00220.pdf\")"
   ]
  },
  {
   "cell_type": "code",
   "execution_count": null,
   "metadata": {},
   "outputs": [],
   "source": [
    "# Genes to plot\n",
    "i <- which(v$genes$ENTREZID %in% kegg00330)\n",
    "\n",
    "# Scale logCPM per gene, aggregate mean per condition\n",
    "expMat = v$E[i,conditionList %in% j]\n",
    "expMat = apply(expMat, 1, scale)\n",
    "expMat = aggregate(expMat, list(cndt[conditionList %in% j,]), mean)\n",
    "lvlMat = expMat[,1]\n",
    "expMat = t(expMat[,-1])\n",
    "colnames(expMat) <- lvlMat\n",
    "\n",
    "# Compute row dendrograms on 2 conditions only\n",
    "dist_dend <- dist(expMat[,colnames(expMat) %in% c('MCSF+RANKL', 'MCSF+RANKL+recArg1')])\n",
    "row_dend  <- as.dendrogram(hclust(dist_dend))\n",
    "row_dend <- seriate_dendrogram(row_dend, dist_dend, method = \"OLO\")\n",
    "\n",
    "h <- heatmaply(expMat, labRow=v$genes$SYMBOL[i], col = colPal,\n",
    "    cexRow = 0.5, margins = c(110,60,NA,0), plot_method = \"plotly\", dendrogram = \"row\", Rowv = row_dend,\n",
    "    key.title = \"Normalized expression per gene\", xlab = \"Samples\", ylab = \"Genes\", limits = c(-1.5,1.5))\n",
    "h$x$layout$xaxis2$showticklabels <- FALSE\n",
    "hmly_to_file(h, \"../heatmapkegg00330.pdf\")"
   ]
  },
  {
   "cell_type": "markdown",
   "metadata": {},
   "source": [
    "### AA-transporters expression"
   ]
  },
  {
   "cell_type": "code",
   "execution_count": null,
   "metadata": {},
   "outputs": [],
   "source": [
    "allSlcs = as.character(unlist(read.csv(\"../all_aa_slcs.csv\", header = F)))\n",
    "argSlcs = as.character(unlist(read.csv(\"../arg_slcs.csv\", header = F)))\n",
    "print(c(length(allSlcs), length(argSlcs)))"
   ]
  },
  {
   "cell_type": "code",
   "execution_count": null,
   "metadata": {},
   "outputs": [],
   "source": [
    "# Convert symbols from human to mouse\n",
    "library(biomaRt)\n",
    "human = useMart(\"ensembl\", dataset = \"hsapiens_gene_ensembl\")\n",
    "mouse = useMart(\"ensembl\", dataset = \"mmusculus_gene_ensembl\") \n",
    "allSlcsEntrez = getLDS(attributes = c(\"hgnc_symbol\"), \n",
    "    filters = \"hgnc_symbol\", values = allSlcs, mart = human, \n",
    "    attributesL = c(\"entrezgene\"), martL = mouse)\n",
    "argSlcsEntrez = getLDS(attributes = c(\"hgnc_symbol\"), \n",
    "    filters = \"hgnc_symbol\", values = argSlcs, mart = human, \n",
    "    attributesL = c(\"entrezgene\"), martL = mouse)\n",
    "# SLC620 maps to Slc6a20a and Slc6a20b\n",
    "# SLC7A12 does not exist, even though Slc7a12 is a valid mouse symbol"
   ]
  },
  {
   "cell_type": "code",
   "execution_count": null,
   "metadata": {},
   "outputs": [],
   "source": [
    "# Genes to plot\n",
    "i <- which(v$genes$ENTREZID %in% argSlcsEntrez$NCBI.gene.ID)\n",
    "\n",
    "# Scale logCPM per gene, aggregate mean per condition\n",
    "expMat = v$E[i,conditionList %in% j]\n",
    "expMat = apply(expMat, 1, scale)\n",
    "expMat = aggregate(expMat, list(cndt[conditionList %in% j,]), mean)\n",
    "lvlMat = expMat[,1]\n",
    "expMat = t(expMat[,-1])\n",
    "colnames(expMat) <- lvlMat\n",
    "\n",
    "# Compute row dendrograms on 2 conditions only\n",
    "dist_dend <- dist(expMat[,colnames(expMat) %in% c('MCSF+RANKL', 'MCSF+RANKL+recArg1')])\n",
    "row_dend  <- as.dendrogram(hclust(dist_dend))\n",
    "row_dend <- seriate_dendrogram(row_dend, dist_dend, method = \"OLO\")\n",
    "\n",
    "h <- heatmaply(expMat, labRow=v$genes$SYMBOL[i], col = colPal,\n",
    "    cexRow = 0.7, margins = c(110,60,NA,0), plot_method = \"plotly\", dendrogram = \"row\", Rowv = row_dend,\n",
    "    key.title = \"Normalized expression per gene\", xlab = \"Samples\", ylab = \"Genes\")\n",
    "h$x$layout$xaxis2$showticklabels <- FALSE\n",
    "hmly_to_file(h, \"../heatmapSLCargRNAv2.pdf\")"
   ]
  },
  {
   "cell_type": "code",
   "execution_count": null,
   "metadata": {},
   "outputs": [],
   "source": [
    "# Genes to plot\n",
    "i <- which(v$genes$ENTREZID %in% allSlcsEntrez$NCBI.gene.ID)\n",
    "\n",
    "# Scale logCPM per gene, aggregate mean per condition\n",
    "expMat = v$E[i,conditionList %in% j]\n",
    "expMat = apply(expMat, 1, scale)\n",
    "expMat = aggregate(expMat, list(cndt[conditionList %in% j,]), mean)\n",
    "lvlMat = expMat[,1]\n",
    "expMat = t(expMat[,-1])\n",
    "colnames(expMat) <- lvlMat\n",
    "\n",
    "# Compute row dendrograms on 2 conditions only\n",
    "dist_dend <- dist(expMat[,colnames(expMat) %in% c('MCSF+RANKL', 'MCSF+RANKL+recArg1')])\n",
    "row_dend  <- as.dendrogram(hclust(dist_dend))\n",
    "row_dend <- seriate_dendrogram(row_dend, dist_dend, method = \"OLO\")\n",
    "\n",
    "h <- heatmaply(expMat, labRow=v$genes$SYMBOL[i], col = colPal,\n",
    "    cexRow = 0.7, margins = c(110,60,NA,0), plot_method = \"plotly\", dendrogram = \"row\", Rowv = row_dend,\n",
    "    key.title = \"Normalized expression per gene\", xlab = \"Samples\", ylab = \"Genes\")\n",
    "h$x$layout$xaxis2$showticklabels <- FALSE\n",
    "hmly_to_file(h, \"../heatmapSLCallRNAv2.pdf\")"
   ]
  },
  {
   "cell_type": "code",
   "execution_count": null,
   "metadata": {},
   "outputs": [],
   "source": [
    "dt.multi = dt"
   ]
  },
  {
   "cell_type": "markdown",
   "metadata": {},
   "source": [
    "### Differences between recArg1 and arginine depletion in presence of RANKL\n",
    "Conditions 7 and 5"
   ]
  },
  {
   "cell_type": "code",
   "execution_count": null,
   "metadata": {
    "scrolled": true
   },
   "outputs": [],
   "source": [
    "suppressWarnings(which(apply(dt.multi[,c(7,9,10)], 1, all)))\n",
    "dt.multi[suppressWarnings(which(apply(dt.multi[,c(7,9,10)], 1, all))),c(7,9,10)]"
   ]
  },
  {
   "cell_type": "markdown",
   "metadata": {},
   "source": [
    "Prostate transmembrane protein, androgen induced 1 (ENTREZ gene 65112) is overexpressed in arginine depletion compared to osteoclasts and recArg1, whereas it's underexpressed when comparing recArg1 to osteoclasts."
   ]
  },
  {
   "cell_type": "code",
   "execution_count": null,
   "metadata": {},
   "outputs": [],
   "source": [
    "top5v7 <- topTreat(tfit, coef=10, n=Inf)\n",
    "head(top5v7)"
   ]
  },
  {
   "cell_type": "code",
   "execution_count": null,
   "metadata": {
    "scrolled": true
   },
   "outputs": [],
   "source": [
    "par(bg=\"white\")\n",
    "plotMD(tfit, column=10, status=dt[,10], main=colnames(tfit)[10], col = c(\"#4A91C4\",\"#F09F4E\"), bg.col = \"grey\", legend = F)"
   ]
  },
  {
   "cell_type": "code",
   "execution_count": null,
   "metadata": {},
   "outputs": [],
   "source": [
    "pdf(\"../MDMultiRecArgVsDepl.pdf\")\n",
    "par(family = \"sans\")\n",
    "plotMD(tfit, column=10, status=dt[,10], main=colnames(tfit)[10], col = c(\"#4A91C4\",\"#F09F4E\"), bg.col = \"grey\", legend = F)\n",
    "dev.off()"
   ]
  },
  {
   "cell_type": "code",
   "execution_count": null,
   "metadata": {
    "scrolled": true
   },
   "outputs": [],
   "source": [
    "for (i in head(top5v7$SYMBOL, 40)){ cat(paste0(i, \"\\n\")) }"
   ]
  },
  {
   "cell_type": "code",
   "execution_count": null,
   "metadata": {
    "scrolled": true
   },
   "outputs": [],
   "source": [
    "top5v7.topgenes <- top5v7$ENTREZID[1:40]\n",
    "i <- which(v$genes$ENTREZID %in% top5v7.topgenes)\n",
    "colPal <- colorRampPalette(c(\"#4A91C4\",\"white\",\"#F09F4E\"))\n",
    "heatmaply(v$E[i,], labCol=sampleLabels, labRow=v$genes$SYMBOL[i], branches_lwd = 0.25, col = colPal, file = \"../heatmapMultiRecArgVsDepl.pdf\",\n",
    "    cexCol = 0.8, cexRow = 0.1, margins = c(80,0,5,0), ColSideColors=dgeData$samples$group, plot_method = \"plotly\")"
   ]
  },
  {
   "cell_type": "code",
   "execution_count": null,
   "metadata": {},
   "outputs": [],
   "source": [
    "svg(\"../deplStarComparison.svg\")\n",
    "deplInd = (dgeData$samples$group == 5)\n",
    "starInd = (dgeData$samples$group == 7)\n",
    "compDeplStar = as.data.frame(cbind(x = rowMeans(dgeDataLogCPM[,deplInd]), y = rowMeans(dgeDataLogCPM[,starInd])))\n",
    "lmComp = lm(y ~ x, data = compDeplStar)\n",
    "ggplot(data = compDeplStar, aes(x = x, y = y)) + geom_point(alpha = 0.5) + theme_light() + \n",
    "  theme(text=element_text(size=26, family=\"sans\"), panel.grid.minor=element_blank()) +\n",
    "  xlab(\"Log2(CPM) for arginine depletion\") + ylab(\"Log2(CPM) for recArg1\") + \n",
    "  geom_smooth(method='lm') + annotate('text', x = 2.5, y = 14, size = 6,\n",
    "        label = paste(\"hat(y)==\", lmComp$coefficients[2], \"~x\", lmComp$coefficients[1], \"~~~~~R^2==\", summary(lmComp)$r.squared), parse=T)\n",
    "dev.off()"
   ]
  },
  {
   "cell_type": "markdown",
   "metadata": {},
   "source": [
    "### Difference between MCSF and MCSF + RANKL\n",
    "Conditions 1 and 4"
   ]
  },
  {
   "cell_type": "code",
   "execution_count": null,
   "metadata": {},
   "outputs": [],
   "source": [
    "top1v4 <- topTreat(tfit, coef=3, n=Inf)\n",
    "head(top1v4)"
   ]
  },
  {
   "cell_type": "markdown",
   "metadata": {},
   "source": [
    "### Export expression for OmicsIntegrator"
   ]
  },
  {
   "cell_type": "code",
   "execution_count": null,
   "metadata": {},
   "outputs": [],
   "source": [
    "write.table(top1v4[(top1v4$ENTREZID %in% names(which(dt[,3] != 0))),c(2,4)], file = \"../ranklOnly_expr.tsv\", \n",
    "            sep = \"\\t\", quote = FALSE, row.names = FALSE, col.names = FALSE) "
   ]
  },
  {
   "cell_type": "code",
   "execution_count": null,
   "metadata": {
    "scrolled": true
   },
   "outputs": [],
   "source": [
    "write.table(top4v7[(top4v7$ENTREZID %in% names(which(dt[,9] != 0))),c(2,4)], file = \"../OmicsIntegratorRun/recArg1_expr.tsv\", \n",
    "            sep = \"\\t\", quote = FALSE, row.names = FALSE, col.names = FALSE) "
   ]
  },
  {
   "cell_type": "code",
   "execution_count": null,
   "metadata": {
    "scrolled": true
   },
   "outputs": [],
   "source": [
    "write.table(top5v7[(top5v7$ENTREZID %in% names(which(dt[,10] != 0))),c(2,4)], file = \"../OmicsIntegratorRun/deplOrRec_expr.tsv\", \n",
    "            sep = \"\\t\", quote = FALSE, row.names = FALSE, col.names = FALSE) "
   ]
  },
  {
   "cell_type": "code",
   "execution_count": null,
   "metadata": {},
   "outputs": [],
   "source": [
    "upDeplGenes1 = names(which((dt.multi[,3] == 1) & (dt.multi[,6] == 1) & (dt.multi[,5] == 0)))\n",
    "downDeplGenes1 = names(which((dt.multi[,3] == -1) & (dt.multi[,6] == -1) & (dt.multi[,5] == 0)))\n",
    "notUpDeplGenes1 = names(which((dt.multi[,3] == 0) & (dt.multi[,6] == 0) & (dt.multi[,5] == 1)))\n",
    "notDownDeplGenes1 = names(which((dt.multi[,3] == 0) & (dt.multi[,6] == 0) & (dt.multi[,5] == -1)))"
   ]
  },
  {
   "cell_type": "code",
   "execution_count": null,
   "metadata": {
    "scrolled": true
   },
   "outputs": [],
   "source": [
    "deplGenes = union(union(upDeplGenes1, downDeplGenes1), union(notUpDeplGenes1, notDownDeplGenes1))"
   ]
  },
  {
   "cell_type": "code",
   "execution_count": null,
   "metadata": {},
   "outputs": [],
   "source": [
    "deplGenes"
   ]
  },
  {
   "cell_type": "code",
   "execution_count": null,
   "metadata": {},
   "outputs": [],
   "source": [
    "top3v6 <- topTreat(tfit, coef=6, n=Inf)\n",
    "top2v5 <- topTreat(tfit, coef=5, n=Inf)"
   ]
  },
  {
   "cell_type": "code",
   "execution_count": null,
   "metadata": {},
   "outputs": [],
   "source": [
    "lfcFc = unlist(sapply(deplGenes, function(i) log2(2**(top2v5[top2v5$ENTREZID == i,4])/2**(top3v6[top3v6$ENTREZID == i,4]))))"
   ]
  },
  {
   "cell_type": "code",
   "execution_count": null,
   "metadata": {
    "scrolled": true
   },
   "outputs": [],
   "source": [
    "lfcFc = abs(lfcFc)\n",
    "write.table(data.frame(v$genes$SYMBOL[v$genes$ENTREZID %in% deplGenes[lfcFc > 0.5]], lfcFc[lfcFc > 0.5]), \n",
    "                       file = \"../OmicsIntegratorRun/ranklDiff_expr.tsv\", \n",
    "            sep = \"\\t\", quote = FALSE, row.names = FALSE, col.names = FALSE) "
   ]
  },
  {
   "cell_type": "markdown",
   "metadata": {},
   "source": [
    "## RecArg1 - Counts without multi-mapping reads"
   ]
  },
  {
   "cell_type": "code",
   "execution_count": null,
   "metadata": {},
   "outputs": [],
   "source": [
    "countMat = matrix(nrow=26301, ncol=28)\n",
    "colnames(countMat) <- list.files()\n",
    "for (i in 1:28) {\n",
    "    load(colnames(countMat)[i])\n",
    "    countMat[,i] <- fcStrict$counts\n",
    "}\n",
    "rownames(countMat) <- rownames(fcStrict$counts)\n",
    "# Four replicates of seven different conditions\n",
    "conditionList = c(5,6,7,1,1,2,2,3,3,4,4,5,1,7,5,2,3,4,6,7,7,1,2,4,5,6,3,6)\n",
    "# If s06 is Control RANKL rescue and s08 is Control rescue\n",
    "# conditionList = c(5,6,7,1,1,2,2,3,3,4,4,5,1,7,5,2,3,4,6,7,7,1,2,4,5,6,6,3)"
   ]
  },
  {
   "cell_type": "code",
   "execution_count": null,
   "metadata": {},
   "outputs": [],
   "source": [
    "# Convert to DGE object\n",
    "dgeData = DGEList(counts = countMat, genes = rownames(countMat), group = conditionList)"
   ]
  },
  {
   "cell_type": "code",
   "execution_count": null,
   "metadata": {},
   "outputs": [],
   "source": [
    "dim(dgeData)"
   ]
  },
  {
   "cell_type": "code",
   "execution_count": null,
   "metadata": {
    "scrolled": true
   },
   "outputs": [],
   "source": [
    "names(dgeData)"
   ]
  },
  {
   "cell_type": "code",
   "execution_count": null,
   "metadata": {},
   "outputs": [],
   "source": [
    "# Counts equal to 0 for all but 3 samples at most\n",
    "table(rowSums(dgeData$counts==0)>=25)\n",
    "# Counts equal to 0 for all sample\n",
    "table(rowSums(dgeData$counts==0)==28)"
   ]
  },
  {
   "cell_type": "code",
   "execution_count": null,
   "metadata": {},
   "outputs": [],
   "source": [
    "dgeDataLogCPMUnfiltered = cpm(dgeData, log = T)"
   ]
  },
  {
   "cell_type": "code",
   "execution_count": null,
   "metadata": {},
   "outputs": [],
   "source": [
    "table(rowSums(dgeDataLogCPMUnfiltered > 0) > 3)"
   ]
  },
  {
   "cell_type": "code",
   "execution_count": null,
   "metadata": {},
   "outputs": [],
   "source": [
    "dgeData = dgeData[rowSums(dgeDataLogCPMUnfiltered > 0) > 3,, keep.lib.sizes=FALSE]\n",
    "# dgeData = dgeData[rowSums(dgeData$counts==0)>=25,, keep.lib.sizes=FALSE]"
   ]
  },
  {
   "cell_type": "markdown",
   "metadata": {},
   "source": [
    "5010 genes are never expressed, 7267 are not expressed in more than 3 conditions, so not even in all replicates of a single condition.\n",
    "We keep the 12952 genes with a logCPM value of one or higher in 4 or more samples."
   ]
  },
  {
   "cell_type": "code",
   "execution_count": null,
   "metadata": {},
   "outputs": [],
   "source": [
    "# Input gene annotation\n",
    "genes <- select(Mus.musculus, keys=rownames(dgeData), columns=c(\"SYMBOL\", \"TXCHROM\"), \n",
    "                keytype=\"ENTREZID\")\n",
    "# Choose to keep only the first chromosome position of each gene\n",
    "genes <- genes[!duplicated(genes$ENTREZID),]\n",
    "head(genes)\n",
    "\n",
    "dgeData$genes <- genes"
   ]
  },
  {
   "cell_type": "code",
   "execution_count": null,
   "metadata": {
    "scrolled": false
   },
   "outputs": [],
   "source": [
    "# Input sample annotation\n",
    "dgeData$samples$aMEM = c(TRUE,FALSE,FALSE,TRUE,FALSE,FALSE,TRUE)[conditionList]\n",
    "dgeData$samples$aMEMwoLArg = c(FALSE,TRUE,TRUE,FALSE,TRUE,TRUE,FALSE)[conditionList]\n",
    "dgeData$samples$LArg = c(FALSE,FALSE,TRUE,FALSE,FALSE,TRUE,FALSE)[conditionList]\n",
    "dgeData$samples$recArg = c(FALSE,FALSE,FALSE,FALSE,FALSE,FALSE,TRUE)[conditionList]\n",
    "dgeData$samples$RANKL = c(FALSE,FALSE,FALSE,TRUE,TRUE,TRUE,TRUE)[conditionList]\n",
    "# dgeData$samples$mouse = c()\n",
    "dgeData$samples"
   ]
  },
  {
   "cell_type": "code",
   "execution_count": null,
   "metadata": {
    "scrolled": true
   },
   "outputs": [],
   "source": [
    "dgeDataLogCPM = cpm(dgeData, log = T)\n",
    "# NB: prior count of 0.25\n",
    "\n",
    "nsamples <- ncol(dgeDataLogCPM)\n",
    "col <- rainbow(nsamples)\n",
    "\n",
    "par(mfrow=c(1,2), bg=\"white\")\n",
    "\n",
    "plot(density(dgeDataLogCPMUnfiltered[,1]), col=col[1], lwd=2, ylim=c(0,0.21), las=2, \n",
    "     main=\"\", xlab=\"\")\n",
    "title(main=\"A. Raw data\", xlab=\"Log-cpm\")\n",
    "abline(v=0, lty=3)\n",
    "for (i in 2:nsamples){\n",
    "   den <- density(dgeDataLogCPMUnfiltered[,i])\n",
    "   lines(den$x, den$y, col=col[i], lwd=2)\n",
    "}\n",
    "legend(\"topright\", rownames(dgeData$samples), text.col=col, bty=\"n\")\n",
    "\n",
    "plot(density(dgeDataLogCPM[,1]), col=col[1], lwd=2, ylim=c(0,0.21), las=2, \n",
    "     main=\"\", xlab=\"\")\n",
    "title(main=\"B. Filtered data\", xlab=\"Log-cpm\")\n",
    "abline(v=0, lty=3)\n",
    "for (i in 2:nsamples){\n",
    " den <- density(dgeDataLogCPM[,i])\n",
    " lines(den$x, den$y, col=col[i], lwd=2)\n",
    "}\n",
    "legend(\"topright\", rownames(dgeData$samples), text.col=col, bty=\"n\")"
   ]
  },
  {
   "cell_type": "code",
   "execution_count": null,
   "metadata": {},
   "outputs": [],
   "source": [
    "dgeData <- calcNormFactors(dgeData, method = \"TMM\")\n",
    "dgeData$samples"
   ]
  },
  {
   "cell_type": "code",
   "execution_count": null,
   "metadata": {
    "scrolled": false
   },
   "outputs": [],
   "source": [
    "sampleLabels = paste0(\"s\", 1:28, \"_\", conditionList)\n",
    "heatmaply(cor(dgeData$counts),symm=T, labRow = sampleLabels, labCol = sampleLabels, branches_lwd = 0.25, margins = c(50,50,5,0), cexRow = 0.6)"
   ]
  },
  {
   "cell_type": "code",
   "execution_count": null,
   "metadata": {
    "scrolled": false
   },
   "outputs": [],
   "source": [
    "par(bg=\"white\")\n",
    "colpal = brewer.pal(7, \"Set2\")\n",
    "plotMDS(dgeData, labels = sampleLabels, col = colpal[as.numeric(dgeData$samples$group)])"
   ]
  },
  {
   "cell_type": "code",
   "execution_count": null,
   "metadata": {},
   "outputs": [],
   "source": [
    "with(data.frame(dgeData$samples), tvr <- aMEM)"
   ]
  },
  {
   "cell_type": "code",
   "execution_count": null,
   "metadata": {
    "scrolled": true
   },
   "outputs": [],
   "source": [
    "design <- with(data.frame(dgeData$samples), \n",
    "#    model.matrix(~0+aMEM+LArg+recArg+RANKL))\n",
    "    model.matrix(~0+group))\n",
    "design"
   ]
  },
  {
   "cell_type": "code",
   "execution_count": null,
   "metadata": {},
   "outputs": [],
   "source": [
    "contr.matrix <- makeContrasts(\n",
    "                        g1v2 = group1 - group2,\n",
    "                        g1v3 = group1 - group3,\n",
    "                        g1v4 = group1 - group4,\n",
    "                        g2v3 = group2 - group3,\n",
    "                        g2v5 = group2 - group5,\n",
    "                        g3v6 = group3 - group6,\n",
    "                        g4v5 = group4 - group5,\n",
    "                        g4v6 = group4 - group6,\n",
    "                        g4v7 = group4 - group7,\n",
    "                        g5v7 = group5 - group7,\n",
    "                        rankl = group6 + group5 + group4 - group3 - group2 - group1,\n",
    "                        arg = group1 + group4 - group5 - group2,\n",
    "                        rescue = group1 + group4 - group6 - group3,\n",
    "                        levels = colnames(design))\n",
    "contr.matrix"
   ]
  },
  {
   "cell_type": "code",
   "execution_count": null,
   "metadata": {
    "scrolled": true
   },
   "outputs": [],
   "source": [
    "par(mfrow=c(1,2), bg=\"white\")\n",
    "v <- voom(dgeData, design, plot=TRUE)\n",
    "vfit <- lmFit(v, design)\n",
    "vfit <- contrasts.fit(vfit, contrasts=contr.matrix)\n",
    "efit <- eBayes(vfit)\n",
    "plotSA(efit, main=\"Final model\")"
   ]
  },
  {
   "cell_type": "code",
   "execution_count": null,
   "metadata": {},
   "outputs": [],
   "source": [
    "summary(decideTests(efit))"
   ]
  },
  {
   "cell_type": "code",
   "execution_count": null,
   "metadata": {
    "scrolled": true
   },
   "outputs": [],
   "source": [
    "tfit <- treat(vfit, lfc=1)\n",
    "dt <- decideTests(tfit)\n",
    "summary(dt)"
   ]
  },
  {
   "cell_type": "code",
   "execution_count": null,
   "metadata": {},
   "outputs": [],
   "source": [
    "de.common <- which(dt[,1]!=0 & dt[,2]!=0)\n",
    "length(de.common)"
   ]
  },
  {
   "cell_type": "code",
   "execution_count": null,
   "metadata": {},
   "outputs": [],
   "source": [
    "head(tfit$genes$SYMBOL[de.common], n=20)"
   ]
  },
  {
   "cell_type": "code",
   "execution_count": null,
   "metadata": {},
   "outputs": [],
   "source": [
    "par(bg = \"white\")\n",
    "vennDiagram(dt[,c(7,9)], circle.col=c(\"turquoise\", \"salmon\"))"
   ]
  },
  {
   "cell_type": "code",
   "execution_count": null,
   "metadata": {
    "scrolled": true
   },
   "outputs": [],
   "source": [
    "par(bg = \"white\")\n",
    "vennDiagram(dt[,c(7,9)], circle.col=c(\"turquoise\", \"salmon\"))"
   ]
  },
  {
   "cell_type": "markdown",
   "metadata": {},
   "source": [
    "Adding recArg1 modified more gene expressions than lack of arginine.  \n",
    "Most of the genes perturbed by lack of arginine are also perturbed by recArg1.  \n",
    "Looking at the difference between arg$^-$ and recArg1$^+$ samples doesn't show additional information,"
   ]
  },
  {
   "cell_type": "markdown",
   "metadata": {},
   "source": [
    "### Effect of RANKL"
   ]
  },
  {
   "cell_type": "code",
   "execution_count": null,
   "metadata": {
    "scrolled": true
   },
   "outputs": [],
   "source": [
    "par(bg = \"white\")\n",
    "vennDiagram(dt[,c(3,5,6,11)], circle.col=c(\"turquoise\", \"salmon\"))"
   ]
  },
  {
   "cell_type": "code",
   "execution_count": null,
   "metadata": {
    "scrolled": false
   },
   "outputs": [],
   "source": [
    "par(bg = \"white\")\n",
    "vennDiagram(dt[,c(3,5,6)], circle.col=c(\"turquoise\", \"salmon\"))"
   ]
  },
  {
   "cell_type": "markdown",
   "metadata": {},
   "source": [
    "### Effect of arginin depletion"
   ]
  },
  {
   "cell_type": "code",
   "execution_count": null,
   "metadata": {
    "scrolled": true
   },
   "outputs": [],
   "source": [
    "par(bg = \"white\")\n",
    "vennDiagram(dt[,c(1,7,12)], circle.col=c(\"turquoise\", \"salmon\"))"
   ]
  },
  {
   "cell_type": "code",
   "execution_count": null,
   "metadata": {
    "scrolled": true
   },
   "outputs": [],
   "source": [
    "par(bg = \"white\")\n",
    "vennDiagram(dt[,c(1,7)], circle.col=c(\"turquoise\", \"salmon\"))"
   ]
  },
  {
   "cell_type": "markdown",
   "metadata": {},
   "source": [
    "### Effect of arginin rescue"
   ]
  },
  {
   "cell_type": "code",
   "execution_count": null,
   "metadata": {
    "scrolled": true
   },
   "outputs": [],
   "source": [
    "par(bg = \"white\")\n",
    "vennDiagram(dt[,c(2,8,13)], circle.col=c(\"turquoise\", \"salmon\"))"
   ]
  },
  {
   "cell_type": "code",
   "execution_count": null,
   "metadata": {
    "scrolled": true
   },
   "outputs": [],
   "source": [
    "par(bg = \"white\")\n",
    "vennDiagram(dt[,c(2,8)], circle.col=c(\"turquoise\", \"salmon\"))"
   ]
  },
  {
   "cell_type": "code",
   "execution_count": null,
   "metadata": {},
   "outputs": [],
   "source": [
    "top4v5 <- topTreat(tfit, coef=7, n=Inf)\n",
    "top4v7 <- topTreat(tfit, coef=9, n=Inf)\n",
    "head(top4v7)"
   ]
  },
  {
   "cell_type": "code",
   "execution_count": null,
   "metadata": {
    "scrolled": true
   },
   "outputs": [],
   "source": [
    "par(bg=\"white\")\n",
    "plotMD(tfit, column=9, status=dt[,9], main=colnames(tfit)[9], \n",
    "       xlim=c(-8,13))"
   ]
  },
  {
   "cell_type": "code",
   "execution_count": null,
   "metadata": {},
   "outputs": [],
   "source": [
    "print(head(v$E[,1:4]))\n",
    "print(head(dgeDataLogCPM[,1:4]))"
   ]
  },
  {
   "cell_type": "code",
   "execution_count": null,
   "metadata": {},
   "outputs": [],
   "source": [
    "top4v7.topgenes <- top4v7$ENTREZID[1:100]\n",
    "i <- which(v$genes$ENTREZID %in% top4v7.topgenes)\n",
    "colPal <- colorRampPalette(c(\"#4A91C4\",\"white\",\"#F09F4E\"))\n",
    "heatmaply(v$E[i,], labCol=sampleLabels, labRow=v$genes$SYMBOL[i], branches_lwd = 0.25, col = colPal, \n",
    "    cexCol = 0.8, cexRow = 0.1, margins = c(80,0,5,0))"
   ]
  },
  {
   "cell_type": "code",
   "execution_count": null,
   "metadata": {
    "scrolled": true
   },
   "outputs": [],
   "source": [
    "top4v7[1:50,c(2,4)]"
   ]
  },
  {
   "cell_type": "code",
   "execution_count": null,
   "metadata": {},
   "outputs": [],
   "source": [
    "dt.strict = dt"
   ]
  },
  {
   "cell_type": "markdown",
   "metadata": {},
   "source": [
    "### Differences between recArg1 and arginine depletion in presence of RANKL\n",
    "Conditions 7 and 5"
   ]
  },
  {
   "cell_type": "code",
   "execution_count": null,
   "metadata": {},
   "outputs": [],
   "source": [
    "suppressWarnings(which(apply(dt.strict[,c(7,9,10)], 1, all)))\n",
    "dt.strict[suppressWarnings(which(apply(dt.strict[,c(7,9,10)], 1, all))),c(7,9,10)]"
   ]
  },
  {
   "cell_type": "markdown",
   "metadata": {},
   "source": [
    "Prostate transmembrane protein, androgen induced 1 (ENTREZ gene 65112) is overexpressed in arginine depletion compared to osteoclasts and recArg1, whereas it's underexpressed when comparing recArg1 to osteoclasts."
   ]
  },
  {
   "cell_type": "code",
   "execution_count": null,
   "metadata": {},
   "outputs": [],
   "source": [
    "top5v7 <- topTreat(tfit, coef=10, n=Inf)\n",
    "head(top5v7)"
   ]
  },
  {
   "cell_type": "code",
   "execution_count": null,
   "metadata": {
    "scrolled": true
   },
   "outputs": [],
   "source": [
    "par(bg=\"white\")\n",
    "plotMD(tfit, column=10, status=dt[,10], main=colnames(tfit)[10], col = c(\"#4A91C4\",\"#F09F4E\"), bg.col = \"grey\", legend = F)"
   ]
  },
  {
   "cell_type": "code",
   "execution_count": null,
   "metadata": {},
   "outputs": [],
   "source": [
    "pdf(\"../MDStrictRecArgVsDepl.pdf\")\n",
    "par(family = \"sans\")\n",
    "plotMD(tfit, column=10, status=dt[,10], main=colnames(tfit)[10], col = c(\"#4A91C4\",\"#F09F4E\"), bg.col = \"grey\", legend = F)\n",
    "dev.off()"
   ]
  },
  {
   "cell_type": "code",
   "execution_count": null,
   "metadata": {},
   "outputs": [],
   "source": [
    "length(top5v7$SYMBOL)"
   ]
  },
  {
   "cell_type": "code",
   "execution_count": null,
   "metadata": {
    "scrolled": true
   },
   "outputs": [],
   "source": [
    "for (i in head(top5v7$SYMBOL, 40)){ cat(paste0(i, \"\\n\")) }"
   ]
  },
  {
   "cell_type": "code",
   "execution_count": null,
   "metadata": {
    "scrolled": true
   },
   "outputs": [],
   "source": [
    "top5v7.topgenes <- top5v7$ENTREZID[1:40]\n",
    "i <- which(v$genes$ENTREZID %in% top5v7.topgenes)\n",
    "colPal <- colorRampPalette(c(\"#4A91C4\",\"white\",\"#F09F4E\"))\n",
    "heatmaply(v$E[i,], labCol=sampleLabels, labRow=v$genes$SYMBOL[i], branches_lwd = 0.25, col = colPal, file = \"../heatmapStrictRecArgVsDepl.pdf\",\n",
    "    cexCol = 0.8, cexRow = 0.1, margins = c(80,0,5,0), ColSideColors=dgeData$samples$group, plot_method = \"plotly\")"
   ]
  },
  {
   "cell_type": "markdown",
   "metadata": {},
   "source": [
    "## Compare results with and without multimapping"
   ]
  },
  {
   "cell_type": "code",
   "execution_count": null,
   "metadata": {},
   "outputs": [],
   "source": [
    "dim(dt.multi)\n",
    "dim(dt.strict)"
   ]
  },
  {
   "cell_type": "code",
   "execution_count": null,
   "metadata": {
    "scrolled": true
   },
   "outputs": [],
   "source": [
    "sum(dt.strict != 0)\n",
    "sum(dt.multi != 0)"
   ]
  },
  {
   "cell_type": "code",
   "execution_count": null,
   "metadata": {},
   "outputs": [],
   "source": [
    "commonGenes = intersect(rownames(dt.strict), rownames(dt.multi))\n",
    "length(commonGenes)"
   ]
  },
  {
   "cell_type": "code",
   "execution_count": null,
   "metadata": {},
   "outputs": [],
   "source": [
    "dt.multi.g4v7 = dt.multi[dt.multi[,9] != 0, 9]\n",
    "dt.strict.g4v7 = dt.strict[dt.strict[,9] != 0, 9]\n",
    "length(dt.multi.g4v7)\n",
    "length(dt.strict.g4v7)"
   ]
  },
  {
   "cell_type": "code",
   "execution_count": null,
   "metadata": {},
   "outputs": [],
   "source": [
    "commonGenes = intersect(names(dt.strict.g4v7), names(dt.multi.g4v7))\n",
    "length(commonGenes)\n",
    "length(commonGenes) / length(union(names(dt.strict.g4v7), names(dt.multi.g4v7)))"
   ]
  },
  {
   "cell_type": "markdown",
   "metadata": {},
   "source": [
    "81% of the genes in the two lists are found in both."
   ]
  },
  {
   "cell_type": "code",
   "execution_count": null,
   "metadata": {},
   "outputs": [],
   "source": [
    "i <- which(v$genes$ENTREZID %in% commonGenes)\n",
    "head(v$E[i,])"
   ]
  },
  {
   "cell_type": "markdown",
   "metadata": {},
   "source": [
    "### Output lists of genes differentially expressed in both cases"
   ]
  },
  {
   "cell_type": "code",
   "execution_count": null,
   "metadata": {},
   "outputs": [],
   "source": [
    "listDownRNA = intersect(names(which(dt.strict.g4v7 == 1)), names(which(dt.multi.g4v7 == 1)))\n",
    "listUpRNA = intersect(names(which(dt.strict.g4v7 == -1)), names(which(dt.multi.g4v7 == -1)))\n",
    "length(listDownRNA)\n",
    "length(listUpRNA)"
   ]
  },
  {
   "cell_type": "code",
   "execution_count": null,
   "metadata": {},
   "outputs": [],
   "source": [
    "i <- which(v$genes$ENTREZID %in% listUpRNA)\n",
    "listUpRNA = v$genes$SYMBOL[i]\n",
    "i <- which(v$genes$ENTREZID %in% listDownRNA)\n",
    "listDownRNA = v$genes$SYMBOL[i]\n",
    "save(file = \"../RNAlists.diff\", listUpRNA, listDownRNA )"
   ]
  },
  {
   "cell_type": "code",
   "execution_count": null,
   "metadata": {
    "scrolled": true
   },
   "outputs": [],
   "source": [
    "for (i in listDownRNA) {\n",
    "    cat(paste0(i, \"\\n\"))\n",
    "}"
   ]
  },
  {
   "cell_type": "code",
   "execution_count": null,
   "metadata": {
    "scrolled": true
   },
   "outputs": [],
   "source": [
    "for (i in listUpRNA) {\n",
    "    cat(paste0(i, \"\\n\"))\n",
    "}"
   ]
  },
  {
   "cell_type": "markdown",
   "metadata": {},
   "source": [
    "### Similarities between recArg1 and arginne depletion"
   ]
  },
  {
   "cell_type": "code",
   "execution_count": null,
   "metadata": {},
   "outputs": [],
   "source": [
    "commonGenes.multi = union(names(which(rowSums(dt.multi[,c(7,9)] == 1) == 2)), \n",
    "names(which(rowSums(dt.multi[,c(7,9)] == -1) == 2)))"
   ]
  },
  {
   "cell_type": "code",
   "execution_count": null,
   "metadata": {},
   "outputs": [],
   "source": [
    "commonGenes.strict = union(names(which(rowSums(dt.strict[,c(7,9)] == 1) == 2)), \n",
    "names(which(rowSums(dt.strict[,c(7,9)] == -1) == 2)))"
   ]
  },
  {
   "cell_type": "code",
   "execution_count": null,
   "metadata": {},
   "outputs": [],
   "source": [
    "i <- which(v$genes$ENTREZID %in% intersect(commonGenes.multi, commonGenes.strict))\n",
    "write.csv(file = \"../starv_depl_common.csv\", row.names = F, quote = F, x = v$genes[i,c(1,2)])"
   ]
  },
  {
   "cell_type": "markdown",
   "metadata": {},
   "source": [
    "### Differences between recArg1 and arginine depletion"
   ]
  },
  {
   "cell_type": "code",
   "execution_count": null,
   "metadata": {
    "scrolled": true
   },
   "outputs": [],
   "source": [
    "dt.multi.g5v7 = dt.multi[dt.multi[,10] != 0, 10]\n",
    "dt.strict.g5v7 = dt.strict[dt.strict[,10] != 0, 10]\n",
    "length(dt.multi.g5v7)\n",
    "length(dt.strict.g5v7)"
   ]
  },
  {
   "cell_type": "code",
   "execution_count": null,
   "metadata": {},
   "outputs": [],
   "source": [
    "commonGenes = intersect(names(dt.strict.g5v7), names(dt.multi.g5v7))\n",
    "length(commonGenes)\n",
    "length(commonGenes) / length(union(names(dt.strict.g5v7), names(dt.multi.g5v7)))"
   ]
  },
  {
   "cell_type": "code",
   "execution_count": null,
   "metadata": {},
   "outputs": [],
   "source": [
    "listDownRecArgVsDepletion = intersect(names(which(dt.strict.g5v7 == 1)), names(which(dt.multi.g5v7 == 1)))\n",
    "listUpRecArgVsDepletion = intersect(names(which(dt.strict.g5v7 == -1)), names(which(dt.multi.g5v7 == -1)))\n",
    "length(listDownRecArgVsDepletion)\n",
    "length(listUpRecArgVsDepletion)\n",
    "\n",
    "i <- which(v$genes$ENTREZID %in% listUpRecArgVsDepletion)\n",
    "listUpRecArgVsDepletion = v$genes$SYMBOL[i]\n",
    "i <- which(v$genes$ENTREZID %in% listDownRecArgVsDepletion)\n",
    "listDownRecArgVsDepletion = v$genes$SYMBOL[i]\n",
    "save(file = \"../RNAlistsRecArg1VsDepletion.diff\", listUpRNA, listDownRNA )"
   ]
  },
  {
   "cell_type": "code",
   "execution_count": null,
   "metadata": {
    "scrolled": true
   },
   "outputs": [],
   "source": [
    "for (i in listDownRecArgVsDepletion) {\n",
    "    cat(paste0(i, \"\\n\"))\n",
    "}"
   ]
  },
  {
   "cell_type": "code",
   "execution_count": null,
   "metadata": {
    "scrolled": true
   },
   "outputs": [],
   "source": [
    "i <- which(v$genes$SYMBOL %in% listDownRecArgVsDepletion)\n",
    "head(v$E[i,which(dgeData$samples$group == 5)])\n",
    "head(v$E[i,which(dgeData$samples$group == 7)])"
   ]
  },
  {
   "cell_type": "markdown",
   "metadata": {},
   "source": [
    "Corresponding [Enrichr](http://amp.pharm.mssm.edu/Enrichr/enrich?dataset=3uzqw)"
   ]
  },
  {
   "cell_type": "code",
   "execution_count": null,
   "metadata": {
    "scrolled": true
   },
   "outputs": [],
   "source": [
    "for (i in listUpRecArgVsDepletion) {\n",
    "    cat(paste0(i, \"\\n\"))\n",
    "}"
   ]
  },
  {
   "cell_type": "markdown",
   "metadata": {},
   "source": [
    "### Differences between RANKL effect in presence and absence of arginine\n",
    "Intersection between comparisons 6 (3/6) and 3 (1/4) against comparison 5 (2/5)"
   ]
  },
  {
   "cell_type": "code",
   "execution_count": null,
   "metadata": {},
   "outputs": [],
   "source": [
    "length(notUpDeplGenes1)\n",
    "length(notDownDeplGenes1)\n",
    "length(upDeplGenes1)\n",
    "length(downDeplGenes1)\n",
    "# We find back the 217 genes differentially regulated in presence of arginine when adding RANKL and the 14 in absence of arginine, \n",
    "# as shown on corresponding Venn diagram"
   ]
  },
  {
   "cell_type": "code",
   "execution_count": null,
   "metadata": {},
   "outputs": [],
   "source": [
    "upDeplGenes2 = names(which((dt.strict[,3] == 1) & (dt.strict[,6] == 1) & (dt.strict[,5] == 0)))\n",
    "downDeplGenes2 = names(which((dt.strict[,3] == -1) & (dt.strict[,6] == -1) & (dt.strict[,5] == 0)))\n",
    "notUpDeplGenes2 = names(which((dt.strict[,3] == 0) & (dt.strict[,6] == 0) & (dt.strict[,5] == 1)))\n",
    "notDownDeplGenes2 = names(which((dt.strict[,3] == 0) & (dt.strict[,6] == 0) & (dt.strict[,5] == -1)))"
   ]
  },
  {
   "cell_type": "code",
   "execution_count": null,
   "metadata": {},
   "outputs": [],
   "source": [
    "notUpDeplGenes = intersect(notUpDeplGenes1, notUpDeplGenes2)\n",
    "notDownDeplGenes = intersect(notDownDeplGenes1, notDownDeplGenes2)\n",
    "upDeplGenes = intersect(upDeplGenes1, upDeplGenes2)\n",
    "downDeplGenes = intersect(downDeplGenes1, downDeplGenes2)"
   ]
  },
  {
   "cell_type": "code",
   "execution_count": null,
   "metadata": {},
   "outputs": [],
   "source": [
    "length(notUpDeplGenes)\n",
    "length(notDownDeplGenes)\n",
    "length(upDeplGenes)\n",
    "length(downDeplGenes)"
   ]
  },
  {
   "cell_type": "code",
   "execution_count": null,
   "metadata": {
    "scrolled": true
   },
   "outputs": [],
   "source": [
    "for (i in v$genes$SYMBOL[which(v$genes$ENTREZID %in% downDeplGenes)]){\n",
    "    cat(paste0(i, \"\\n\"))\n",
    "}\n",
    "for (i in v$genes$SYMBOL[which(v$genes$ENTREZID %in% notUpDeplGenes)]){\n",
    "    cat(paste0(i, \"\\n\"))\n",
    "}\n",
    "write.csv(file = \"../RANKL_effect_reduced.csv\", row.names = F,\n",
    "          x = c(v$genes$SYMBOL[which(v$genes$ENTREZID %in% downDeplGenes)], v$genes$SYMBOL[which(v$genes$ENTREZID %in% notUpDeplGenes)]))"
   ]
  },
  {
   "cell_type": "code",
   "execution_count": null,
   "metadata": {
    "scrolled": true
   },
   "outputs": [],
   "source": [
    "for (i in v$genes$SYMBOL[which(v$genes$ENTREZID %in% upDeplGenes)]){\n",
    "    cat(paste0(i, \"\\n\"))\n",
    "}\n",
    "for (i in v$genes$SYMBOL[which(v$genes$ENTREZID %in% notDownDeplGenes)]){\n",
    "    cat(paste0(i, \"\\n\"))\n",
    "}\n",
    "write.csv(file = \"../RANKL_effect_increased.csv\", row.names = F,\n",
    "         x = c(v$genes$SYMBOL[which(v$genes$ENTREZID %in% upDeplGenes)], v$genes$SYMBOL[which(v$genes$ENTREZID %in% notDownDeplGenes)]))"
   ]
  },
  {
   "cell_type": "markdown",
   "metadata": {},
   "source": [
    "Enrich links:  \n",
    "[upregulated](http://amp.pharm.mssm.edu/Enrichr/enrich?dataset=3v95x)  \n",
    "[downregulated](http://amp.pharm.mssm.edu/Enrichr/enrich?dataset=3v96c)"
   ]
  },
  {
   "cell_type": "code",
   "execution_count": null,
   "metadata": {},
   "outputs": [],
   "source": [
    "print(which(apply(dt.multi[,c(7,9,10)]!=0, 1, all)))\n",
    "dt.multi[(which(apply(dt.multi[,c(7,9,10)]!=0, 1, all))),]\n",
    "# Gene 65112 (Pmepa1, prostate transmembrane protein) is up by arg depletion and down by recArg1"
   ]
  },
  {
   "cell_type": "markdown",
   "metadata": {},
   "source": [
    "### Differences between MCSF only and MCSF + RANKL"
   ]
  },
  {
   "cell_type": "code",
   "execution_count": null,
   "metadata": {},
   "outputs": [],
   "source": [
    "ranklOnlyGenes = intersect(names(which((dt.strict[,3] != 0))), names(which((dt.multi[,3] != 0))))\n",
    "length(ranklOnlyGenes)"
   ]
  },
  {
   "cell_type": "code",
   "execution_count": null,
   "metadata": {},
   "outputs": [],
   "source": [
    "for (i in v$genes$SYMBOL[which(v$genes$ENTREZID %in% ranklOnlyGenes)]){\n",
    "    cat(paste0(i, \"\\n\"))\n",
    "}"
   ]
  },
  {
   "cell_type": "code",
   "execution_count": null,
   "metadata": {},
   "outputs": [],
   "source": [
    "search_kegg_organism('mmu', by='kegg_code')"
   ]
  },
  {
   "cell_type": "code",
   "execution_count": null,
   "metadata": {},
   "outputs": [],
   "source": [
    "# Plot enrichment from the clusterProfiler package\n",
    "plotEnrich <- function(enrichDF, plotTitle, outputName, labCritOR = 40, labCritLogP = 2, labCritRand = 0.3, \n",
    "                            legendX = 0.8, legendY = 0.5, repPad = 0.3, repForce = 20){\n",
    "    nbMapped = as.numeric(strsplit(enrichDF[1,]$GeneRatio, \"/\")[[1]][2])\n",
    "    nbBg = as.numeric(strsplit(enrichDF[1,]$BgRatio, \"/\")[[1]][2])\n",
    "    enrichDF$intergenes <- sapply(enrichDF$GeneRatio, function(x) as.numeric(strsplit(x, \"/\")[[1]][1]))\n",
    "    enrichDF$setgenes <- sapply(enrichDF$BgRatio, function(x) as.numeric(strsplit(x, \"/\")[[1]][1]))\n",
    "    enrichDF$p.adjust <- -log10(enrichDF$p.adjust)\n",
    "    attach(enrichDF)\n",
    "    enrichDF$oddsratio <- (intergenes*(nbBg-(nbMapped - intergenes)))/((nbMapped - intergenes)*(setgenes - intergenes)) \n",
    "    detach(enrichDF)\n",
    "    attach(enrichDF)\n",
    "    enrichDF$labs <- ifelse((oddsratio>labCritOR)|(p.adjust > labCritLogP), Description, '') # Remove labels of points with low odds-ratios\n",
    "    enrichDF$labs <- ifelse(runif(length(oddsratio))>labCritRand, enrichDF$labs, '') # Remove randomly remaining points for readability\n",
    "    colpal = colorRampPalette(c(\"#000000\", \"#FF0000\"))(max(intergenes))\n",
    "    gp <- ggplot(enrichDF, aes(y=oddsratio, x=p.adjust, color = intergenes, label = labs), environment = environment()) +\n",
    "      scale_colour_gradientn(colours = colpal, limits=c(0,max(intergenes)),\n",
    "      breaks=c(0,round(max(max(intergenes))/2),max(max(intergenes))), name = \"Shared genes\") + \n",
    "      geom_point(size = 5) + theme_light() + theme(text=element_text(size=26, family=\"sans\"), \n",
    "      panel.grid.minor=element_blank(), legend.position = c(legendX, legendY), legend.spacing = unit(10, \"cm\"),\n",
    "      legend.background = element_rect(size=0.3, color = \"black\"), legend.margin=margin(5,5,10,5)) +  \n",
    "      xlab(\"-log10(corrected p-value)\") + ylab(\"Odds-ratio\") + ggtitle(plotTitle) + \n",
    "      geom_text_repel(size = 6.5, point.padding = repPad, force = repForce, segment.alpha = 0.5)\n",
    "    detach(enrichDF)\n",
    "    ggsave(outputName, gp)\n",
    "}"
   ]
  },
  {
   "cell_type": "code",
   "execution_count": null,
   "metadata": {},
   "outputs": [],
   "source": [
    "enrichRanklOnly <- as.data.frame(enrichKEGG(gene = ranklOnlyGenes, organism = 'mmu', pvalueCutoff = 1, qvalueCutoff = 0.1))\n",
    "\n",
    "plotEnrich(enrichRanklOnly, \"KEGG enrichment with RANKL\", \"../enrichment_kegg.svg\", labCritOR = 4, labCritLogP = 100, labCritRand = 0.3, legendY = 0.175)"
   ]
  },
  {
   "cell_type": "code",
   "execution_count": null,
   "metadata": {},
   "outputs": [],
   "source": [
    "# Import updated list of kegg pathways\n",
    "keggPath = fromJSON(\"https://www.kegg.jp/kegg-bin/download_htext?htext=mmu00001&format=json\", flatten = F)"
   ]
  },
  {
   "cell_type": "code",
   "execution_count": null,
   "metadata": {},
   "outputs": [],
   "source": [
    "indexPathMetab = which(keggPath$children$name == '09100 Metabolism')\n",
    "pathMetab = unlist(sapply(keggPath$children$children[[indexPathMetab]]$children, function(x) str_match(x$name, \"mmu\\\\d{5}\")))\n",
    "pathMetab = na.exclude(pathMetab)"
   ]
  },
  {
   "cell_type": "code",
   "execution_count": null,
   "metadata": {},
   "outputs": [],
   "source": [
    "enrichRanklOnly <- as.data.frame(enrichKEGG(gene = ranklOnlyGenes, organism = 'mmu', pvalueCutoff = 1, qvalueCutoff = 1))\n",
    "# We filter to keep only metabolism pathways\n",
    "enrichRanklOnly = enrichRanklOnly[enrichRanklOnly$ID %in% pathMetab,]\n",
    "\n",
    "plotEnrich(enrichRanklOnly, \"Metabolism perturbed by RANKL\", \"../enrichment_kegg_metabo.svg\", labCritOR = 3, \n",
    "    labCritLogP = 1000, labCritRand = 0, legendY = 0.175, repPad = 0.4, repForce = 10)"
   ]
  },
  {
   "cell_type": "code",
   "execution_count": null,
   "metadata": {},
   "outputs": [],
   "source": [
    "enrichGoMF = enrichGO(ranklOnlyGenes, 'org.Mm.eg.db')\n",
    "enrichGoCC = enrichGO(ranklOnlyGenes, 'org.Mm.eg.db', ont = \"CC\")\n",
    "enrichGoBP = enrichGO(ranklOnlyGenes, 'org.Mm.eg.db', ont = \"BP\")"
   ]
  },
  {
   "cell_type": "code",
   "execution_count": null,
   "metadata": {},
   "outputs": [],
   "source": [
    "plotEnrich(as.data.frame(enrichGoMF), \"GO-MF enrichment\", \"../enrichment_goMF_rankl.svg\", labCritOR = 20, labCritLogP = 2.5, labCritRand = 0, \n",
    "           legendX = 0.21, legendY = 0.82)\n",
    "plotEnrich(as.data.frame(enrichGoBP), \"GO-BP enrichment\", \"../enrichment_goBP_rankl.svg\", labCritOR = 30, labCritLogP = 9, labCritRand = 0, legendY = 0.6)"
   ]
  },
  {
   "cell_type": "markdown",
   "metadata": {},
   "source": [
    "### Enrichment of genes differentially expressed with both recArg1 and depletion"
   ]
  },
  {
   "cell_type": "code",
   "execution_count": null,
   "metadata": {},
   "outputs": [],
   "source": [
    "sigGenes = intersect(names(which(((dt.multi[,7] == 1) & (dt.multi[,9] == 1))|((dt.multi[,7] == -1) & (dt.multi[,9] == -1)))),\n",
    "          names(which(((dt.strict[,7] == 1) & (dt.strict[,9] == 1))|((dt.strict[,7] == -1) & (dt.strict[,9] == -1)))))\n",
    "length(sigGenes)"
   ]
  },
  {
   "cell_type": "code",
   "execution_count": null,
   "metadata": {},
   "outputs": [],
   "source": [
    "enrichStarv <- as.data.frame(enrichKEGG(gene = sigGenes, organism = 'mmu', pvalueCutoff = 1, qvalueCutoff = 0.1))\n",
    "plotEnrich(enrichStarv, \"KEGG enrichment\", \"../enrichment_kegg_starv.svg\", labCritLogP = 0, labCritRand = 0, legendY = 0.475)"
   ]
  },
  {
   "cell_type": "code",
   "execution_count": null,
   "metadata": {},
   "outputs": [],
   "source": [
    "enrichGoMF = enrichGO(sigGenes, 'org.Mm.eg.db', pvalueCutoff = 1, qvalueCutoff = 0.1)\n",
    "enrichGoCC = enrichGO(sigGenes, 'org.Mm.eg.db', ont = \"CC\", pvalueCutoff = 1, qvalueCutoff = 0.1) # Empty\n",
    "enrichGoBP = enrichGO(sigGenes, 'org.Mm.eg.db', ont = \"BP\", pvalueCutoff = 1, qvalueCutoff = 0.1)"
   ]
  },
  {
   "cell_type": "code",
   "execution_count": null,
   "metadata": {},
   "outputs": [],
   "source": [
    "svg(\"../enrichment_gomf_starv.svg\")\n",
    "enrichStarv <- as.data.frame(enrichGoMF)\n",
    "nbMapped = as.numeric(strsplit(enrichStarv[1,]$GeneRatio, \"/\")[[1]][2])\n",
    "nbBg = as.numeric(strsplit(enrichStarv[1,]$BgRatio, \"/\")[[1]][2])\n",
    "enrichStarv$intergenes <- sapply(enrichStarv$GeneRatio, function(x) as.numeric(strsplit(x, \"/\")[[1]][1]))\n",
    "enrichStarv$setgenes <- sapply(enrichStarv$BgRatio, function(x) as.numeric(strsplit(x, \"/\")[[1]][1]))\n",
    "enrichStarv$p.adjust <- -log10(enrichStarv$p.adjust)\n",
    "attach(enrichStarv)\n",
    "enrichStarv$oddsratio <- (intergenes*(nbBg-(nbMapped - intergenes)))/((nbMapped - intergenes)*(setgenes - intergenes)) \n",
    "detach(enrichStarv)\n",
    "attach(enrichStarv)\n",
    "enrichStarv$labs <- ifelse((oddsratio>40)|(p.adjust > 2) ,Description,'') # Remove labels of points with low odds-ratios\n",
    "print(enrichStarv$labs[3])\n",
    "    enrichStarv$labs[3] <- 'oxidoreductase activity' # Shorten long term  not fitting in view\n",
    "colpal = colorRampPalette(c(\"#000000\", \"#FF0000\"))(max(intergenes))\n",
    "ggplot(enrichStarv, aes(y=oddsratio, x=p.adjust, color = intergenes, label = labs)) +\n",
    "  scale_colour_gradientn(colours = colpal, limits=c(0,max(intergenes)),\n",
    "  breaks=c(0,round(max(max(intergenes))/2),max(max(intergenes))), name = \"Shared genes\") + \n",
    "  geom_point(size = 5) + theme_light() + theme(text=element_text(size=26, family=\"sans\"), \n",
    "  panel.grid.minor=element_blank(), legend.position = c(0.8, 0.475), legend.spacing = unit(10, \"cm\"),\n",
    "  legend.background = element_rect(size=0.3, color = \"black\"), legend.margin=margin(5,5,10,5)) +  \n",
    "  xlab(\"-log10(corrected p-value)\") + ylab(\"Odds-ratio\") + ggtitle(\"GO-MF enrichment\") + \n",
    "  geom_text_repel(size = 6.5, point.padding = 0.3, force = 20, segment.alpha = 0.5)\n",
    "detach(enrichStarv)\n",
    "dev.off()"
   ]
  },
  {
   "cell_type": "markdown",
   "metadata": {},
   "source": [
    "### Which differentially expressed genes are annotated?"
   ]
  },
  {
   "cell_type": "code",
   "execution_count": null,
   "metadata": {},
   "outputs": [],
   "source": [
    "diffEntrez1v4 = intersect(names(which(dt.strict[,3] != 0)), names(which(dt.multi[,3] != 0)))\n",
    "diffEntrez4v7 = intersect(names(which(dt.strict[,9] != 0)), names(which(dt.multi[,9] != 0)))\n",
    "genelists = list(as.character(allSlcsEntrez$NCBI.gene.ID), kegg00010, kegg00020, kegg00220, kegg00330)\n",
    "sapply(genelists, function(x) top1v4[top1v4$ENTREZID %in% diffEntrez1v4[which(diffEntrez1v4 %in% x)],2])\n",
    "sapply(genelists, function(x) top4v7[top4v7$ENTREZID %in% diffEntrez4v7[which(diffEntrez4v7 %in% x)],2])"
   ]
  },
  {
   "cell_type": "code",
   "execution_count": null,
   "metadata": {},
   "outputs": [],
   "source": [
    "sessionInfo()"
   ]
  }
 ],
 "metadata": {
  "kernelspec": {
   "display_name": "R",
   "language": "R",
   "name": "ir"
  },
  "language_info": {
   "codemirror_mode": "r",
   "file_extension": ".r",
   "mimetype": "text/x-r-source",
   "name": "R",
   "pygments_lexer": "r",
   "version": "3.5.1"
  },
  "toc": {
   "base_numbering": 1,
   "nav_menu": {},
   "number_sections": false,
   "sideBar": false,
   "skip_h1_title": false,
   "title_cell": "Table of Contents",
   "title_sidebar": "Contents",
   "toc_cell": false,
   "toc_position": {},
   "toc_section_display": false,
   "toc_window_display": false
  }
 },
 "nbformat": 4,
 "nbformat_minor": 2
}
