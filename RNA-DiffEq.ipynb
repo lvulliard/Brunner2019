{
 "cells": [
  {
   "cell_type": "markdown",
   "metadata": {},
   "source": [
    "# Differential expression analysis"
   ]
  },
  {
   "cell_type": "markdown",
   "metadata": {},
   "source": [
    "## Install and import dependencies"
   ]
  },
  {
   "cell_type": "code",
   "execution_count": null,
   "metadata": {},
   "outputs": [],
   "source": [
    "source(\"https://bioconductor.org/biocLite.R\")\n",
    "biocLite()"
   ]
  },
  {
   "cell_type": "code",
   "execution_count": null,
   "metadata": {},
   "outputs": [],
   "source": [
    "biocLite(c(\"limma\", \"Glimma\", \"edgeR\"))"
   ]
  },
  {
   "cell_type": "code",
   "execution_count": null,
   "metadata": {},
   "outputs": [],
   "source": [
    "library(limma)\n",
    "library(Glimma)\n",
    "library(edgeR)"
   ]
  },
  {
   "cell_type": "code",
   "execution_count": null,
   "metadata": {},
   "outputs": [],
   "source": [
    "getwd()"
   ]
  },
  {
   "cell_type": "markdown",
   "metadata": {},
   "source": [
    "## Example analysis\n",
    "https://www.bioconductor.org/help/workflows/RNAseq123/"
   ]
  },
  {
   "cell_type": "code",
   "execution_count": null,
   "metadata": {
    "scrolled": true
   },
   "outputs": [],
   "source": [
    "biocLite(\"Mus.musculus\")\n",
    "library(Mus.musculus)"
   ]
  },
  {
   "cell_type": "markdown",
   "metadata": {},
   "source": [
    "### Load input files"
   ]
  },
  {
   "cell_type": "code",
   "execution_count": null,
   "metadata": {
    "collapsed": true
   },
   "outputs": [],
   "source": [
    "url <- \"https://www.ncbi.nlm.nih.gov/geo/download/?acc=GSE63310&format=file\"\n",
    "utils::download.file(url, destfile=\"GSE63310_RAW.tar\", mode=\"wb\") \n",
    "utils::untar(\"GSE63310_RAW.tar\", exdir = \".\")\n",
    "files <- c(\"GSM1545535_10_6_5_11.txt\", \"GSM1545536_9_6_5_11.txt\", \"GSM1545538_purep53.txt\",\n",
    "  \"GSM1545539_JMS8-2.txt\", \"GSM1545540_JMS8-3.txt\", \"GSM1545541_JMS8-4.txt\",\n",
    "  \"GSM1545542_JMS8-5.txt\", \"GSM1545544_JMS9-P7c.txt\", \"GSM1545545_JMS9-P8c.txt\")\n",
    "for(i in paste(files, \".gz\", sep=\"\"))\n",
    "  R.utils::gunzip(i, overwrite=TRUE)"
   ]
  },
  {
   "cell_type": "code",
   "execution_count": null,
   "metadata": {},
   "outputs": [],
   "source": [
    "files <- c(\"GSM1545535_10_6_5_11.txt\", \"GSM1545536_9_6_5_11.txt\", \n",
    "   \"GSM1545538_purep53.txt\", \"GSM1545539_JMS8-2.txt\", \n",
    "   \"GSM1545540_JMS8-3.txt\", \"GSM1545541_JMS8-4.txt\", \n",
    "   \"GSM1545542_JMS8-5.txt\", \"GSM1545544_JMS9-P7c.txt\", \n",
    "   \"GSM1545545_JMS9-P8c.txt\")\n",
    "# Show data format\n",
    "read.delim(files[1], nrow=5)"
   ]
  },
  {
   "cell_type": "code",
   "execution_count": null,
   "metadata": {},
   "outputs": [],
   "source": [
    "# Directly construct matrix of gene count per condition\n",
    "x <- readDGE(files, columns=c(1,3))\n",
    "class(x)\n",
    "dim(x)"
   ]
  },
  {
   "cell_type": "code",
   "execution_count": null,
   "metadata": {},
   "outputs": [],
   "source": [
    "# Input sample annotation\n",
    "samplenames <- substring(colnames(x), 12, nchar(colnames(x)))\n",
    "colnames(x) <- samplenames\n",
    "group <- as.factor(c(\"LP\", \"ML\", \"Basal\", \"Basal\", \"ML\", \"LP\", \n",
    "                     \"Basal\", \"ML\", \"LP\"))\n",
    "x$samples$group <- group\n",
    "lane <- as.factor(rep(c(\"L004\",\"L006\",\"L008\"), c(3,4,2)))\n",
    "x$samples$lane <- lane\n",
    "x$samples"
   ]
  },
  {
   "cell_type": "code",
   "execution_count": null,
   "metadata": {},
   "outputs": [],
   "source": [
    "# Input gene annotation\n",
    "geneid <- rownames(x)\n",
    "genes <- select(Mus.musculus, keys=geneid, columns=c(\"SYMBOL\", \"TXCHROM\"), \n",
    "                keytype=\"ENTREZID\")\n",
    "# Choose to keep only the first chromosome position of each gene\n",
    "genes <- genes[!duplicated(genes$ENTREZID),]\n",
    "head(genes)\n",
    "\n",
    "x$genes <- genes"
   ]
  },
  {
   "cell_type": "markdown",
   "metadata": {},
   "source": [
    "### Transform and filter data on abundance\n",
    "CPM (counts per million) are just normalized by abundance in sample\n",
    "Allows to compare between samples but not across genes (no normalization on gene length)"
   ]
  },
  {
   "cell_type": "code",
   "execution_count": null,
   "metadata": {},
   "outputs": [],
   "source": [
    "# head(10**6 * x$counts[,3] / colSums(x$counts)[3])\n",
    "# cpm(x)\n",
    "xCPM = cpm(x, log = T)\n",
    "xLogCPM = cpm(x, log = T)\n",
    "# NB: prior count of 0.25"
   ]
  },
  {
   "cell_type": "code",
   "execution_count": null,
   "metadata": {},
   "outputs": [],
   "source": [
    "table(rowSums(x$counts==0)==9)"
   ]
  },
  {
   "cell_type": "code",
   "execution_count": null,
   "metadata": {},
   "outputs": [],
   "source": [
    "keep.exprs <- rowSums(cpm>1)>=3\n",
    "x <- x[keep.exprs,, keep.lib.sizes=FALSE]\n",
    "dim(x)"
   ]
  },
  {
   "cell_type": "markdown",
   "metadata": {},
   "source": [
    "## RecArg1 effect analysis"
   ]
  },
  {
   "cell_type": "code",
   "execution_count": null,
   "metadata": {
    "collapsed": true
   },
   "outputs": [],
   "source": [
    "# Load data (FPKM / gene / condition)\n",
    "rnaData = read.csv(\"RNAseq.csv\", sep = \";\", dec = \",\")"
   ]
  },
  {
   "cell_type": "code",
   "execution_count": null,
   "metadata": {},
   "outputs": [],
   "source": [
    "# Convert to DGE object\n",
    "dgeData = DGEList(counts = rnaData[,2:29], genes = rnaData[1], group = rep(1:7, 4))"
   ]
  },
  {
   "cell_type": "code",
   "execution_count": null,
   "metadata": {},
   "outputs": [],
   "source": [
    "dim(dgeData)"
   ]
  },
  {
   "cell_type": "code",
   "execution_count": null,
   "metadata": {},
   "outputs": [],
   "source": [
    "# Input sample annotation\n",
    "dgeData$samples$aMEM = rep(c(TRUE,FALSE,FALSE,TRUE,FALSE,FALSE,TRUE),4)\n",
    "dgeData$samples$aMEMwoLArg = rep(c(FALSE,TRUE,TRUE,FALSE,TRUE,TRUE,FALSE),4)\n",
    "dgeData$samples$LArg = rep(c(FALSE,FALSE,TRUE,FALSE,FALSE,TRUE,FALSE),4)\n",
    "dgeData$samples$recArg = rep(c(FALSE,FALSE,FALSE,FALSE,FALSE,FALSE,TRUE),4)\n",
    "dgeData$samples$RANKL = rep(c(FALSE,FALSE,FALSE,TRUE,TRUE,TRUE,TRUE),4)\n",
    "dgeData$samples$mouse = c(rep(1,7), rep(2,7), rep(3,7), rep(4,7))\n",
    "dgeData$samples"
   ]
  },
  {
   "cell_type": "code",
   "execution_count": null,
   "metadata": {
    "collapsed": true
   },
   "outputs": [],
   "source": [
    "fpkmToTpm <- function(fpkm)\n",
    "{\n",
    "    exp(log(fpkm) - log(sum(fpkm)) + log(1e6))\n",
    "}"
   ]
  },
  {
   "cell_type": "code",
   "execution_count": null,
   "metadata": {},
   "outputs": [],
   "source": [
    "dgeData"
   ]
  },
  {
   "cell_type": "code",
   "execution_count": null,
   "metadata": {
    "collapsed": true
   },
   "outputs": [],
   "source": []
  }
 ],
 "metadata": {
  "kernelspec": {
   "display_name": "R",
   "language": "R",
   "name": "ir"
  },
  "language_info": {
   "codemirror_mode": "r",
   "file_extension": ".r",
   "mimetype": "text/x-r-source",
   "name": "R",
   "pygments_lexer": "r",
   "version": "3.4.1"
  }
 },
 "nbformat": 4,
 "nbformat_minor": 2
}
